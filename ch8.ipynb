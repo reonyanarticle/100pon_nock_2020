{
 "cells": [
  {
   "cell_type": "markdown",
   "metadata": {},
   "source": [
    "# 第8章: ニューラルネット"
   ]
  },
  {
   "cell_type": "markdown",
   "metadata": {},
   "source": [
    "## 70.単語ベクトルの和による特徴量"
   ]
  },
  {
   "cell_type": "code",
   "execution_count": 1,
   "metadata": {},
   "outputs": [],
   "source": [
    "import gensim\n",
    "import numpy as np\n",
    "import pandas as pd\n",
    "import re"
   ]
  },
  {
   "cell_type": "code",
   "execution_count": 2,
   "metadata": {},
   "outputs": [],
   "source": [
    "#configs\n",
    "TRAIN_DATA_PATH ='./ch6_folder/save_data/train.csv'\n",
    "VALID_DATA_PATH = './ch6_folder/save_data/valid.csv'\n",
    "TEST_DATA_PATH = './ch6_folder/save_data/test.csv'\n",
    "GOOGLE_MODEL_PATH = './ch7_folder/model/GoogleNews-vectors-negative300.bin'"
   ]
  },
  {
   "cell_type": "code",
   "execution_count": 3,
   "metadata": {},
   "outputs": [],
   "source": [
    "model = gensim.models.KeyedVectors.load_word2vec_format(GOOGLE_MODEL_PATH, binary=True)"
   ]
  },
  {
   "cell_type": "code",
   "execution_count": 4,
   "metadata": {},
   "outputs": [
    {
     "name": "stderr",
     "output_type": "stream",
     "text": [
      "/Users/yoshidatomoya/anaconda3/lib/python3.7/site-packages/ipykernel_launcher.py:1: DeprecationWarning: Call to deprecated `wv` (Attribute will be removed in 4.0.0, use self instead).\n",
      "  \"\"\"Entry point for launching an IPython kernel.\n"
     ]
    }
   ],
   "source": [
    "model_vocab_list = list(model.wv.vocab.keys())"
   ]
  },
  {
   "cell_type": "markdown",
   "metadata": {},
   "source": [
    "記事の見出しの単語列 $(w_{i,1}, \\ldots, w_{i,T_i})$ に対して、embeddingをおこない、以下のような特徴ベクトルを生成すると書いてあります。\n",
    "\n",
    "$$\n",
    "    {x}_i = \\frac{1}{T_i}\\sum_{1 \\leq t \\leq T_i} {emb}(w_{i,t}) \n",
    "$$\n",
    "\n",
    "これは、各単語数に関する平均を特徴量にするということですね。"
   ]
  },
  {
   "cell_type": "code",
   "execution_count": 5,
   "metadata": {},
   "outputs": [],
   "source": [
    "CATEGORY_TAG = {'b': 0, 't': 1, 'e': 2, 'm': 3}"
   ]
  },
  {
   "cell_type": "code",
   "execution_count": 6,
   "metadata": {},
   "outputs": [],
   "source": [
    "df_train = pd.read_csv(TRAIN_DATA_PATH)\n",
    "df_valid = pd.read_csv(VALID_DATA_PATH)\n",
    "df_test = pd.read_csv(TEST_DATA_PATH)"
   ]
  },
  {
   "cell_type": "code",
   "execution_count": 7,
   "metadata": {},
   "outputs": [],
   "source": [
    "train_titles_list = [title.split() for title in df_train['TITLE'].values.tolist()]\n",
    "valid_titles_list = [title.split() for title in df_valid['TITLE'].values.tolist()]\n",
    "test_titles_list = [title.split() for title in df_test['TITLE'].values.tolist()]"
   ]
  },
  {
   "cell_type": "code",
   "execution_count": 8,
   "metadata": {},
   "outputs": [
    {
     "name": "stdout",
     "output_type": "stream",
     "text": [
      "10672 1334 1334\n"
     ]
    }
   ],
   "source": [
    "train_length = len(train_titles_list)\n",
    "valid_length = len(valid_titles_list)\n",
    "test_length = len(test_titles_list)\n",
    "print(train_length, valid_length, test_length)"
   ]
  },
  {
   "cell_type": "code",
   "execution_count": 9,
   "metadata": {},
   "outputs": [],
   "source": [
    "def tokenize(word: str) -> str:\n",
    "    \"\"\"\n",
    "    \"\"\"\n",
    "    word = word.replace('-', '')\n",
    "    word = word.replace('.', '')\n",
    "    word = word.replace('\\'', '')\n",
    "    word = word.replace(':', '')\n",
    "    return word"
   ]
  },
  {
   "cell_type": "code",
   "execution_count": 10,
   "metadata": {},
   "outputs": [],
   "source": [
    "def get_embedding_matrix(titles_list):\n",
    "    feature_vecs_list = []\n",
    "    \n",
    "    for title in titles_list:\n",
    "        tmp_vecs_list =[]\n",
    "        for word in title:\n",
    "            word = tokenize(word)\n",
    "            try:\n",
    "                vec = model[word]\n",
    "                tmp_vecs_list.append(vec)\n",
    "            except KeyError as e:\n",
    "                pass\n",
    "        \n",
    "        if len(tmp_vecs_list) == 1:\n",
    "            feature_vec = tmp_vecs_list[0]\n",
    "        else:\n",
    "            np_vecs = np.array(tmp_vecs_list)\n",
    "            feature_vec = np.mean(np_vecs, axis=0)\n",
    "        feature_vecs_list.append(feature_vec)\n",
    "    return np.array(feature_vecs_list)"
   ]
  },
  {
   "cell_type": "code",
   "execution_count": 11,
   "metadata": {},
   "outputs": [],
   "source": [
    "X_train = get_embedding_matrix(train_titles_list)\n",
    "X_valid = get_embedding_matrix(valid_titles_list)\n",
    "X_test = get_embedding_matrix(test_titles_list)"
   ]
  },
  {
   "cell_type": "code",
   "execution_count": 12,
   "metadata": {},
   "outputs": [
    {
     "data": {
      "text/plain": [
       "(10672, 300)"
      ]
     },
     "execution_count": 12,
     "metadata": {},
     "output_type": "execute_result"
    }
   ],
   "source": [
    "X_train.shape"
   ]
  },
  {
   "cell_type": "code",
   "execution_count": 13,
   "metadata": {},
   "outputs": [
    {
     "data": {
      "text/plain": [
       "(1334, 300)"
      ]
     },
     "execution_count": 13,
     "metadata": {},
     "output_type": "execute_result"
    }
   ],
   "source": [
    "X_valid.shape"
   ]
  },
  {
   "cell_type": "code",
   "execution_count": 14,
   "metadata": {},
   "outputs": [
    {
     "data": {
      "text/plain": [
       "(1334, 300)"
      ]
     },
     "execution_count": 14,
     "metadata": {},
     "output_type": "execute_result"
    }
   ],
   "source": [
    "X_test.shape"
   ]
  },
  {
   "cell_type": "code",
   "execution_count": 15,
   "metadata": {},
   "outputs": [],
   "source": [
    "y_train= pd.read_csv(TRAIN_DATA_PATH)['CATEGORY'].map(CATEGORY_TAG).values\n",
    "y_valid = pd.read_csv(VALID_DATA_PATH)['CATEGORY'].map(CATEGORY_TAG).values\n",
    "y_test = pd.read_csv(TEST_DATA_PATH)['CATEGORY'].map(CATEGORY_TAG).values"
   ]
  },
  {
   "cell_type": "code",
   "execution_count": 16,
   "metadata": {},
   "outputs": [],
   "source": [
    "Y_train = np.eye(4)[y_train]\n",
    "Y_valid = np.eye(4)[y_valid]\n",
    "Y_test = np.eye(4)[y_test]"
   ]
  },
  {
   "cell_type": "code",
   "execution_count": 17,
   "metadata": {},
   "outputs": [
    {
     "data": {
      "text/plain": [
       "0"
      ]
     },
     "execution_count": 17,
     "metadata": {},
     "output_type": "execute_result"
    }
   ],
   "source": [
    "y_train[1]"
   ]
  },
  {
   "cell_type": "code",
   "execution_count": 18,
   "metadata": {},
   "outputs": [
    {
     "data": {
      "text/plain": [
       "(10672,)"
      ]
     },
     "execution_count": 18,
     "metadata": {},
     "output_type": "execute_result"
    }
   ],
   "source": [
    "y_train.shape"
   ]
  },
  {
   "cell_type": "code",
   "execution_count": 19,
   "metadata": {},
   "outputs": [
    {
     "data": {
      "text/plain": [
       "(10672, 4)"
      ]
     },
     "execution_count": 19,
     "metadata": {},
     "output_type": "execute_result"
    }
   ],
   "source": [
    "Y_train.shape"
   ]
  },
  {
   "cell_type": "code",
   "execution_count": 20,
   "metadata": {},
   "outputs": [
    {
     "data": {
      "text/plain": [
       "(1334,)"
      ]
     },
     "execution_count": 20,
     "metadata": {},
     "output_type": "execute_result"
    }
   ],
   "source": [
    "y_valid.shape"
   ]
  },
  {
   "cell_type": "code",
   "execution_count": 21,
   "metadata": {},
   "outputs": [
    {
     "data": {
      "text/plain": [
       "(1334, 4)"
      ]
     },
     "execution_count": 21,
     "metadata": {},
     "output_type": "execute_result"
    }
   ],
   "source": [
    "Y_valid.shape"
   ]
  },
  {
   "cell_type": "code",
   "execution_count": 22,
   "metadata": {},
   "outputs": [
    {
     "data": {
      "text/plain": [
       "(1334,)"
      ]
     },
     "execution_count": 22,
     "metadata": {},
     "output_type": "execute_result"
    }
   ],
   "source": [
    "y_test.shape"
   ]
  },
  {
   "cell_type": "code",
   "execution_count": 23,
   "metadata": {},
   "outputs": [
    {
     "data": {
      "text/plain": [
       "(1334, 4)"
      ]
     },
     "execution_count": 23,
     "metadata": {},
     "output_type": "execute_result"
    }
   ],
   "source": [
    "Y_test.shape"
   ]
  },
  {
   "cell_type": "markdown",
   "metadata": {},
   "source": [
    "## 71. 単層NNによる予測"
   ]
  },
  {
   "cell_type": "markdown",
   "metadata": {},
   "source": [
    "個人的にこういう時にKerasを使うのが好きなのでKerasを使っていきます。\n",
    "重みの初期化のところ、毎回同じ値を取りたいのでrandom seedみたいなことをしたいのですが、どうすればいいですかね。"
   ]
  },
  {
   "cell_type": "code",
   "execution_count": 24,
   "metadata": {},
   "outputs": [],
   "source": [
    "from tensorflow.keras.layers import Dense, Input\n",
    "from tensorflow.keras.models import Model\n",
    "import tensorflow as tf"
   ]
  },
  {
   "cell_type": "code",
   "execution_count": 25,
   "metadata": {},
   "outputs": [],
   "source": [
    "def predict_nn():\n",
    "    inputs = Input(shape=(300,))\n",
    "    outputs = Dense(4, activation='softmax') (inputs)\n",
    "    model = Model(inputs=inputs, outputs=outputs)\n",
    "    return model"
   ]
  },
  {
   "cell_type": "code",
   "execution_count": 26,
   "metadata": {},
   "outputs": [],
   "source": [
    "x_1 = X_train[:1]\n",
    "X_1_4 = X_train[:4]"
   ]
  },
  {
   "cell_type": "code",
   "execution_count": 27,
   "metadata": {},
   "outputs": [],
   "source": [
    "model_71 = predict_nn()"
   ]
  },
  {
   "cell_type": "code",
   "execution_count": 28,
   "metadata": {},
   "outputs": [
    {
     "name": "stdout",
     "output_type": "stream",
     "text": [
      "Model: \"model\"\n",
      "_________________________________________________________________\n",
      "Layer (type)                 Output Shape              Param #   \n",
      "=================================================================\n",
      "input_1 (InputLayer)         [(None, 300)]             0         \n",
      "_________________________________________________________________\n",
      "dense (Dense)                (None, 4)                 1204      \n",
      "=================================================================\n",
      "Total params: 1,204\n",
      "Trainable params: 1,204\n",
      "Non-trainable params: 0\n",
      "_________________________________________________________________\n"
     ]
    }
   ],
   "source": [
    "model_71.summary()"
   ]
  },
  {
   "cell_type": "code",
   "execution_count": 29,
   "metadata": {},
   "outputs": [],
   "source": [
    "y_1 = model_71.predict(x_1)\n",
    "Y_1_4 = model_71.predict(X_1_4)"
   ]
  },
  {
   "cell_type": "code",
   "execution_count": 30,
   "metadata": {},
   "outputs": [
    {
     "data": {
      "text/plain": [
       "array([[0.24893947, 0.22812319, 0.22335596, 0.2995814 ]], dtype=float32)"
      ]
     },
     "execution_count": 30,
     "metadata": {},
     "output_type": "execute_result"
    }
   ],
   "source": [
    "y_1"
   ]
  },
  {
   "cell_type": "code",
   "execution_count": 31,
   "metadata": {},
   "outputs": [
    {
     "data": {
      "text/plain": [
       "array([[0.24893947, 0.22812319, 0.22335596, 0.2995814 ],\n",
       "       [0.3085377 , 0.22342163, 0.22065622, 0.24738438],\n",
       "       [0.2672257 , 0.2538322 , 0.2037863 , 0.27515572],\n",
       "       [0.26254296, 0.27705783, 0.21813938, 0.24225996]], dtype=float32)"
      ]
     },
     "execution_count": 31,
     "metadata": {},
     "output_type": "execute_result"
    }
   ],
   "source": [
    "Y_1_4"
   ]
  },
  {
   "cell_type": "markdown",
   "metadata": {},
   "source": [
    "## 72. 損失と勾配の計算"
   ]
  },
  {
   "cell_type": "markdown",
   "metadata": {},
   "source": [
    "文面からは、実際自分でクロスエントロピー損失関数や、勾配を`numpy`や`math`を用いて作成して、作成した関数を用いて求めてほしいのか、71とかで使ったモジュールを用いてやって欲しいのかイマイチわからないのですが、自作はせずにkerasを使ってやります。"
   ]
  },
  {
   "cell_type": "code",
   "execution_count": 32,
   "metadata": {},
   "outputs": [],
   "source": [
    "from tensorflow.keras.losses import CategoricalCrossentropy\n",
    "from tensorflow.keras.backend import gradients"
   ]
  },
  {
   "cell_type": "code",
   "execution_count": 33,
   "metadata": {},
   "outputs": [],
   "source": [
    "y_train_1 = Y_train[:1]\n",
    "Y_train_1_4 = Y_train[:4]"
   ]
  },
  {
   "cell_type": "code",
   "execution_count": 34,
   "metadata": {},
   "outputs": [
    {
     "data": {
      "text/plain": [
       "\u001b[0;31mInit signature:\u001b[0m\n",
       "\u001b[0mCategoricalCrossentropy\u001b[0m\u001b[0;34m(\u001b[0m\u001b[0;34m\u001b[0m\n",
       "\u001b[0;34m\u001b[0m    \u001b[0mfrom_logits\u001b[0m\u001b[0;34m=\u001b[0m\u001b[0;32mFalse\u001b[0m\u001b[0;34m,\u001b[0m\u001b[0;34m\u001b[0m\n",
       "\u001b[0;34m\u001b[0m    \u001b[0mlabel_smoothing\u001b[0m\u001b[0;34m=\u001b[0m\u001b[0;36m0\u001b[0m\u001b[0;34m,\u001b[0m\u001b[0;34m\u001b[0m\n",
       "\u001b[0;34m\u001b[0m    \u001b[0mreduction\u001b[0m\u001b[0;34m=\u001b[0m\u001b[0;34m'auto'\u001b[0m\u001b[0;34m,\u001b[0m\u001b[0;34m\u001b[0m\n",
       "\u001b[0;34m\u001b[0m    \u001b[0mname\u001b[0m\u001b[0;34m=\u001b[0m\u001b[0;34m'categorical_crossentropy'\u001b[0m\u001b[0;34m,\u001b[0m\u001b[0;34m\u001b[0m\n",
       "\u001b[0;34m\u001b[0m\u001b[0;34m)\u001b[0m\u001b[0;34m\u001b[0m\u001b[0;34m\u001b[0m\u001b[0m\n",
       "\u001b[0;31mDocstring:\u001b[0m     \n",
       "Computes the crossentropy loss between the labels and predictions.\n",
       "\n",
       "Use this crossentropy loss function when there are two or more label classes.\n",
       "We expect labels to be provided in a `one_hot` representation. If you want to\n",
       "provide labels as integers, please use `SparseCategoricalCrossentropy` loss.\n",
       "There should be `# classes` floating point values per feature.\n",
       "\n",
       "In the snippet below, there is `# classes` floating pointing values per\n",
       "example. The shape of both `y_pred` and `y_true` are\n",
       "`[batch_size, num_classes]`.\n",
       "\n",
       "Usage:\n",
       "\n",
       "```python\n",
       "cce = tf.keras.losses.CategoricalCrossentropy()\n",
       "loss = cce(\n",
       "  [[1., 0., 0.], [0., 1., 0.], [0., 0., 1.]],\n",
       "  [[.9, .05, .05], [.05, .89, .06], [.05, .01, .94]])\n",
       "print('Loss: ', loss.numpy())  # Loss: 0.0945\n",
       "```\n",
       "\n",
       "Usage with the `compile` API:\n",
       "\n",
       "```python\n",
       "model = tf.keras.Model(inputs, outputs)\n",
       "model.compile('sgd', loss=tf.keras.losses.CategoricalCrossentropy())\n",
       "```\n",
       "\n",
       "Args:\n",
       "  from_logits: Whether `y_pred` is expected to be a logits tensor. By default,\n",
       "    we assume that `y_pred` encodes a probability distribution.\n",
       "    Note: Using from_logits=True may be more numerically stable.\n",
       "  label_smoothing: Float in [0, 1]. When > 0, label values are smoothed,\n",
       "    meaning the confidence on label values are relaxed. e.g.\n",
       "    `label_smoothing=0.2` means that we will use a value of `0.1` for label\n",
       "    `0` and `0.9` for label `1`\"\n",
       "  reduction: (Optional) Type of `tf.keras.losses.Reduction` to apply to loss.\n",
       "    Default value is `AUTO`. `AUTO` indicates that the reduction option will\n",
       "    be determined by the usage context. For almost all cases this defaults to\n",
       "    `SUM_OVER_BATCH_SIZE`.\n",
       "    When used with `tf.distribute.Strategy`, outside of built-in training\n",
       "    loops such as `tf.keras` `compile` and `fit`, using `AUTO` or\n",
       "    `SUM_OVER_BATCH_SIZE` will raise an error. Please see\n",
       "    https://www.tensorflow.org/tutorials/distribute/custom_training\n",
       "    for more details on this.\n",
       "  name: Optional name for the op.\n",
       "\u001b[0;31mFile:\u001b[0m           ~/anaconda3/lib/python3.7/site-packages/tensorflow_core/python/keras/losses.py\n",
       "\u001b[0;31mType:\u001b[0m           type\n",
       "\u001b[0;31mSubclasses:\u001b[0m     \n"
      ]
     },
     "metadata": {},
     "output_type": "display_data"
    }
   ],
   "source": [
    "CategoricalCrossentropy?"
   ]
  },
  {
   "cell_type": "code",
   "execution_count": 35,
   "metadata": {},
   "outputs": [],
   "source": [
    "cce = CategoricalCrossentropy()"
   ]
  },
  {
   "cell_type": "markdown",
   "metadata": {},
   "source": [
    "$\\hat{y}_1$のクロスエントロピー損失は、"
   ]
  },
  {
   "cell_type": "code",
   "execution_count": 36,
   "metadata": {},
   "outputs": [
    {
     "data": {
      "text/plain": [
       "1.3905455"
      ]
     },
     "execution_count": 36,
     "metadata": {},
     "output_type": "execute_result"
    }
   ],
   "source": [
    "cce(y_train_1,y_1).numpy()"
   ]
  },
  {
   "cell_type": "markdown",
   "metadata": {},
   "source": [
    "$\\hat{Y}$のクロスエントロピー損失は、"
   ]
  },
  {
   "cell_type": "code",
   "execution_count": 37,
   "metadata": {},
   "outputs": [
    {
     "data": {
      "text/plain": [
       "1.2985538"
      ]
     },
     "execution_count": 37,
     "metadata": {},
     "output_type": "execute_result"
    }
   ],
   "source": [
    "cce(Y_train_1_4,Y_1_4).numpy()"
   ]
  },
  {
   "cell_type": "markdown",
   "metadata": {},
   "source": [
    "損失を求められたので、次は勾配を求めます。実は、`keras`の関数である`keras.backend.gradient`を用いると`RuntimeError`がでます。\n",
    "そのため、今回は`tf.GradientTape()`を用いて求めます。\n",
    "ちなみに、先ほど定義したモデルから、weightの行列を取得し、そのweight行列と`numpy`の`gradient`を用いて計算して、gradientを求めようと思ったのですが、`numpy.gradient`の仕様がよくわからなくてやめました。誰か書ける人がいたら教えてください。"
   ]
  },
  {
   "cell_type": "code",
   "execution_count": 38,
   "metadata": {},
   "outputs": [],
   "source": [
    "def calculate_grad(x,y):\n",
    "    \n",
    "    def _loss_fn(y_predict, y):\n",
    "        return cce(y_predict, y)\n",
    "\n",
    "    inputs = tf.convert_to_tensor(x)\n",
    "    targets = tf.convert_to_tensor(y)\n",
    "    with tf.GradientTape() as tape:\n",
    "        y_predict = model_71(inputs)\n",
    "        loss = _loss_fn(y_predict, targets)\n",
    "    grads = tape.gradient(loss, model_71.variables)\n",
    "    \n",
    "    return grads"
   ]
  },
  {
   "cell_type": "code",
   "execution_count": 39,
   "metadata": {},
   "outputs": [
    {
     "data": {
      "text/plain": [
       "[<tf.Tensor: shape=(300, 4), dtype=float32, numpy=\n",
       " array([[ 0.05131765, -0.01558695, -0.01526122, -0.02046947],\n",
       "        [-0.01723726,  0.00523555,  0.00512614,  0.00687556],\n",
       "        [ 0.0138739 , -0.00421398, -0.00412592, -0.00553399],\n",
       "        ...,\n",
       "        [-0.20277433,  0.06158959,  0.06030252,  0.08088217],\n",
       "        [-0.15681705,  0.04763078,  0.04663541,  0.06255084],\n",
       "        [ 0.30664462, -0.0931386 , -0.09119222, -0.12231371]],\n",
       "       dtype=float32)>,\n",
       " <tf.Tensor: shape=(4,), dtype=float32, numpy=array([-3.0135782 ,  0.91532815,  0.8962    ,  1.2020493 ], dtype=float32)>]"
      ]
     },
     "execution_count": 39,
     "metadata": {},
     "output_type": "execute_result"
    }
   ],
   "source": [
    "calculate_grad(x_1, y_train_1)"
   ]
  },
  {
   "cell_type": "code",
   "execution_count": 40,
   "metadata": {},
   "outputs": [
    {
     "data": {
      "text/plain": [
       "TensorShape([300, 4])"
      ]
     },
     "execution_count": 40,
     "metadata": {},
     "output_type": "execute_result"
    }
   ],
   "source": [
    "calculate_grad(x_1, y_train_1)[0].shape"
   ]
  },
  {
   "cell_type": "code",
   "execution_count": 41,
   "metadata": {},
   "outputs": [
    {
     "data": {
      "text/plain": [
       "[<tf.Tensor: shape=(300, 4), dtype=float32, numpy=\n",
       " array([[-0.12147696,  0.05600534,  0.05011344,  0.01535821],\n",
       "        [-0.12285115,  0.05578577,  0.05157541,  0.01549001],\n",
       "        [ 0.02656722, -0.00102668, -0.00469257, -0.020848  ],\n",
       "        ...,\n",
       "        [-0.0824612 ,  0.00606671,  0.00522219,  0.07117223],\n",
       "        [-0.17028889,  0.06984899,  0.06111809,  0.0393218 ],\n",
       "        [ 0.09908519, -0.00365184, -0.00285049, -0.09258275]],\n",
       "       dtype=float32)>,\n",
       " <tf.Tensor: shape=(4,), dtype=float32, numpy=array([-2.096949  ,  1.0811447 ,  0.9551051 ,  0.06069934], dtype=float32)>]"
      ]
     },
     "execution_count": 41,
     "metadata": {},
     "output_type": "execute_result"
    }
   ],
   "source": [
    "calculate_grad(X_1_4, Y_train_1_4)"
   ]
  },
  {
   "cell_type": "code",
   "execution_count": 42,
   "metadata": {},
   "outputs": [
    {
     "data": {
      "text/plain": [
       "TensorShape([300, 4])"
      ]
     },
     "execution_count": 42,
     "metadata": {},
     "output_type": "execute_result"
    }
   ],
   "source": [
    "calculate_grad(X_1_4, Y_train_1_4)[0].shape"
   ]
  },
  {
   "cell_type": "markdown",
   "metadata": {},
   "source": [
    "## 73. 確率的勾配降下法による学習"
   ]
  },
  {
   "cell_type": "markdown",
   "metadata": {},
   "source": [
    ">確率的勾配降下法（SGD: Stochastic Gradient Descent）を用いて，行列Wを学習せよ.\n",
    "\n",
    "とのことなので、さっきのモデルを用いて、行いたいと思います。"
   ]
  },
  {
   "cell_type": "code",
   "execution_count": 43,
   "metadata": {},
   "outputs": [],
   "source": [
    "from tensorflow.keras.optimizers import SGD"
   ]
  },
  {
   "cell_type": "code",
   "execution_count": 44,
   "metadata": {},
   "outputs": [],
   "source": [
    "model_73 = predict_nn()"
   ]
  },
  {
   "cell_type": "code",
   "execution_count": 45,
   "metadata": {},
   "outputs": [
    {
     "name": "stdout",
     "output_type": "stream",
     "text": [
      "Train on 10672 samples, validate on 1334 samples\n",
      "Epoch 1/100\n",
      "10672/10672 [==============================] - 1s 57us/sample - loss: 1.2053 - accuracy: 0.5954 - val_loss: 1.0923 - val_accuracy: 0.7279\n",
      "Epoch 2/100\n",
      "10672/10672 [==============================] - 0s 28us/sample - loss: 1.0273 - accuracy: 0.7565 - val_loss: 0.9901 - val_accuracy: 0.7541\n",
      "Epoch 3/100\n",
      "10672/10672 [==============================] - 0s 29us/sample - loss: 0.9465 - accuracy: 0.7721 - val_loss: 0.9252 - val_accuracy: 0.7579\n",
      "Epoch 4/100\n",
      "10672/10672 [==============================] - 0s 28us/sample - loss: 0.8907 - accuracy: 0.7750 - val_loss: 0.8761 - val_accuracy: 0.7564\n",
      "Epoch 5/100\n",
      "10672/10672 [==============================] - 0s 28us/sample - loss: 0.8476 - accuracy: 0.7762 - val_loss: 0.8370 - val_accuracy: 0.7571\n",
      "Epoch 6/100\n",
      "10672/10672 [==============================] - 0s 25us/sample - loss: 0.8126 - accuracy: 0.7790 - val_loss: 0.8049 - val_accuracy: 0.7594\n",
      "Epoch 7/100\n",
      "10672/10672 [==============================] - 0s 28us/sample - loss: 0.7834 - accuracy: 0.7794 - val_loss: 0.7776 - val_accuracy: 0.7609\n",
      "Epoch 8/100\n",
      "10672/10672 [==============================] - 0s 29us/sample - loss: 0.7586 - accuracy: 0.7804 - val_loss: 0.7541 - val_accuracy: 0.7616\n",
      "Epoch 9/100\n",
      "10672/10672 [==============================] - 0s 25us/sample - loss: 0.7370 - accuracy: 0.7811 - val_loss: 0.7337 - val_accuracy: 0.7616\n",
      "Epoch 10/100\n",
      "10672/10672 [==============================] - 0s 26us/sample - loss: 0.7181 - accuracy: 0.7810 - val_loss: 0.7157 - val_accuracy: 0.7631\n",
      "Epoch 11/100\n",
      "10672/10672 [==============================] - 0s 26us/sample - loss: 0.7013 - accuracy: 0.7818 - val_loss: 0.6996 - val_accuracy: 0.7646\n",
      "Epoch 12/100\n",
      "10672/10672 [==============================] - 0s 26us/sample - loss: 0.6861 - accuracy: 0.7820 - val_loss: 0.6851 - val_accuracy: 0.7661\n",
      "Epoch 13/100\n",
      "10672/10672 [==============================] - 0s 26us/sample - loss: 0.6724 - accuracy: 0.7827 - val_loss: 0.6717 - val_accuracy: 0.7669\n",
      "Epoch 14/100\n",
      "10672/10672 [==============================] - 0s 26us/sample - loss: 0.6598 - accuracy: 0.7832 - val_loss: 0.6594 - val_accuracy: 0.7669\n",
      "Epoch 15/100\n",
      "10672/10672 [==============================] - 0s 25us/sample - loss: 0.6483 - accuracy: 0.7832 - val_loss: 0.6481 - val_accuracy: 0.7691\n",
      "Epoch 16/100\n",
      "10672/10672 [==============================] - 0s 26us/sample - loss: 0.6376 - accuracy: 0.7838 - val_loss: 0.6376 - val_accuracy: 0.7706\n",
      "Epoch 17/100\n",
      "10672/10672 [==============================] - 0s 27us/sample - loss: 0.6277 - accuracy: 0.7850 - val_loss: 0.6278 - val_accuracy: 0.7714\n",
      "Epoch 18/100\n",
      "10672/10672 [==============================] - 0s 28us/sample - loss: 0.6184 - accuracy: 0.7864 - val_loss: 0.6188 - val_accuracy: 0.7766\n",
      "Epoch 19/100\n",
      "10672/10672 [==============================] - 0s 26us/sample - loss: 0.6098 - accuracy: 0.7875 - val_loss: 0.6101 - val_accuracy: 0.7781\n",
      "Epoch 20/100\n",
      "10672/10672 [==============================] - 0s 27us/sample - loss: 0.6016 - accuracy: 0.7900 - val_loss: 0.6020 - val_accuracy: 0.7826\n",
      "Epoch 21/100\n",
      "10672/10672 [==============================] - 0s 29us/sample - loss: 0.5939 - accuracy: 0.7910 - val_loss: 0.5944 - val_accuracy: 0.7841\n",
      "Epoch 22/100\n",
      "10672/10672 [==============================] - 0s 28us/sample - loss: 0.5867 - accuracy: 0.7933 - val_loss: 0.5871 - val_accuracy: 0.7849\n",
      "Epoch 23/100\n",
      "10672/10672 [==============================] - 0s 29us/sample - loss: 0.5798 - accuracy: 0.7947 - val_loss: 0.5803 - val_accuracy: 0.7849\n",
      "Epoch 24/100\n",
      "10672/10672 [==============================] - 0s 28us/sample - loss: 0.5732 - accuracy: 0.7963 - val_loss: 0.5738 - val_accuracy: 0.7886\n",
      "Epoch 25/100\n",
      "10672/10672 [==============================] - 0s 27us/sample - loss: 0.5670 - accuracy: 0.7990 - val_loss: 0.5675 - val_accuracy: 0.7924\n",
      "Epoch 26/100\n",
      "10672/10672 [==============================] - 0s 25us/sample - loss: 0.5611 - accuracy: 0.8018 - val_loss: 0.5615 - val_accuracy: 0.7969\n",
      "Epoch 27/100\n",
      "10672/10672 [==============================] - 0s 27us/sample - loss: 0.5555 - accuracy: 0.8047 - val_loss: 0.5559 - val_accuracy: 0.8028\n",
      "Epoch 28/100\n",
      "10672/10672 [==============================] - 0s 27us/sample - loss: 0.5500 - accuracy: 0.8078 - val_loss: 0.5505 - val_accuracy: 0.8051\n",
      "Epoch 29/100\n",
      "10672/10672 [==============================] - 0s 27us/sample - loss: 0.5449 - accuracy: 0.8089 - val_loss: 0.5451 - val_accuracy: 0.8073\n",
      "Epoch 30/100\n",
      "10672/10672 [==============================] - 0s 25us/sample - loss: 0.5399 - accuracy: 0.8107 - val_loss: 0.5401 - val_accuracy: 0.8118\n",
      "Epoch 31/100\n",
      "10672/10672 [==============================] - 0s 27us/sample - loss: 0.5351 - accuracy: 0.8132 - val_loss: 0.5353 - val_accuracy: 0.8156\n",
      "Epoch 32/100\n",
      "10672/10672 [==============================] - 0s 28us/sample - loss: 0.5305 - accuracy: 0.8142 - val_loss: 0.5306 - val_accuracy: 0.8186\n",
      "Epoch 33/100\n",
      "10672/10672 [==============================] - 0s 29us/sample - loss: 0.5261 - accuracy: 0.8161 - val_loss: 0.5261 - val_accuracy: 0.8193\n",
      "Epoch 34/100\n",
      "10672/10672 [==============================] - 0s 28us/sample - loss: 0.5219 - accuracy: 0.8181 - val_loss: 0.5219 - val_accuracy: 0.8216\n",
      "Epoch 35/100\n",
      "10672/10672 [==============================] - 0s 28us/sample - loss: 0.5178 - accuracy: 0.8201 - val_loss: 0.5178 - val_accuracy: 0.8238\n",
      "Epoch 36/100\n",
      "10672/10672 [==============================] - 0s 26us/sample - loss: 0.5139 - accuracy: 0.8218 - val_loss: 0.5138 - val_accuracy: 0.8276\n",
      "Epoch 37/100\n",
      "10672/10672 [==============================] - 0s 26us/sample - loss: 0.5101 - accuracy: 0.8227 - val_loss: 0.5099 - val_accuracy: 0.8283\n",
      "Epoch 38/100\n",
      "10672/10672 [==============================] - 0s 30us/sample - loss: 0.5064 - accuracy: 0.8243 - val_loss: 0.5062 - val_accuracy: 0.8313\n",
      "Epoch 39/100\n",
      "10672/10672 [==============================] - 0s 28us/sample - loss: 0.5028 - accuracy: 0.8258 - val_loss: 0.5025 - val_accuracy: 0.8328\n",
      "Epoch 40/100\n",
      "10672/10672 [==============================] - 0s 29us/sample - loss: 0.4994 - accuracy: 0.8277 - val_loss: 0.4990 - val_accuracy: 0.8328\n",
      "Epoch 41/100\n",
      "10672/10672 [==============================] - 0s 27us/sample - loss: 0.4961 - accuracy: 0.8290 - val_loss: 0.4956 - val_accuracy: 0.8358\n",
      "Epoch 42/100\n",
      "10672/10672 [==============================] - 0s 27us/sample - loss: 0.4928 - accuracy: 0.8305 - val_loss: 0.4924 - val_accuracy: 0.8366\n",
      "Epoch 43/100\n",
      "10672/10672 [==============================] - 0s 27us/sample - loss: 0.4897 - accuracy: 0.8315 - val_loss: 0.4892 - val_accuracy: 0.8381\n",
      "Epoch 44/100\n",
      "10672/10672 [==============================] - 0s 28us/sample - loss: 0.4867 - accuracy: 0.8326 - val_loss: 0.4862 - val_accuracy: 0.8403\n",
      "Epoch 45/100\n",
      "10672/10672 [==============================] - 0s 28us/sample - loss: 0.4837 - accuracy: 0.8329 - val_loss: 0.4831 - val_accuracy: 0.8411\n",
      "Epoch 46/100\n",
      "10672/10672 [==============================] - 0s 26us/sample - loss: 0.4809 - accuracy: 0.8349 - val_loss: 0.4803 - val_accuracy: 0.8411\n",
      "Epoch 47/100\n",
      "10672/10672 [==============================] - 0s 26us/sample - loss: 0.4781 - accuracy: 0.8347 - val_loss: 0.4774 - val_accuracy: 0.8433\n",
      "Epoch 48/100\n",
      "10672/10672 [==============================] - 0s 27us/sample - loss: 0.4754 - accuracy: 0.8371 - val_loss: 0.4747 - val_accuracy: 0.8441\n",
      "Epoch 49/100\n",
      "10672/10672 [==============================] - 0s 27us/sample - loss: 0.4728 - accuracy: 0.8376 - val_loss: 0.4720 - val_accuracy: 0.8463\n",
      "Epoch 50/100\n",
      "10672/10672 [==============================] - 0s 27us/sample - loss: 0.4703 - accuracy: 0.8390 - val_loss: 0.4695 - val_accuracy: 0.8463\n",
      "Epoch 51/100\n",
      "10672/10672 [==============================] - 0s 28us/sample - loss: 0.4678 - accuracy: 0.8399 - val_loss: 0.4669 - val_accuracy: 0.8471\n",
      "Epoch 52/100\n",
      "10672/10672 [==============================] - 0s 29us/sample - loss: 0.4654 - accuracy: 0.8414 - val_loss: 0.4644 - val_accuracy: 0.8486\n",
      "Epoch 53/100\n",
      "10672/10672 [==============================] - 0s 30us/sample - loss: 0.4630 - accuracy: 0.8422 - val_loss: 0.4621 - val_accuracy: 0.8486\n",
      "Epoch 54/100\n",
      "10672/10672 [==============================] - 0s 30us/sample - loss: 0.4607 - accuracy: 0.8439 - val_loss: 0.4599 - val_accuracy: 0.8493\n",
      "Epoch 55/100\n",
      "10672/10672 [==============================] - 0s 33us/sample - loss: 0.4585 - accuracy: 0.8440 - val_loss: 0.4576 - val_accuracy: 0.8516\n",
      "Epoch 56/100\n",
      "10672/10672 [==============================] - 0s 28us/sample - loss: 0.4564 - accuracy: 0.8457 - val_loss: 0.4554 - val_accuracy: 0.8523\n",
      "Epoch 57/100\n",
      "10672/10672 [==============================] - 0s 26us/sample - loss: 0.4542 - accuracy: 0.8459 - val_loss: 0.4532 - val_accuracy: 0.8538\n",
      "Epoch 58/100\n",
      "10672/10672 [==============================] - 0s 26us/sample - loss: 0.4522 - accuracy: 0.8474 - val_loss: 0.4511 - val_accuracy: 0.8561\n",
      "Epoch 59/100\n",
      "10672/10672 [==============================] - 0s 26us/sample - loss: 0.4502 - accuracy: 0.8484 - val_loss: 0.4490 - val_accuracy: 0.8568\n",
      "Epoch 60/100\n",
      "10672/10672 [==============================] - 0s 27us/sample - loss: 0.4482 - accuracy: 0.8486 - val_loss: 0.4471 - val_accuracy: 0.8576\n",
      "Epoch 61/100\n",
      "10672/10672 [==============================] - 0s 26us/sample - loss: 0.4463 - accuracy: 0.8490 - val_loss: 0.4451 - val_accuracy: 0.8591\n",
      "Epoch 62/100\n",
      "10672/10672 [==============================] - 0s 25us/sample - loss: 0.4444 - accuracy: 0.8499 - val_loss: 0.4431 - val_accuracy: 0.8591\n",
      "Epoch 63/100\n",
      "10672/10672 [==============================] - 0s 25us/sample - loss: 0.4426 - accuracy: 0.8505 - val_loss: 0.4414 - val_accuracy: 0.8591\n",
      "Epoch 64/100\n",
      "10672/10672 [==============================] - 0s 25us/sample - loss: 0.4408 - accuracy: 0.8516 - val_loss: 0.4396 - val_accuracy: 0.8591\n",
      "Epoch 65/100\n",
      "10672/10672 [==============================] - 0s 26us/sample - loss: 0.4390 - accuracy: 0.8526 - val_loss: 0.4379 - val_accuracy: 0.8591\n",
      "Epoch 66/100\n",
      "10672/10672 [==============================] - 0s 26us/sample - loss: 0.4373 - accuracy: 0.8525 - val_loss: 0.4361 - val_accuracy: 0.8583\n",
      "Epoch 67/100\n",
      "10672/10672 [==============================] - 0s 26us/sample - loss: 0.4356 - accuracy: 0.8539 - val_loss: 0.4344 - val_accuracy: 0.8576\n",
      "Epoch 68/100\n",
      "10672/10672 [==============================] - 0s 26us/sample - loss: 0.4340 - accuracy: 0.8541 - val_loss: 0.4327 - val_accuracy: 0.8591\n",
      "Epoch 69/100\n",
      "10672/10672 [==============================] - 0s 27us/sample - loss: 0.4324 - accuracy: 0.8549 - val_loss: 0.4311 - val_accuracy: 0.8606\n",
      "Epoch 70/100\n",
      "10672/10672 [==============================] - 0s 28us/sample - loss: 0.4308 - accuracy: 0.8560 - val_loss: 0.4295 - val_accuracy: 0.8606\n",
      "Epoch 71/100\n",
      "10672/10672 [==============================] - 0s 28us/sample - loss: 0.4293 - accuracy: 0.8568 - val_loss: 0.4280 - val_accuracy: 0.8621\n",
      "Epoch 72/100\n",
      "10672/10672 [==============================] - 0s 29us/sample - loss: 0.4278 - accuracy: 0.8574 - val_loss: 0.4264 - val_accuracy: 0.8636\n",
      "Epoch 73/100\n",
      "10672/10672 [==============================] - 0s 28us/sample - loss: 0.4263 - accuracy: 0.8571 - val_loss: 0.4250 - val_accuracy: 0.8643\n",
      "Epoch 74/100\n",
      "10672/10672 [==============================] - 0s 27us/sample - loss: 0.4249 - accuracy: 0.8582 - val_loss: 0.4236 - val_accuracy: 0.8643\n",
      "Epoch 75/100\n",
      "10672/10672 [==============================] - 0s 25us/sample - loss: 0.4234 - accuracy: 0.8585 - val_loss: 0.4221 - val_accuracy: 0.8658\n",
      "Epoch 76/100\n",
      "10672/10672 [==============================] - 0s 27us/sample - loss: 0.4220 - accuracy: 0.8597 - val_loss: 0.4208 - val_accuracy: 0.8658\n",
      "Epoch 77/100\n",
      "10672/10672 [==============================] - 0s 26us/sample - loss: 0.4207 - accuracy: 0.8602 - val_loss: 0.4195 - val_accuracy: 0.8666\n",
      "Epoch 78/100\n",
      "10672/10672 [==============================] - 0s 27us/sample - loss: 0.4193 - accuracy: 0.8608 - val_loss: 0.4182 - val_accuracy: 0.8666\n",
      "Epoch 79/100\n",
      "10672/10672 [==============================] - 0s 27us/sample - loss: 0.4180 - accuracy: 0.8611 - val_loss: 0.4169 - val_accuracy: 0.8673\n",
      "Epoch 80/100\n",
      "10672/10672 [==============================] - 0s 30us/sample - loss: 0.4167 - accuracy: 0.8614 - val_loss: 0.4156 - val_accuracy: 0.8673\n",
      "Epoch 81/100\n",
      "10672/10672 [==============================] - 0s 28us/sample - loss: 0.4155 - accuracy: 0.8618 - val_loss: 0.4143 - val_accuracy: 0.8696\n",
      "Epoch 82/100\n",
      "10672/10672 [==============================] - 0s 26us/sample - loss: 0.4142 - accuracy: 0.8624 - val_loss: 0.4130 - val_accuracy: 0.8703\n",
      "Epoch 83/100\n",
      "10672/10672 [==============================] - 0s 26us/sample - loss: 0.4130 - accuracy: 0.8632 - val_loss: 0.4119 - val_accuracy: 0.8711\n",
      "Epoch 84/100\n",
      "10672/10672 [==============================] - 0s 29us/sample - loss: 0.4118 - accuracy: 0.8638 - val_loss: 0.4107 - val_accuracy: 0.8718\n",
      "Epoch 85/100\n",
      "10672/10672 [==============================] - 0s 29us/sample - loss: 0.4107 - accuracy: 0.8638 - val_loss: 0.4095 - val_accuracy: 0.8733\n",
      "Epoch 86/100\n",
      "10672/10672 [==============================] - 0s 29us/sample - loss: 0.4095 - accuracy: 0.8646 - val_loss: 0.4084 - val_accuracy: 0.8726\n",
      "Epoch 87/100\n",
      "10672/10672 [==============================] - 0s 28us/sample - loss: 0.4084 - accuracy: 0.8650 - val_loss: 0.4072 - val_accuracy: 0.8726\n",
      "Epoch 88/100\n",
      "10672/10672 [==============================] - 0s 28us/sample - loss: 0.4072 - accuracy: 0.8649 - val_loss: 0.4061 - val_accuracy: 0.8718\n",
      "Epoch 89/100\n",
      "10672/10672 [==============================] - 0s 27us/sample - loss: 0.4061 - accuracy: 0.8658 - val_loss: 0.4049 - val_accuracy: 0.8718\n",
      "Epoch 90/100\n",
      "10672/10672 [==============================] - 0s 30us/sample - loss: 0.4051 - accuracy: 0.8668 - val_loss: 0.4040 - val_accuracy: 0.8733\n",
      "Epoch 91/100\n",
      "10672/10672 [==============================] - 0s 29us/sample - loss: 0.4040 - accuracy: 0.8665 - val_loss: 0.4029 - val_accuracy: 0.8711\n",
      "Epoch 92/100\n",
      "10672/10672 [==============================] - 0s 28us/sample - loss: 0.4030 - accuracy: 0.8670 - val_loss: 0.4020 - val_accuracy: 0.8726\n",
      "Epoch 93/100\n",
      "10672/10672 [==============================] - 0s 26us/sample - loss: 0.4020 - accuracy: 0.8668 - val_loss: 0.4009 - val_accuracy: 0.8718\n",
      "Epoch 94/100\n",
      "10672/10672 [==============================] - 0s 27us/sample - loss: 0.4009 - accuracy: 0.8676 - val_loss: 0.4000 - val_accuracy: 0.8718\n",
      "Epoch 95/100\n",
      "10672/10672 [==============================] - 0s 27us/sample - loss: 0.4000 - accuracy: 0.8679 - val_loss: 0.3990 - val_accuracy: 0.8718\n",
      "Epoch 96/100\n",
      "10672/10672 [==============================] - 0s 28us/sample - loss: 0.3990 - accuracy: 0.8683 - val_loss: 0.3980 - val_accuracy: 0.8726\n",
      "Epoch 97/100\n",
      "10672/10672 [==============================] - 0s 26us/sample - loss: 0.3980 - accuracy: 0.8685 - val_loss: 0.3970 - val_accuracy: 0.8726\n",
      "Epoch 98/100\n",
      "10672/10672 [==============================] - 0s 27us/sample - loss: 0.3971 - accuracy: 0.8688 - val_loss: 0.3961 - val_accuracy: 0.8733\n",
      "Epoch 99/100\n",
      "10672/10672 [==============================] - 0s 27us/sample - loss: 0.3961 - accuracy: 0.8690 - val_loss: 0.3952 - val_accuracy: 0.8733\n",
      "Epoch 100/100\n",
      "10672/10672 [==============================] - 0s 26us/sample - loss: 0.3952 - accuracy: 0.8697 - val_loss: 0.3944 - val_accuracy: 0.8741\n",
      "CPU times: user 39.3 s, sys: 5.75 s, total: 45 s\n",
      "Wall time: 29.5 s\n"
     ]
    }
   ],
   "source": [
    "%%time\n",
    "opt = SGD(learning_rate=0.01)\n",
    "model_73.compile(optimizer=opt, loss='categorical_crossentropy',metrics=['accuracy'])\n",
    "history = model_73.fit(X_train, Y_train, epochs=100, validation_data=(X_valid, Y_valid))"
   ]
  },
  {
   "cell_type": "markdown",
   "metadata": {},
   "source": [
    "## 74.正解率の計測"
   ]
  },
  {
   "cell_type": "code",
   "execution_count": 46,
   "metadata": {},
   "outputs": [],
   "source": [
    "score = model_73.evaluate(X_test, Y_test, verbose=0)"
   ]
  },
  {
   "cell_type": "code",
   "execution_count": 47,
   "metadata": {},
   "outputs": [
    {
     "name": "stdout",
     "output_type": "stream",
     "text": [
      "Test loss:0.41715731274062906\n",
      "Test accuracy:0.8628185987472534\n"
     ]
    }
   ],
   "source": [
    "print('Test loss:{0}'.format(score[0]))\n",
    "print('Test accuracy:{0}'.format(score[1]))"
   ]
  },
  {
   "cell_type": "markdown",
   "metadata": {},
   "source": [
    "## 75. 損失と正解率のプロット"
   ]
  },
  {
   "cell_type": "markdown",
   "metadata": {},
   "source": [
    "Kerasでは、`Callback`というクラスがあり、それを使うことによって、訓練中に関数を適用させることができます。"
   ]
  },
  {
   "cell_type": "code",
   "execution_count": 48,
   "metadata": {},
   "outputs": [],
   "source": [
    "import matplotlib.pyplot as plt\n",
    "import japanize_matplotlib\n",
    "from IPython.display import clear_output\n",
    "from tensorflow.keras.callbacks import Callback"
   ]
  },
  {
   "cell_type": "code",
   "execution_count": 49,
   "metadata": {},
   "outputs": [],
   "source": [
    "class RealTimePlot(Callback):\n",
    "    def on_train_begin(self, logs={}):\n",
    "        self.i = 0\n",
    "        self.x = []\n",
    "        self.losses = []\n",
    "        self.val_losses = []\n",
    "        self.acc = []\n",
    "        self.val_acc = []\n",
    "        self.fig = plt.figure()\n",
    "        \n",
    "        self.logs = []\n",
    "\n",
    "    def on_epoch_end(self, epoch, logs={}):\n",
    "        \n",
    "        self.logs.append(logs)\n",
    "        self.x.append(self.i)\n",
    "        self.losses.append(logs.get('loss'))\n",
    "        self.val_losses.append(logs.get('val_loss'))\n",
    "        self.acc.append(logs.get('accuracy'))\n",
    "        self.val_acc.append(logs.get('val_accuracy'))\n",
    "        self.i += 1\n",
    "        f, (ax1, ax2) = plt.subplots(1, 2, sharex=True, figsize=(10,5))\n",
    "        \n",
    "        clear_output(wait=True)\n",
    "        \n",
    "#         ax1.set_yscale('log')\n",
    "        ax1.plot(self.x, self.losses, label=\"loss\")\n",
    "        ax1.plot(self.x, self.val_losses, label=\"val_loss\")\n",
    "        ax1.legend()\n",
    "        \n",
    "        ax2.plot(self.x, self.acc, label=\"accuracy\")\n",
    "        ax2.plot(self.x, self.val_acc, label=\"val_accuracy\")\n",
    "        ax2.legend()\n",
    "        \n",
    "        plt.show();"
   ]
  },
  {
   "cell_type": "code",
   "execution_count": 50,
   "metadata": {},
   "outputs": [],
   "source": [
    "real_time_plot = RealTimePlot()"
   ]
  },
  {
   "cell_type": "code",
   "execution_count": 51,
   "metadata": {},
   "outputs": [],
   "source": [
    "model_75 = predict_nn()"
   ]
  },
  {
   "cell_type": "code",
   "execution_count": 52,
   "metadata": {},
   "outputs": [
    {
     "data": {
      "image/png": "[encoded data removed]",
      "text/plain": [
       "<Figure size 720x360 with 2 Axes>"
      ]
     },
     "metadata": {
      "needs_background": "light"
     },
     "output_type": "display_data"
    },
    {
     "name": "stdout",
     "output_type": "stream",
     "text": [
      "10672/10672 [==============================] - 1s 51us/sample - loss: 0.3943 - accuracy: 0.8707 - val_loss: 0.3934 - val_accuracy: 0.8733\n",
      "CPU times: user 1min 5s, sys: 7.4 s, total: 1min 12s\n",
      "Wall time: 57.4 s\n"
     ]
    }
   ],
   "source": [
    "%%time\n",
    "opt = SGD(learning_rate=0.01)\n",
    "model_75.compile(optimizer=opt, loss='categorical_crossentropy',metrics=['accuracy'])\n",
    "history = model_75.fit(X_train, Y_train, epochs=100,\n",
    "                    validation_data=(X_valid, Y_valid),\n",
    "                    callbacks=[real_time_plot])"
   ]
  },
  {
   "cell_type": "markdown",
   "metadata": {},
   "source": [
    "lossもvalidation lossも同じように下がっているのが分かります。しかし奇妙な動きをしてますね。。。"
   ]
  },
  {
   "cell_type": "markdown",
   "metadata": {},
   "source": [
    "## 76.チェックポイント"
   ]
  },
  {
   "cell_type": "markdown",
   "metadata": {},
   "source": [
    "こちらも75と同様に、`Callbacks`を用います。"
   ]
  },
  {
   "cell_type": "code",
   "execution_count": 75,
   "metadata": {},
   "outputs": [],
   "source": [
    "import os\n",
    "from tensorflow.keras.callbacks import ModelCheckpoint"
   ]
  },
  {
   "cell_type": "code",
   "execution_count": 54,
   "metadata": {},
   "outputs": [],
   "source": [
    "# configs\n",
    "MODEL_DIR = './ch8_folder/models'"
   ]
  },
  {
   "cell_type": "code",
   "execution_count": 55,
   "metadata": {},
   "outputs": [],
   "source": [
    "if not os.path.exists(MODEL_DIR):  # ディレクトリが存在しない場合、作成する。\n",
    "    os.makedirs(MODEL_DIR)\n",
    "checkpoint = ModelCheckpoint(filepath=os.path.join(MODEL_DIR, \"model-{epoch:02d}.h5\"), verbose=0,save_weights_only=True, save_freq=1)"
   ]
  },
  {
   "cell_type": "code",
   "execution_count": 56,
   "metadata": {},
   "outputs": [],
   "source": [
    "model_76 = predict_nn()"
   ]
  },
  {
   "cell_type": "markdown",
   "metadata": {},
   "source": [
    "先ほどまでエポックは100で行っていましたが、パラメータをたくさん出力したくないため、エポックを10で行います。"
   ]
  },
  {
   "cell_type": "code",
   "execution_count": 57,
   "metadata": {},
   "outputs": [
    {
     "name": "stdout",
     "output_type": "stream",
     "text": [
      "Train on 10672 samples, validate on 1334 samples\n",
      "Epoch 1/10\n",
      "10672/10672 [==============================] - 2s 153us/sample - loss: 1.2061 - accuracy: 0.5631 - val_loss: 1.0915 - val_accuracy: 0.7181\n",
      "Epoch 2/10\n",
      "10672/10672 [==============================] - 1s 115us/sample - loss: 1.0297 - accuracy: 0.7468 - val_loss: 0.9887 - val_accuracy: 0.7489\n",
      "Epoch 3/10\n",
      "10672/10672 [==============================] - 1s 116us/sample - loss: 0.9483 - accuracy: 0.7637 - val_loss: 0.9230 - val_accuracy: 0.7549\n",
      "Epoch 4/10\n",
      "10672/10672 [==============================] - 1s 111us/sample - loss: 0.8915 - accuracy: 0.7684 - val_loss: 0.8735 - val_accuracy: 0.7556\n",
      "Epoch 5/10\n",
      "10672/10672 [==============================] - 1s 114us/sample - loss: 0.8475 - accuracy: 0.7721 - val_loss: 0.8341 - val_accuracy: 0.7586\n",
      "Epoch 6/10\n",
      "10672/10672 [==============================] - 1s 114us/sample - loss: 0.8120 - accuracy: 0.7736 - val_loss: 0.8014 - val_accuracy: 0.7609\n",
      "Epoch 7/10\n",
      "10672/10672 [==============================] - 1s 116us/sample - loss: 0.7824 - accuracy: 0.7762 - val_loss: 0.7742 - val_accuracy: 0.7616\n",
      "Epoch 8/10\n",
      "10672/10672 [==============================] - 1s 111us/sample - loss: 0.7573 - accuracy: 0.7771 - val_loss: 0.7507 - val_accuracy: 0.7631\n",
      "Epoch 9/10\n",
      "10672/10672 [==============================] - 1s 114us/sample - loss: 0.7354 - accuracy: 0.7782 - val_loss: 0.7299 - val_accuracy: 0.7631\n",
      "Epoch 10/10\n",
      "10672/10672 [==============================] - 1s 114us/sample - loss: 0.7162 - accuracy: 0.7787 - val_loss: 0.7118 - val_accuracy: 0.7639\n"
     ]
    }
   ],
   "source": [
    "opt = SGD(learning_rate=0.01)\n",
    "model_76.compile(optimizer=opt, loss='categorical_crossentropy',metrics=['accuracy'])\n",
    "history = model_76.fit(X_train, Y_train, epochs=10,\n",
    "                    validation_data=(X_valid, Y_valid),\n",
    "                    callbacks=[checkpoint])"
   ]
  },
  {
   "cell_type": "markdown",
   "metadata": {},
   "source": [
    "これで`MODEL_DIR`内にモデルが生成されていると思います。"
   ]
  },
  {
   "cell_type": "markdown",
   "metadata": {},
   "source": [
    "## 77.ミニバッチ化"
   ]
  },
  {
   "cell_type": "markdown",
   "metadata": {},
   "source": [
    "kerasをもちいたミニバッチ化は簡単です。`model.fit`のオプション変数である、`batch_size`で変更が可能です。\n",
    "問題ではBの値を1,2,4,8,...と書いてあるのですが、1,8,16あたりでやってみます。"
   ]
  },
  {
   "cell_type": "code",
   "execution_count": 58,
   "metadata": {},
   "outputs": [],
   "source": [
    "model_77_1 = predict_nn()"
   ]
  },
  {
   "cell_type": "code",
   "execution_count": 59,
   "metadata": {},
   "outputs": [
    {
     "data": {
      "image/png": "[encoded data removed]",
      "text/plain": [
       "<Figure size 720x360 with 2 Axes>"
      ]
     },
     "metadata": {
      "needs_background": "light"
     },
     "output_type": "display_data"
    },
    {
     "name": "stdout",
     "output_type": "stream",
     "text": [
      "10672/10672 [==============================] - 8s 794us/sample - loss: 0.2448 - accuracy: 0.9174 - val_loss: 0.2992 - val_accuracy: 0.9018\n",
      "CPU times: user 17min 5s, sys: 2min 19s, total: 19min 25s\n",
      "Wall time: 13min 52s\n"
     ]
    }
   ],
   "source": [
    "%%time\n",
    "opt = SGD(learning_rate=0.01)\n",
    "model_77_1.compile(optimizer=opt, loss='categorical_crossentropy',metrics=['accuracy'])\n",
    "history = model_77_1.fit(X_train, Y_train, epochs=100, batch_size=1,\n",
    "                    validation_data=(X_valid, Y_valid),\n",
    "                    callbacks=[real_time_plot])"
   ]
  },
  {
   "cell_type": "code",
   "execution_count": 60,
   "metadata": {},
   "outputs": [],
   "source": [
    "score1 = model_77_1.evaluate(X_test, Y_test, verbose=0)"
   ]
  },
  {
   "cell_type": "code",
   "execution_count": 61,
   "metadata": {},
   "outputs": [
    {
     "name": "stdout",
     "output_type": "stream",
     "text": [
      "Test loss:0.26944795778130126\n",
      "Test accuracy:0.9070464968681335\n"
     ]
    }
   ],
   "source": [
    "print('Test loss:{0}'.format(score1[0]))\n",
    "print('Test accuracy:{0}'.format(score1[1]))"
   ]
  },
  {
   "cell_type": "code",
   "execution_count": 62,
   "metadata": {},
   "outputs": [],
   "source": [
    "model_77_8 = predict_nn()"
   ]
  },
  {
   "cell_type": "code",
   "execution_count": 63,
   "metadata": {},
   "outputs": [
    {
     "data": {
      "image/png": "[encoded data removed]",
      "text/plain": [
       "<Figure size 720x360 with 2 Axes>"
      ]
     },
     "metadata": {
      "needs_background": "light"
     },
     "output_type": "display_data"
    },
    {
     "name": "stdout",
     "output_type": "stream",
     "text": [
      "10672/10672 [==============================] - 1s 130us/sample - loss: 0.3069 - accuracy: 0.8964 - val_loss: 0.3180 - val_accuracy: 0.8921\n",
      "CPU times: user 2min 44s, sys: 20.4 s, total: 3min 5s\n",
      "Wall time: 2min 17s\n"
     ]
    }
   ],
   "source": [
    "%%time\n",
    "opt = SGD(learning_rate=0.01)\n",
    "model_77_8.compile(optimizer=opt, loss='categorical_crossentropy',metrics=['accuracy'])\n",
    "history = model_77_8.fit(X_train, Y_train, epochs=100, batch_size=8,\n",
    "                    validation_data=(X_valid, Y_valid),\n",
    "                    callbacks=[real_time_plot])"
   ]
  },
  {
   "cell_type": "code",
   "execution_count": 64,
   "metadata": {},
   "outputs": [],
   "source": [
    "score2 = model_77_8.evaluate(X_test, Y_test, verbose=0)"
   ]
  },
  {
   "cell_type": "code",
   "execution_count": 65,
   "metadata": {},
   "outputs": [
    {
     "name": "stdout",
     "output_type": "stream",
     "text": [
      "Test loss:0.32343330000830195\n",
      "Test accuracy:0.8898050785064697\n"
     ]
    }
   ],
   "source": [
    "print('Test loss:{0}'.format(score2[0]))\n",
    "print('Test accuracy:{0}'.format(score2[1]))"
   ]
  },
  {
   "cell_type": "code",
   "execution_count": 66,
   "metadata": {},
   "outputs": [],
   "source": [
    "model_77_16 = predict_nn()"
   ]
  },
  {
   "cell_type": "code",
   "execution_count": 67,
   "metadata": {},
   "outputs": [
    {
     "data": {
      "image/png": "[encoded data removed]",
      "text/plain": [
       "<Figure size 720x360 with 2 Axes>"
      ]
     },
     "metadata": {
      "needs_background": "light"
     },
     "output_type": "display_data"
    },
    {
     "name": "stdout",
     "output_type": "stream",
     "text": [
      "10672/10672 [==============================] - 1s 79us/sample - loss: 0.3429 - accuracy: 0.8878 - val_loss: 0.3449 - val_accuracy: 0.8906\n",
      "CPU times: user 1min 38s, sys: 11.4 s, total: 1min 49s\n",
      "Wall time: 1min 24s\n"
     ]
    }
   ],
   "source": [
    "%%time\n",
    "opt = SGD(learning_rate=0.01)\n",
    "model_77_16.compile(optimizer=opt, loss='categorical_crossentropy',metrics=['accuracy'])\n",
    "history = model_77_16.fit(X_train, Y_train, epochs=100, batch_size=16,\n",
    "                    validation_data=(X_valid, Y_valid),\n",
    "                    callbacks=[real_time_plot])"
   ]
  },
  {
   "cell_type": "code",
   "execution_count": 68,
   "metadata": {},
   "outputs": [],
   "source": [
    "score3 = model_77_16.evaluate(X_test, Y_test, verbose=0)"
   ]
  },
  {
   "cell_type": "code",
   "execution_count": 69,
   "metadata": {},
   "outputs": [
    {
     "name": "stdout",
     "output_type": "stream",
     "text": [
      "Test loss:0.3617327741418464\n",
      "Test accuracy:0.8785607218742371\n"
     ]
    }
   ],
   "source": [
    "print('Test loss:{0}'.format(score3[0]))\n",
    "print('Test accuracy:{0}'.format(score3[1]))"
   ]
  },
  {
   "cell_type": "markdown",
   "metadata": {},
   "source": [
    "## 78.GPU上での学習"
   ]
  },
  {
   "cell_type": "markdown",
   "metadata": {},
   "source": [
    "こちらは手元の環境ではできないので行いません。"
   ]
  },
  {
   "cell_type": "markdown",
   "metadata": {},
   "source": [
    "## 79.多層ニューラルネットワーク"
   ]
  },
  {
   "cell_type": "markdown",
   "metadata": {},
   "source": [
    "先ほどまでは一層のニューラルネットワークをさわってたわけですが、今度は多層のニューラルネットとかを作ってみましょう。\n",
    "今までの結果から、\n",
    "\n",
    "- epochが100のままだと過適合しそう\n",
    "- バッチサイズは小さいとよくなさそうなので、16ぐらいで\n",
    "\n",
    "みたいが見えるので、そこら辺を意識しながらパラメータを編集します。"
   ]
  },
  {
   "cell_type": "code",
   "execution_count": 70,
   "metadata": {},
   "outputs": [],
   "source": [
    "from tensorflow.keras.layers import Dropout"
   ]
  },
  {
   "cell_type": "code",
   "execution_count": 71,
   "metadata": {},
   "outputs": [],
   "source": [
    "def many_nn():\n",
    "    inputs = Input(shape=(300,))\n",
    "    x = Dense(200, activation='relu')(inputs)\n",
    "    x = Dropout(0.5)(x)\n",
    "    outputs = Dense(4, activation='softmax') (x)\n",
    "    model = Model(inputs=inputs, outputs=outputs)\n",
    "    return model"
   ]
  },
  {
   "cell_type": "code",
   "execution_count": 72,
   "metadata": {},
   "outputs": [],
   "source": [
    "model_79 = many_nn()"
   ]
  },
  {
   "cell_type": "code",
   "execution_count": 73,
   "metadata": {},
   "outputs": [
    {
     "data": {
      "image/png": "[encoded data removed]",
      "text/plain": [
       "<Figure size 720x360 with 2 Axes>"
      ]
     },
     "metadata": {
      "needs_background": "light"
     },
     "output_type": "display_data"
    },
    {
     "name": "stdout",
     "output_type": "stream",
     "text": [
      "10672/10672 [==============================] - 1s 86us/sample - loss: 0.2870 - accuracy: 0.9030 - val_loss: 0.2910 - val_accuracy: 0.8966\n",
      "CPU times: user 51.6 s, sys: 5.55 s, total: 57.2 s\n",
      "Wall time: 43.1 s\n"
     ]
    }
   ],
   "source": [
    "%%time\n",
    "opt = SGD(learning_rate=0.01)\n",
    "model_79.compile(optimizer=opt, loss='categorical_crossentropy',metrics=['accuracy'])\n",
    "history = model_79.fit(X_train, Y_train, epochs=45, batch_size=16,\n",
    "                    validation_data=(X_valid, Y_valid),\n",
    "                    callbacks=[real_time_plot])"
   ]
  },
  {
   "cell_type": "code",
   "execution_count": 74,
   "metadata": {},
   "outputs": [
    {
     "name": "stdout",
     "output_type": "stream",
     "text": [
      "Test loss:0.28149786564721163\n",
      "Test accuracy:0.904047966003418\n"
     ]
    }
   ],
   "source": [
    "score4 = model_79.evaluate(X_test, Y_test, verbose=0)\n",
    "print('Test loss:{0}'.format(score4[0]))\n",
    "print('Test accuracy:{0}'.format(score4[1]))"
   ]
  },
  {
   "cell_type": "markdown",
   "metadata": {},
   "source": [
    "Accuracyそこまで上がらなかったですね。。。"
   ]
  },
  {
   "cell_type": "code",
   "execution_count": null,
   "metadata": {},
   "outputs": [],
   "source": []
  }
 ],
 "metadata": {
  "kernelspec": {
   "display_name": "Python 3",
   "language": "python",
   "name": "python3"
  },
  "language_info": {
   "codemirror_mode": {
    "name": "ipython",
    "version": 3
   },
   "file_extension": ".py",
   "mimetype": "text/x-python",
   "name": "python",
   "nbconvert_exporter": "python",
   "pygments_lexer": "ipython3",
   "version": "3.7.3"
  }
 },
 "nbformat": 4,
 "nbformat_minor": 4
}
