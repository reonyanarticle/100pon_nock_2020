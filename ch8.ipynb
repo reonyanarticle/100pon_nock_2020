{
 "cells": [
  {
   "cell_type": "markdown",
   "metadata": {},
   "source": [
    "# 第8章: ニューラルネット"
   ]
  },
  {
   "cell_type": "markdown",
   "metadata": {},
   "source": [
    "## 70.単語ベクトルの和による特徴量"
   ]
  },
  {
   "cell_type": "code",
   "execution_count": 1,
   "metadata": {},
   "outputs": [],
   "source": [
    "import gensim\n",
    "import numpy as np\n",
    "import pandas as pd\n",
    "import re"
   ]
  },
  {
   "cell_type": "code",
   "execution_count": 2,
   "metadata": {},
   "outputs": [],
   "source": [
    "#configs\n",
    "TRAIN_DATA_PATH ='./ch6_folder/save_data/train.csv'\n",
    "VALID_DATA_PATH = './ch6_folder/save_data/valid.csv'\n",
    "TEST_DATA_PATH = './ch6_folder/save_data/test.csv'\n",
    "GOOGLE_MODEL_PATH = './ch7_folder/model/GoogleNews-vectors-negative300.bin'"
   ]
  },
  {
   "cell_type": "code",
   "execution_count": 3,
   "metadata": {},
   "outputs": [],
   "source": [
    "model = gensim.models.KeyedVectors.load_word2vec_format(GOOGLE_MODEL_PATH, binary=True)"
   ]
  },
  {
   "cell_type": "code",
   "execution_count": 4,
   "metadata": {},
   "outputs": [
    {
     "name": "stderr",
     "output_type": "stream",
     "text": [
      "/Users/yoshidatomoya/anaconda3/lib/python3.7/site-packages/ipykernel_launcher.py:1: DeprecationWarning: Call to deprecated `wv` (Attribute will be removed in 4.0.0, use self instead).\n",
      "  \"\"\"Entry point for launching an IPython kernel.\n"
     ]
    }
   ],
   "source": [
    "model_vocab_list = list(model.wv.vocab.keys())"
   ]
  },
  {
   "cell_type": "markdown",
   "metadata": {},
   "source": [
    "記事の見出しの単語列 $(w_{i,1}, \\ldots, w_{i,T_i})$ に対して、embeddingをおこない、以下のような特徴ベクトルを生成すると書いてあります。\n",
    "\n",
    "$$\n",
    "    {x}_i = \\frac{1}{T_i}\\sum_{1 \\leq t \\leq T_i} {emb}(w_{i,t}) \n",
    "$$\n",
    "\n",
    "これは、各単語数に関する平均を特徴量にするということですね。"
   ]
  },
  {
   "cell_type": "code",
   "execution_count": 5,
   "metadata": {},
   "outputs": [],
   "source": [
    "CATEGORY_TAG = {'b': 0, 't': 1, 'e': 2, 'm': 3}"
   ]
  },
  {
   "cell_type": "code",
   "execution_count": 6,
   "metadata": {},
   "outputs": [],
   "source": [
    "df_train = pd.read_csv(TRAIN_DATA_PATH)\n",
    "df_valid = pd.read_csv(VALID_DATA_PATH)\n",
    "df_test = pd.read_csv(TEST_DATA_PATH)"
   ]
  },
  {
   "cell_type": "code",
   "execution_count": 7,
   "metadata": {},
   "outputs": [],
   "source": [
    "train_titles_list = [title.split() for title in df_train['TITLE'].values.tolist()]\n",
    "valid_titles_list = [title.split() for title in df_valid['TITLE'].values.tolist()]\n",
    "test_titles_list = [title.split() for title in df_test['TITLE'].values.tolist()]"
   ]
  },
  {
   "cell_type": "code",
   "execution_count": 8,
   "metadata": {},
   "outputs": [
    {
     "name": "stdout",
     "output_type": "stream",
     "text": [
      "10672 1334 1334\n"
     ]
    }
   ],
   "source": [
    "train_length = len(train_titles_list)\n",
    "valid_length = len(valid_titles_list)\n",
    "test_length = len(test_titles_list)\n",
    "print(train_length, valid_length, test_length)"
   ]
  },
  {
   "cell_type": "code",
   "execution_count": 9,
   "metadata": {},
   "outputs": [],
   "source": [
    "def tokenize(word: str) -> str:\n",
    "    \"\"\"\n",
    "    \"\"\"\n",
    "    word = word.replace('-', '')\n",
    "    word = word.replace('.', '')\n",
    "    word = word.replace('\\'', '')\n",
    "    word = word.replace(':', '')\n",
    "    return word"
   ]
  },
  {
   "cell_type": "code",
   "execution_count": 10,
   "metadata": {},
   "outputs": [],
   "source": [
    "def get_embedding_matrix(titles_list):\n",
    "    feature_vecs_list = []\n",
    "    \n",
    "    for title in titles_list:\n",
    "        tmp_vecs_list =[]\n",
    "        for word in title:\n",
    "            word = tokenize(word)\n",
    "            try:\n",
    "                vec = model[word]\n",
    "                tmp_vecs_list.append(vec)\n",
    "            except KeyError as e:\n",
    "                pass\n",
    "        \n",
    "        if len(tmp_vecs_list) == 1:\n",
    "            feature_vec = tmp_vecs_list[0]\n",
    "        else:\n",
    "            np_vecs = np.array(tmp_vecs_list)\n",
    "            feature_vec = np.mean(np_vecs, axis=0)\n",
    "        feature_vecs_list.append(feature_vec)\n",
    "    return np.array(feature_vecs_list)"
   ]
  },
  {
   "cell_type": "code",
   "execution_count": 11,
   "metadata": {},
   "outputs": [],
   "source": [
    "X_train = get_embedding_matrix(train_titles_list)\n",
    "X_valid = get_embedding_matrix(valid_titles_list)\n",
    "X_test = get_embedding_matrix(test_titles_list)"
   ]
  },
  {
   "cell_type": "code",
   "execution_count": 12,
   "metadata": {},
   "outputs": [
    {
     "data": {
      "text/plain": [
       "(10672, 300)"
      ]
     },
     "execution_count": 12,
     "metadata": {},
     "output_type": "execute_result"
    }
   ],
   "source": [
    "X_train.shape"
   ]
  },
  {
   "cell_type": "code",
   "execution_count": 13,
   "metadata": {},
   "outputs": [
    {
     "data": {
      "text/plain": [
       "(1334, 300)"
      ]
     },
     "execution_count": 13,
     "metadata": {},
     "output_type": "execute_result"
    }
   ],
   "source": [
    "X_valid.shape"
   ]
  },
  {
   "cell_type": "code",
   "execution_count": 14,
   "metadata": {},
   "outputs": [
    {
     "data": {
      "text/plain": [
       "(1334, 300)"
      ]
     },
     "execution_count": 14,
     "metadata": {},
     "output_type": "execute_result"
    }
   ],
   "source": [
    "X_test.shape"
   ]
  },
  {
   "cell_type": "code",
   "execution_count": 15,
   "metadata": {},
   "outputs": [],
   "source": [
    "y_train= pd.read_csv(TRAIN_DATA_PATH)['CATEGORY'].map(CATEGORY_TAG).values\n",
    "y_valid = pd.read_csv(VALID_DATA_PATH)['CATEGORY'].map(CATEGORY_TAG).values\n",
    "y_test = pd.read_csv(TEST_DATA_PATH)['CATEGORY'].map(CATEGORY_TAG).values"
   ]
  },
  {
   "cell_type": "code",
   "execution_count": 16,
   "metadata": {},
   "outputs": [],
   "source": [
    "Y_train = np.eye(4)[y_train]\n",
    "Y_valid = np.eye(4)[y_valid]\n",
    "Y_test = np.eye(4)[y_test]"
   ]
  },
  {
   "cell_type": "code",
   "execution_count": 17,
   "metadata": {},
   "outputs": [
    {
     "data": {
      "text/plain": [
       "0"
      ]
     },
     "execution_count": 17,
     "metadata": {},
     "output_type": "execute_result"
    }
   ],
   "source": [
    "y_train[1]"
   ]
  },
  {
   "cell_type": "code",
   "execution_count": 18,
   "metadata": {},
   "outputs": [
    {
     "data": {
      "text/plain": [
       "(10672,)"
      ]
     },
     "execution_count": 18,
     "metadata": {},
     "output_type": "execute_result"
    }
   ],
   "source": [
    "y_train.shape"
   ]
  },
  {
   "cell_type": "code",
   "execution_count": 19,
   "metadata": {},
   "outputs": [
    {
     "data": {
      "text/plain": [
       "(10672, 4)"
      ]
     },
     "execution_count": 19,
     "metadata": {},
     "output_type": "execute_result"
    }
   ],
   "source": [
    "Y_train.shape"
   ]
  },
  {
   "cell_type": "code",
   "execution_count": 20,
   "metadata": {},
   "outputs": [
    {
     "data": {
      "text/plain": [
       "(1334,)"
      ]
     },
     "execution_count": 20,
     "metadata": {},
     "output_type": "execute_result"
    }
   ],
   "source": [
    "y_valid.shape"
   ]
  },
  {
   "cell_type": "code",
   "execution_count": 21,
   "metadata": {},
   "outputs": [
    {
     "data": {
      "text/plain": [
       "(1334, 4)"
      ]
     },
     "execution_count": 21,
     "metadata": {},
     "output_type": "execute_result"
    }
   ],
   "source": [
    "Y_valid.shape"
   ]
  },
  {
   "cell_type": "code",
   "execution_count": 22,
   "metadata": {},
   "outputs": [
    {
     "data": {
      "text/plain": [
       "(1334,)"
      ]
     },
     "execution_count": 22,
     "metadata": {},
     "output_type": "execute_result"
    }
   ],
   "source": [
    "y_test.shape"
   ]
  },
  {
   "cell_type": "code",
   "execution_count": 23,
   "metadata": {},
   "outputs": [
    {
     "data": {
      "text/plain": [
       "(1334, 4)"
      ]
     },
     "execution_count": 23,
     "metadata": {},
     "output_type": "execute_result"
    }
   ],
   "source": [
    "Y_test.shape"
   ]
  },
  {
   "cell_type": "markdown",
   "metadata": {},
   "source": [
    "## 71. 単層NNによる予測"
   ]
  },
  {
   "cell_type": "markdown",
   "metadata": {},
   "source": [
    "個人的にこういう時にKerasを使うのが好きなのでKerasを使っていきます。\n",
    "重みの初期化のところ、毎回同じ値を取りたいのでrandom seedみたいなことをしたいのですが、どうすればいいですかね。"
   ]
  },
  {
   "cell_type": "code",
   "execution_count": 24,
   "metadata": {},
   "outputs": [],
   "source": [
    "from tensorflow.keras.layers import Dense, Input\n",
    "from tensorflow.keras.models import Model\n",
    "import tensorflow as tf"
   ]
  },
  {
   "cell_type": "code",
   "execution_count": 25,
   "metadata": {},
   "outputs": [],
   "source": [
    "def predict_nn():\n",
    "    inputs = Input(shape=(300,))\n",
    "    outputs = Dense(4, activation='softmax') (inputs)\n",
    "    model = Model(inputs=inputs, outputs=outputs)\n",
    "    return model"
   ]
  },
  {
   "cell_type": "code",
   "execution_count": 26,
   "metadata": {},
   "outputs": [],
   "source": [
    "x_1 = X_train[:1]\n",
    "X_1_4 = X_train[:4]"
   ]
  },
  {
   "cell_type": "code",
   "execution_count": 27,
   "metadata": {},
   "outputs": [],
   "source": [
    "model_71 = predict_nn()"
   ]
  },
  {
   "cell_type": "code",
   "execution_count": 28,
   "metadata": {},
   "outputs": [
    {
     "name": "stdout",
     "output_type": "stream",
     "text": [
      "Model: \"model\"\n",
      "_________________________________________________________________\n",
      "Layer (type)                 Output Shape              Param #   \n",
      "=================================================================\n",
      "input_1 (InputLayer)         [(None, 300)]             0         \n",
      "_________________________________________________________________\n",
      "dense (Dense)                (None, 4)                 1204      \n",
      "=================================================================\n",
      "Total params: 1,204\n",
      "Trainable params: 1,204\n",
      "Non-trainable params: 0\n",
      "_________________________________________________________________\n"
     ]
    }
   ],
   "source": [
    "model_71.summary()"
   ]
  },
  {
   "cell_type": "code",
   "execution_count": 29,
   "metadata": {},
   "outputs": [],
   "source": [
    "y_1 = model_71.predict(x_1)\n",
    "Y_1_4 = model_71.predict(X_1_4)"
   ]
  },
  {
   "cell_type": "code",
   "execution_count": 30,
   "metadata": {},
   "outputs": [
    {
     "data": {
      "text/plain": [
       "array([[0.28797054, 0.25410056, 0.2565495 , 0.2013795 ]], dtype=float32)"
      ]
     },
     "execution_count": 30,
     "metadata": {},
     "output_type": "execute_result"
    }
   ],
   "source": [
    "y_1"
   ]
  },
  {
   "cell_type": "code",
   "execution_count": 31,
   "metadata": {},
   "outputs": [
    {
     "data": {
      "text/plain": [
       "array([[0.28797048, 0.25410053, 0.25654945, 0.20137946],\n",
       "       [0.21581784, 0.22734983, 0.271195  , 0.28563735],\n",
       "       [0.20978704, 0.24550016, 0.26268765, 0.2820251 ],\n",
       "       [0.23941986, 0.23643339, 0.2514218 , 0.2727249 ]], dtype=float32)"
      ]
     },
     "execution_count": 31,
     "metadata": {},
     "output_type": "execute_result"
    }
   ],
   "source": [
    "Y_1_4"
   ]
  },
  {
   "cell_type": "markdown",
   "metadata": {},
   "source": [
    "## 72. 損失と勾配の計算"
   ]
  },
  {
   "cell_type": "markdown",
   "metadata": {},
   "source": [
    "文面からは、実際自分でクロスエントロピー損失関数や、勾配を`numpy`や`math`を用いて作成して、作成した関数を用いて求めてほしいのか、71とかで使ったモジュールを用いてやって欲しいのかイマイチわからないのですが、自作はせずにkerasを使ってやります。"
   ]
  },
  {
   "cell_type": "code",
   "execution_count": 32,
   "metadata": {},
   "outputs": [],
   "source": [
    "from tensorflow.keras.losses import CategoricalCrossentropy\n",
    "from tensorflow.keras.backend import gradients"
   ]
  },
  {
   "cell_type": "code",
   "execution_count": 33,
   "metadata": {},
   "outputs": [],
   "source": [
    "y_train_1 = Y_train[:1]\n",
    "Y_train_1_4 = Y_train[:4]"
   ]
  },
  {
   "cell_type": "code",
   "execution_count": 34,
   "metadata": {},
   "outputs": [
    {
     "data": {
      "text/plain": [
       "\u001b[0;31mInit signature:\u001b[0m\n",
       "\u001b[0mCategoricalCrossentropy\u001b[0m\u001b[0;34m(\u001b[0m\u001b[0;34m\u001b[0m\n",
       "\u001b[0;34m\u001b[0m    \u001b[0mfrom_logits\u001b[0m\u001b[0;34m=\u001b[0m\u001b[0;32mFalse\u001b[0m\u001b[0;34m,\u001b[0m\u001b[0;34m\u001b[0m\n",
       "\u001b[0;34m\u001b[0m    \u001b[0mlabel_smoothing\u001b[0m\u001b[0;34m=\u001b[0m\u001b[0;36m0\u001b[0m\u001b[0;34m,\u001b[0m\u001b[0;34m\u001b[0m\n",
       "\u001b[0;34m\u001b[0m    \u001b[0mreduction\u001b[0m\u001b[0;34m=\u001b[0m\u001b[0;34m'auto'\u001b[0m\u001b[0;34m,\u001b[0m\u001b[0;34m\u001b[0m\n",
       "\u001b[0;34m\u001b[0m    \u001b[0mname\u001b[0m\u001b[0;34m=\u001b[0m\u001b[0;34m'categorical_crossentropy'\u001b[0m\u001b[0;34m,\u001b[0m\u001b[0;34m\u001b[0m\n",
       "\u001b[0;34m\u001b[0m\u001b[0;34m)\u001b[0m\u001b[0;34m\u001b[0m\u001b[0;34m\u001b[0m\u001b[0m\n",
       "\u001b[0;31mDocstring:\u001b[0m     \n",
       "Computes the crossentropy loss between the labels and predictions.\n",
       "\n",
       "Use this crossentropy loss function when there are two or more label classes.\n",
       "We expect labels to be provided in a `one_hot` representation. If you want to\n",
       "provide labels as integers, please use `SparseCategoricalCrossentropy` loss.\n",
       "There should be `# classes` floating point values per feature.\n",
       "\n",
       "In the snippet below, there is `# classes` floating pointing values per\n",
       "example. The shape of both `y_pred` and `y_true` are\n",
       "`[batch_size, num_classes]`.\n",
       "\n",
       "Usage:\n",
       "\n",
       "```python\n",
       "cce = tf.keras.losses.CategoricalCrossentropy()\n",
       "loss = cce(\n",
       "  [[1., 0., 0.], [0., 1., 0.], [0., 0., 1.]],\n",
       "  [[.9, .05, .05], [.05, .89, .06], [.05, .01, .94]])\n",
       "print('Loss: ', loss.numpy())  # Loss: 0.0945\n",
       "```\n",
       "\n",
       "Usage with the `compile` API:\n",
       "\n",
       "```python\n",
       "model = tf.keras.Model(inputs, outputs)\n",
       "model.compile('sgd', loss=tf.keras.losses.CategoricalCrossentropy())\n",
       "```\n",
       "\n",
       "Args:\n",
       "  from_logits: Whether `y_pred` is expected to be a logits tensor. By default,\n",
       "    we assume that `y_pred` encodes a probability distribution.\n",
       "    Note: Using from_logits=True may be more numerically stable.\n",
       "  label_smoothing: Float in [0, 1]. When > 0, label values are smoothed,\n",
       "    meaning the confidence on label values are relaxed. e.g.\n",
       "    `label_smoothing=0.2` means that we will use a value of `0.1` for label\n",
       "    `0` and `0.9` for label `1`\"\n",
       "  reduction: (Optional) Type of `tf.keras.losses.Reduction` to apply to loss.\n",
       "    Default value is `AUTO`. `AUTO` indicates that the reduction option will\n",
       "    be determined by the usage context. For almost all cases this defaults to\n",
       "    `SUM_OVER_BATCH_SIZE`.\n",
       "    When used with `tf.distribute.Strategy`, outside of built-in training\n",
       "    loops such as `tf.keras` `compile` and `fit`, using `AUTO` or\n",
       "    `SUM_OVER_BATCH_SIZE` will raise an error. Please see\n",
       "    https://www.tensorflow.org/tutorials/distribute/custom_training\n",
       "    for more details on this.\n",
       "  name: Optional name for the op.\n",
       "\u001b[0;31mFile:\u001b[0m           ~/anaconda3/lib/python3.7/site-packages/tensorflow_core/python/keras/losses.py\n",
       "\u001b[0;31mType:\u001b[0m           type\n",
       "\u001b[0;31mSubclasses:\u001b[0m     \n"
      ]
     },
     "metadata": {},
     "output_type": "display_data"
    }
   ],
   "source": [
    "CategoricalCrossentropy?"
   ]
  },
  {
   "cell_type": "code",
   "execution_count": 35,
   "metadata": {},
   "outputs": [],
   "source": [
    "cce = CategoricalCrossentropy()"
   ]
  },
  {
   "cell_type": "markdown",
   "metadata": {},
   "source": [
    "$\\hat{y}_1$のクロスエントロピー損失は、"
   ]
  },
  {
   "cell_type": "code",
   "execution_count": 36,
   "metadata": {},
   "outputs": [
    {
     "data": {
      "text/plain": [
       "1.2448972"
      ]
     },
     "execution_count": 36,
     "metadata": {},
     "output_type": "execute_result"
    }
   ],
   "source": [
    "cce(y_train_1,y_1).numpy()"
   ]
  },
  {
   "cell_type": "markdown",
   "metadata": {},
   "source": [
    "$\\hat{Y}$のクロスエントロピー損失は、"
   ]
  },
  {
   "cell_type": "code",
   "execution_count": 37,
   "metadata": {},
   "outputs": [
    {
     "data": {
      "text/plain": [
       "1.3683784"
      ]
     },
     "execution_count": 37,
     "metadata": {},
     "output_type": "execute_result"
    }
   ],
   "source": [
    "cce(Y_train_1_4,Y_1_4).numpy()"
   ]
  },
  {
   "cell_type": "markdown",
   "metadata": {},
   "source": [
    "損失を求められたので、次は勾配を求めます。実は、`keras`の関数である`keras.backend.gradient`を用いると`RuntimeError`がでます。\n",
    "そのため、今回は`tf.GradientTape()`を用いて求めます。\n",
    "ちなみに、先ほど定義したモデルから、weightの行列を取得し、そのweight行列と`numpy`の`gradient`を用いて計算して、gradientを求めようと思ったのですが、`numpy.gradient`の仕様がよくわからなくてやめました。誰か書ける人がいたら教えてください。"
   ]
  },
  {
   "cell_type": "code",
   "execution_count": 38,
   "metadata": {},
   "outputs": [],
   "source": [
    "def calculate_grad(x,y):\n",
    "    \n",
    "    def _loss_fn(y_predict, y):\n",
    "        return cce(y_predict, y)\n",
    "\n",
    "    inputs = tf.convert_to_tensor(x)\n",
    "    targets = tf.convert_to_tensor(y)\n",
    "    with tf.GradientTape() as tape:\n",
    "        y_predict = model_71(inputs)\n",
    "        loss = _loss_fn(y_predict, targets)\n",
    "    grads = tape.gradient(loss, model_71.variables)\n",
    "    \n",
    "    return grads"
   ]
  },
  {
   "cell_type": "code",
   "execution_count": 39,
   "metadata": {},
   "outputs": [
    {
     "data": {
      "text/plain": [
       "[<tf.Tensor: shape=(300, 4), dtype=float32, numpy=\n",
       " array([[ 0.0562787 , -0.02008406, -0.02027762, -0.015917  ],\n",
       "        [-0.01890365,  0.00674611,  0.00681112,  0.00534642],\n",
       "        [ 0.01521513, -0.00542979, -0.00548212, -0.00430321],\n",
       "        ...,\n",
       "        [-0.22237724,  0.07935929,  0.08012413,  0.06289373],\n",
       "        [-0.1719771 ,  0.0613731 ,  0.0619646 ,  0.04863934],\n",
       "        [ 0.33628902, -0.12001074, -0.12116737, -0.09511077]],\n",
       "       dtype=float32)>,\n",
       " <tf.Tensor: shape=(4,), dtype=float32, numpy=array([-3.3049114,  1.1794167,  1.1907835,  0.9347099], dtype=float32)>]"
      ]
     },
     "execution_count": 39,
     "metadata": {},
     "output_type": "execute_result"
    }
   ],
   "source": [
    "calculate_grad(x_1, y_train_1)"
   ]
  },
  {
   "cell_type": "code",
   "execution_count": 40,
   "metadata": {},
   "outputs": [
    {
     "data": {
      "text/plain": [
       "TensorShape([300, 4])"
      ]
     },
     "execution_count": 40,
     "metadata": {},
     "output_type": "execute_result"
    }
   ],
   "source": [
    "calculate_grad(x_1, y_train_1)[0].shape"
   ]
  },
  {
   "cell_type": "code",
   "execution_count": 41,
   "metadata": {},
   "outputs": [
    {
     "data": {
      "text/plain": [
       "[<tf.Tensor: shape=(300, 4), dtype=float32, numpy=\n",
       " array([[-0.09874731,  0.04166738,  0.04768534,  0.00939462],\n",
       "        [-0.10139605,  0.04409908,  0.05020312,  0.00709388],\n",
       "        [ 0.01642737,  0.00077023, -0.00080444, -0.01639316],\n",
       "        ...,\n",
       "        [-0.08822582,  0.00979835,  0.00820899,  0.0702185 ],\n",
       "        [-0.15904176,  0.06099141,  0.06579489,  0.03225551],\n",
       "        [ 0.11136339, -0.01129926, -0.00834985, -0.09171431]],\n",
       "       dtype=float32)>,\n",
       " <tf.Tensor: shape=(4,), dtype=float32, numpy=array([-2.0035467 ,  0.9996592 ,  1.0746229 , -0.07073495], dtype=float32)>]"
      ]
     },
     "execution_count": 41,
     "metadata": {},
     "output_type": "execute_result"
    }
   ],
   "source": [
    "calculate_grad(X_1_4, Y_train_1_4)"
   ]
  },
  {
   "cell_type": "code",
   "execution_count": 42,
   "metadata": {},
   "outputs": [
    {
     "data": {
      "text/plain": [
       "TensorShape([300, 4])"
      ]
     },
     "execution_count": 42,
     "metadata": {},
     "output_type": "execute_result"
    }
   ],
   "source": [
    "calculate_grad(X_1_4, Y_train_1_4)[0].shape"
   ]
  },
  {
   "cell_type": "markdown",
   "metadata": {},
   "source": [
    "## 73. 確率的勾配降下法による学習"
   ]
  },
  {
   "cell_type": "markdown",
   "metadata": {},
   "source": [
    ">確率的勾配降下法（SGD: Stochastic Gradient Descent）を用いて，行列Wを学習せよ.\n",
    "\n",
    "とのことなので、さっきのモデルを用いて、行いたいと思います。"
   ]
  },
  {
   "cell_type": "code",
   "execution_count": 43,
   "metadata": {},
   "outputs": [],
   "source": [
    "from tensorflow.keras.optimizers import SGD"
   ]
  },
  {
   "cell_type": "code",
   "execution_count": 44,
   "metadata": {},
   "outputs": [],
   "source": [
    "model_73 = predict_nn()"
   ]
  },
  {
   "cell_type": "code",
   "execution_count": 45,
   "metadata": {},
   "outputs": [
    {
     "name": "stdout",
     "output_type": "stream",
     "text": [
      "Train on 10672 samples, validate on 1334 samples\n",
      "Epoch 1/100\n",
      "10672/10672 [==============================] - 1s 49us/sample - loss: 1.1999 - accuracy: 0.6284 - val_loss: 1.0914 - val_accuracy: 0.7474\n",
      "Epoch 2/100\n",
      "10672/10672 [==============================] - 0s 26us/sample - loss: 1.0255 - accuracy: 0.7685 - val_loss: 0.9905 - val_accuracy: 0.7631\n",
      "Epoch 3/100\n",
      "10672/10672 [==============================] - 0s 26us/sample - loss: 0.9456 - accuracy: 0.7787 - val_loss: 0.9255 - val_accuracy: 0.7669\n",
      "Epoch 4/100\n",
      "10672/10672 [==============================] - 0s 26us/sample - loss: 0.8898 - accuracy: 0.7790 - val_loss: 0.8764 - val_accuracy: 0.7661\n",
      "Epoch 5/100\n",
      "10672/10672 [==============================] - 0s 27us/sample - loss: 0.8467 - accuracy: 0.7799 - val_loss: 0.8373 - val_accuracy: 0.7654\n",
      "Epoch 6/100\n",
      "10672/10672 [==============================] - 0s 26us/sample - loss: 0.8118 - accuracy: 0.7802 - val_loss: 0.8050 - val_accuracy: 0.7661\n",
      "Epoch 7/100\n",
      "10672/10672 [==============================] - 0s 27us/sample - loss: 0.7827 - accuracy: 0.7802 - val_loss: 0.7780 - val_accuracy: 0.7676\n",
      "Epoch 8/100\n",
      "10672/10672 [==============================] - 0s 26us/sample - loss: 0.7579 - accuracy: 0.7823 - val_loss: 0.7547 - val_accuracy: 0.7669\n",
      "Epoch 9/100\n",
      "10672/10672 [==============================] - 0s 26us/sample - loss: 0.7364 - accuracy: 0.7814 - val_loss: 0.7343 - val_accuracy: 0.7676\n",
      "Epoch 10/100\n",
      "10672/10672 [==============================] - 0s 27us/sample - loss: 0.7175 - accuracy: 0.7818 - val_loss: 0.7162 - val_accuracy: 0.7691\n",
      "Epoch 11/100\n",
      "10672/10672 [==============================] - 0s 26us/sample - loss: 0.7007 - accuracy: 0.7824 - val_loss: 0.6999 - val_accuracy: 0.7699\n",
      "Epoch 12/100\n",
      "10672/10672 [==============================] - 0s 27us/sample - loss: 0.6856 - accuracy: 0.7832 - val_loss: 0.6854 - val_accuracy: 0.7699\n",
      "Epoch 13/100\n",
      "10672/10672 [==============================] - 0s 27us/sample - loss: 0.6718 - accuracy: 0.7834 - val_loss: 0.6720 - val_accuracy: 0.7714\n",
      "Epoch 14/100\n",
      "10672/10672 [==============================] - 0s 27us/sample - loss: 0.6593 - accuracy: 0.7842 - val_loss: 0.6597 - val_accuracy: 0.7729\n",
      "Epoch 15/100\n",
      "10672/10672 [==============================] - 0s 27us/sample - loss: 0.6478 - accuracy: 0.7848 - val_loss: 0.6485 - val_accuracy: 0.7721\n",
      "Epoch 16/100\n",
      "10672/10672 [==============================] - 0s 27us/sample - loss: 0.6371 - accuracy: 0.7861 - val_loss: 0.6381 - val_accuracy: 0.7751\n",
      "Epoch 17/100\n",
      "10672/10672 [==============================] - 0s 27us/sample - loss: 0.6272 - accuracy: 0.7868 - val_loss: 0.6284 - val_accuracy: 0.7766\n",
      "Epoch 18/100\n",
      "10672/10672 [==============================] - 0s 26us/sample - loss: 0.6180 - accuracy: 0.7883 - val_loss: 0.6192 - val_accuracy: 0.7774\n",
      "Epoch 19/100\n",
      "10672/10672 [==============================] - 0s 26us/sample - loss: 0.6093 - accuracy: 0.7883 - val_loss: 0.6107 - val_accuracy: 0.7804\n",
      "Epoch 20/100\n",
      "10672/10672 [==============================] - 0s 26us/sample - loss: 0.6012 - accuracy: 0.7908 - val_loss: 0.6025 - val_accuracy: 0.7811\n",
      "Epoch 21/100\n",
      "10672/10672 [==============================] - 0s 27us/sample - loss: 0.5935 - accuracy: 0.7931 - val_loss: 0.5946 - val_accuracy: 0.7841\n",
      "Epoch 22/100\n",
      "10672/10672 [==============================] - 0s 26us/sample - loss: 0.5863 - accuracy: 0.7946 - val_loss: 0.5874 - val_accuracy: 0.7849\n",
      "Epoch 23/100\n",
      "10672/10672 [==============================] - 0s 27us/sample - loss: 0.5794 - accuracy: 0.7969 - val_loss: 0.5806 - val_accuracy: 0.7856\n",
      "Epoch 24/100\n",
      "10672/10672 [==============================] - 0s 26us/sample - loss: 0.5729 - accuracy: 0.7986 - val_loss: 0.5741 - val_accuracy: 0.7894\n",
      "Epoch 25/100\n",
      "10672/10672 [==============================] - 0s 27us/sample - loss: 0.5667 - accuracy: 0.8007 - val_loss: 0.5679 - val_accuracy: 0.7924\n",
      "Epoch 26/100\n",
      "10672/10672 [==============================] - 0s 28us/sample - loss: 0.5608 - accuracy: 0.8035 - val_loss: 0.5620 - val_accuracy: 0.7984\n",
      "Epoch 27/100\n",
      "10672/10672 [==============================] - 0s 26us/sample - loss: 0.5551 - accuracy: 0.8049 - val_loss: 0.5562 - val_accuracy: 0.8006\n",
      "Epoch 28/100\n",
      "10672/10672 [==============================] - 0s 26us/sample - loss: 0.5497 - accuracy: 0.8092 - val_loss: 0.5506 - val_accuracy: 0.8051\n",
      "Epoch 29/100\n",
      "10672/10672 [==============================] - 0s 26us/sample - loss: 0.5446 - accuracy: 0.8105 - val_loss: 0.5453 - val_accuracy: 0.8081\n",
      "Epoch 30/100\n",
      "10672/10672 [==============================] - 0s 26us/sample - loss: 0.5396 - accuracy: 0.8132 - val_loss: 0.5403 - val_accuracy: 0.8118\n",
      "Epoch 31/100\n",
      "10672/10672 [==============================] - 0s 26us/sample - loss: 0.5349 - accuracy: 0.8156 - val_loss: 0.5355 - val_accuracy: 0.8148\n",
      "Epoch 32/100\n",
      "10672/10672 [==============================] - 0s 26us/sample - loss: 0.5303 - accuracy: 0.8167 - val_loss: 0.5309 - val_accuracy: 0.8171\n",
      "Epoch 33/100\n",
      "10672/10672 [==============================] - 0s 27us/sample - loss: 0.5259 - accuracy: 0.8189 - val_loss: 0.5265 - val_accuracy: 0.8201\n",
      "Epoch 34/100\n",
      "10672/10672 [==============================] - 0s 27us/sample - loss: 0.5217 - accuracy: 0.8194 - val_loss: 0.5222 - val_accuracy: 0.8238\n",
      "Epoch 35/100\n",
      "10672/10672 [==============================] - 0s 28us/sample - loss: 0.5176 - accuracy: 0.8222 - val_loss: 0.5180 - val_accuracy: 0.8253\n",
      "Epoch 36/100\n",
      "10672/10672 [==============================] - 0s 28us/sample - loss: 0.5136 - accuracy: 0.8242 - val_loss: 0.5140 - val_accuracy: 0.8268\n",
      "Epoch 37/100\n",
      "10672/10672 [==============================] - 0s 27us/sample - loss: 0.5098 - accuracy: 0.8250 - val_loss: 0.5100 - val_accuracy: 0.8283\n",
      "Epoch 38/100\n",
      "10672/10672 [==============================] - 0s 26us/sample - loss: 0.5062 - accuracy: 0.8275 - val_loss: 0.5064 - val_accuracy: 0.8291\n",
      "Epoch 39/100\n",
      "10672/10672 [==============================] - 0s 27us/sample - loss: 0.5026 - accuracy: 0.8282 - val_loss: 0.5027 - val_accuracy: 0.8298\n",
      "Epoch 40/100\n",
      "10672/10672 [==============================] - 0s 28us/sample - loss: 0.4992 - accuracy: 0.8294 - val_loss: 0.4992 - val_accuracy: 0.8336\n",
      "Epoch 41/100\n",
      "10672/10672 [==============================] - 0s 28us/sample - loss: 0.4959 - accuracy: 0.8308 - val_loss: 0.4958 - val_accuracy: 0.8366\n",
      "Epoch 42/100\n",
      "10672/10672 [==============================] - 0s 27us/sample - loss: 0.4927 - accuracy: 0.8327 - val_loss: 0.4926 - val_accuracy: 0.8373\n",
      "Epoch 43/100\n",
      "10672/10672 [==============================] - 0s 26us/sample - loss: 0.4896 - accuracy: 0.8336 - val_loss: 0.4894 - val_accuracy: 0.8388\n",
      "Epoch 44/100\n",
      "10672/10672 [==============================] - 0s 27us/sample - loss: 0.4865 - accuracy: 0.8346 - val_loss: 0.4863 - val_accuracy: 0.8403\n",
      "Epoch 45/100\n",
      "10672/10672 [==============================] - 0s 27us/sample - loss: 0.4836 - accuracy: 0.8352 - val_loss: 0.4833 - val_accuracy: 0.8426\n",
      "Epoch 46/100\n",
      "10672/10672 [==============================] - 0s 26us/sample - loss: 0.4808 - accuracy: 0.8358 - val_loss: 0.4804 - val_accuracy: 0.8426\n",
      "Epoch 47/100\n",
      "10672/10672 [==============================] - 0s 26us/sample - loss: 0.4780 - accuracy: 0.8362 - val_loss: 0.4774 - val_accuracy: 0.8456\n",
      "Epoch 48/100\n",
      "10672/10672 [==============================] - 0s 26us/sample - loss: 0.4753 - accuracy: 0.8382 - val_loss: 0.4748 - val_accuracy: 0.8448\n",
      "Epoch 49/100\n",
      "10672/10672 [==============================] - 0s 28us/sample - loss: 0.4727 - accuracy: 0.8386 - val_loss: 0.4721 - val_accuracy: 0.8463\n",
      "Epoch 50/100\n",
      "10672/10672 [==============================] - 0s 28us/sample - loss: 0.4702 - accuracy: 0.8399 - val_loss: 0.4695 - val_accuracy: 0.8478\n",
      "Epoch 51/100\n",
      "10672/10672 [==============================] - 0s 28us/sample - loss: 0.4677 - accuracy: 0.8408 - val_loss: 0.4671 - val_accuracy: 0.8486\n",
      "Epoch 52/100\n",
      "10672/10672 [==============================] - 0s 31us/sample - loss: 0.4653 - accuracy: 0.8420 - val_loss: 0.4646 - val_accuracy: 0.8508\n",
      "Epoch 53/100\n",
      "10672/10672 [==============================] - 0s 28us/sample - loss: 0.4630 - accuracy: 0.8422 - val_loss: 0.4622 - val_accuracy: 0.8523\n",
      "Epoch 54/100\n",
      "10672/10672 [==============================] - 0s 27us/sample - loss: 0.4607 - accuracy: 0.8439 - val_loss: 0.4599 - val_accuracy: 0.8523\n",
      "Epoch 55/100\n",
      "10672/10672 [==============================] - 0s 28us/sample - loss: 0.4584 - accuracy: 0.8451 - val_loss: 0.4577 - val_accuracy: 0.8516\n",
      "Epoch 56/100\n",
      "10672/10672 [==============================] - 0s 30us/sample - loss: 0.4563 - accuracy: 0.8462 - val_loss: 0.4555 - val_accuracy: 0.8501\n",
      "Epoch 57/100\n",
      "10672/10672 [==============================] - 0s 28us/sample - loss: 0.4542 - accuracy: 0.8466 - val_loss: 0.4533 - val_accuracy: 0.8508\n",
      "Epoch 58/100\n",
      "10672/10672 [==============================] - 0s 28us/sample - loss: 0.4521 - accuracy: 0.8476 - val_loss: 0.4512 - val_accuracy: 0.8508\n",
      "Epoch 59/100\n",
      "10672/10672 [==============================] - 0s 30us/sample - loss: 0.4501 - accuracy: 0.8486 - val_loss: 0.4491 - val_accuracy: 0.8516\n",
      "Epoch 60/100\n",
      "10672/10672 [==============================] - 0s 29us/sample - loss: 0.4481 - accuracy: 0.8491 - val_loss: 0.4472 - val_accuracy: 0.8523\n",
      "Epoch 61/100\n",
      "10672/10672 [==============================] - 0s 29us/sample - loss: 0.4462 - accuracy: 0.8493 - val_loss: 0.4452 - val_accuracy: 0.8561\n",
      "Epoch 62/100\n",
      "10672/10672 [==============================] - 0s 29us/sample - loss: 0.4444 - accuracy: 0.8513 - val_loss: 0.4432 - val_accuracy: 0.8568\n",
      "Epoch 63/100\n",
      "10672/10672 [==============================] - 0s 29us/sample - loss: 0.4425 - accuracy: 0.8523 - val_loss: 0.4414 - val_accuracy: 0.8568\n",
      "Epoch 64/100\n",
      "10672/10672 [==============================] - 0s 27us/sample - loss: 0.4407 - accuracy: 0.8532 - val_loss: 0.4397 - val_accuracy: 0.8576\n",
      "Epoch 65/100\n",
      "10672/10672 [==============================] - 0s 31us/sample - loss: 0.4390 - accuracy: 0.8542 - val_loss: 0.4379 - val_accuracy: 0.8591\n",
      "Epoch 66/100\n",
      "10672/10672 [==============================] - 0s 30us/sample - loss: 0.4373 - accuracy: 0.8549 - val_loss: 0.4362 - val_accuracy: 0.8591\n",
      "Epoch 67/100\n",
      "10672/10672 [==============================] - 0s 30us/sample - loss: 0.4356 - accuracy: 0.8554 - val_loss: 0.4345 - val_accuracy: 0.8613\n",
      "Epoch 68/100\n",
      "10672/10672 [==============================] - 0s 30us/sample - loss: 0.4340 - accuracy: 0.8563 - val_loss: 0.4328 - val_accuracy: 0.8606\n",
      "Epoch 69/100\n",
      "10672/10672 [==============================] - 0s 30us/sample - loss: 0.4324 - accuracy: 0.8573 - val_loss: 0.4313 - val_accuracy: 0.8606\n",
      "Epoch 70/100\n",
      "10672/10672 [==============================] - 0s 26us/sample - loss: 0.4308 - accuracy: 0.8568 - val_loss: 0.4297 - val_accuracy: 0.8621\n",
      "Epoch 71/100\n",
      "10672/10672 [==============================] - 0s 26us/sample - loss: 0.4293 - accuracy: 0.8571 - val_loss: 0.4281 - val_accuracy: 0.8628\n",
      "Epoch 72/100\n",
      "10672/10672 [==============================] - 0s 28us/sample - loss: 0.4278 - accuracy: 0.8579 - val_loss: 0.4266 - val_accuracy: 0.8621\n",
      "Epoch 73/100\n",
      "10672/10672 [==============================] - 0s 29us/sample - loss: 0.4263 - accuracy: 0.8583 - val_loss: 0.4251 - val_accuracy: 0.8628\n",
      "Epoch 74/100\n",
      "10672/10672 [==============================] - 0s 28us/sample - loss: 0.4249 - accuracy: 0.8584 - val_loss: 0.4236 - val_accuracy: 0.8628\n",
      "Epoch 75/100\n",
      "10672/10672 [==============================] - 0s 30us/sample - loss: 0.4234 - accuracy: 0.8588 - val_loss: 0.4222 - val_accuracy: 0.8643\n",
      "Epoch 76/100\n",
      "10672/10672 [==============================] - 0s 28us/sample - loss: 0.4221 - accuracy: 0.8594 - val_loss: 0.4208 - val_accuracy: 0.8636\n",
      "Epoch 77/100\n",
      "10672/10672 [==============================] - 0s 31us/sample - loss: 0.4207 - accuracy: 0.8594 - val_loss: 0.4194 - val_accuracy: 0.8658\n",
      "Epoch 78/100\n",
      "10672/10672 [==============================] - 0s 29us/sample - loss: 0.4194 - accuracy: 0.8607 - val_loss: 0.4181 - val_accuracy: 0.8658\n",
      "Epoch 79/100\n",
      "10672/10672 [==============================] - 0s 30us/sample - loss: 0.4181 - accuracy: 0.8615 - val_loss: 0.4168 - val_accuracy: 0.8658\n",
      "Epoch 80/100\n",
      "10672/10672 [==============================] - 0s 30us/sample - loss: 0.4168 - accuracy: 0.8623 - val_loss: 0.4155 - val_accuracy: 0.8681\n",
      "Epoch 81/100\n",
      "10672/10672 [==============================] - 0s 30us/sample - loss: 0.4155 - accuracy: 0.8629 - val_loss: 0.4142 - val_accuracy: 0.8681\n",
      "Epoch 82/100\n",
      "10672/10672 [==============================] - 0s 31us/sample - loss: 0.4143 - accuracy: 0.8636 - val_loss: 0.4129 - val_accuracy: 0.8681\n",
      "Epoch 83/100\n",
      "10672/10672 [==============================] - 0s 32us/sample - loss: 0.4131 - accuracy: 0.8641 - val_loss: 0.4117 - val_accuracy: 0.8696\n",
      "Epoch 84/100\n",
      "10672/10672 [==============================] - 0s 30us/sample - loss: 0.4119 - accuracy: 0.8646 - val_loss: 0.4106 - val_accuracy: 0.8688\n",
      "Epoch 85/100\n",
      "10672/10672 [==============================] - 0s 28us/sample - loss: 0.4107 - accuracy: 0.8652 - val_loss: 0.4095 - val_accuracy: 0.8688\n",
      "Epoch 86/100\n",
      "10672/10672 [==============================] - 0s 26us/sample - loss: 0.4096 - accuracy: 0.8656 - val_loss: 0.4084 - val_accuracy: 0.8696\n",
      "Epoch 87/100\n",
      "10672/10672 [==============================] - 0s 27us/sample - loss: 0.4084 - accuracy: 0.8661 - val_loss: 0.4072 - val_accuracy: 0.8703\n",
      "Epoch 88/100\n",
      "10672/10672 [==============================] - 0s 26us/sample - loss: 0.4073 - accuracy: 0.8668 - val_loss: 0.4061 - val_accuracy: 0.8726\n",
      "Epoch 89/100\n",
      "10672/10672 [==============================] - 0s 27us/sample - loss: 0.4062 - accuracy: 0.8677 - val_loss: 0.4050 - val_accuracy: 0.8741\n",
      "Epoch 90/100\n",
      "10672/10672 [==============================] - 0s 31us/sample - loss: 0.4051 - accuracy: 0.8685 - val_loss: 0.4039 - val_accuracy: 0.8756\n",
      "Epoch 91/100\n",
      "10672/10672 [==============================] - 0s 32us/sample - loss: 0.4041 - accuracy: 0.8690 - val_loss: 0.4029 - val_accuracy: 0.8748\n",
      "Epoch 92/100\n",
      "10672/10672 [==============================] - 0s 31us/sample - loss: 0.4031 - accuracy: 0.8694 - val_loss: 0.4019 - val_accuracy: 0.8756\n",
      "Epoch 93/100\n",
      "10672/10672 [==============================] - 0s 29us/sample - loss: 0.4020 - accuracy: 0.8698 - val_loss: 0.4009 - val_accuracy: 0.8763\n",
      "Epoch 94/100\n",
      "10672/10672 [==============================] - 0s 26us/sample - loss: 0.4010 - accuracy: 0.8697 - val_loss: 0.3999 - val_accuracy: 0.8763\n",
      "Epoch 95/100\n",
      "10672/10672 [==============================] - 0s 30us/sample - loss: 0.4000 - accuracy: 0.8700 - val_loss: 0.3989 - val_accuracy: 0.8763\n",
      "Epoch 96/100\n",
      "10672/10672 [==============================] - 0s 30us/sample - loss: 0.3991 - accuracy: 0.8703 - val_loss: 0.3979 - val_accuracy: 0.8756\n",
      "Epoch 97/100\n",
      "10672/10672 [==============================] - 0s 30us/sample - loss: 0.3981 - accuracy: 0.8708 - val_loss: 0.3970 - val_accuracy: 0.8763\n",
      "Epoch 98/100\n",
      "10672/10672 [==============================] - 0s 29us/sample - loss: 0.3972 - accuracy: 0.8712 - val_loss: 0.3961 - val_accuracy: 0.8763\n",
      "Epoch 99/100\n",
      "10672/10672 [==============================] - 0s 27us/sample - loss: 0.3962 - accuracy: 0.8712 - val_loss: 0.3952 - val_accuracy: 0.8763\n",
      "Epoch 100/100\n",
      "10672/10672 [==============================] - 0s 28us/sample - loss: 0.3953 - accuracy: 0.8716 - val_loss: 0.3942 - val_accuracy: 0.8763\n",
      "CPU times: user 40.3 s, sys: 5.67 s, total: 46 s\n",
      "Wall time: 30.1 s\n"
     ]
    }
   ],
   "source": [
    "%%time\n",
    "opt = SGD(learning_rate=0.01)\n",
    "model_73.compile(optimizer=opt, loss='categorical_crossentropy',metrics=['accuracy'])\n",
    "history = model_73.fit(X_train, Y_train, epochs=100, validation_data=(X_valid, Y_valid))"
   ]
  },
  {
   "cell_type": "markdown",
   "metadata": {},
   "source": [
    "## 74.正解率の計測"
   ]
  },
  {
   "cell_type": "code",
   "execution_count": 46,
   "metadata": {},
   "outputs": [],
   "source": [
    "score = model_73.evaluate(X_test, Y_test, verbose=0)"
   ]
  },
  {
   "cell_type": "code",
   "execution_count": 47,
   "metadata": {},
   "outputs": [
    {
     "name": "stdout",
     "output_type": "stream",
     "text": [
      "Test loss:0.41707459829379057\n",
      "Test accuracy:0.8665667176246643\n"
     ]
    }
   ],
   "source": [
    "print('Test loss:{0}'.format(score[0]))\n",
    "print('Test accuracy:{0}'.format(score[1]))"
   ]
  },
  {
   "cell_type": "markdown",
   "metadata": {},
   "source": [
    "## 75. 損失と正解率のプロット"
   ]
  },
  {
   "cell_type": "markdown",
   "metadata": {},
   "source": [
    "Kerasでは、`Callback`というクラスがあり、それを使うことによって、訓練中に関数を適用させることができます。"
   ]
  },
  {
   "cell_type": "code",
   "execution_count": 48,
   "metadata": {},
   "outputs": [],
   "source": [
    "import os\n",
    "import matplotlib.pyplot as plt\n",
    "import japanize_matplotlib\n",
    "from IPython.display import clear_output\n",
    "from tensorflow.keras.callbacks import Callback"
   ]
  },
  {
   "cell_type": "code",
   "execution_count": 49,
   "metadata": {},
   "outputs": [],
   "source": [
    "class RealTimePlot(Callback):\n",
    "    def __init__(self, name=False, absolute=False, log_scale=False, path=os.getcwd() ,save=False):\n",
    "        super().__init__()\n",
    "        self.name = name\n",
    "        self.absolute = absolute\n",
    "        self.log_scale = log_scale\n",
    "        self.path = path\n",
    "        self.save = save\n",
    "\n",
    "    def on_train_begin(self, logs={}):\n",
    "        self.i = 0\n",
    "        self.x = []\n",
    "        self.losses = []\n",
    "        self.val_losses = []\n",
    "        self.acc = []\n",
    "        self.val_acc = []\n",
    "        self.fig = plt.figure()\n",
    "        \n",
    "        self.logs = []\n",
    "\n",
    "    def on_epoch_end(self, epoch, logs={}):\n",
    "        \n",
    "        self.logs.append(logs)\n",
    "        self.x.append(self.i)\n",
    "        self.losses.append(logs.get('loss'))\n",
    "        self.val_losses.append(logs.get('val_loss'))\n",
    "        self.acc.append(logs.get('accuracy'))\n",
    "        self.val_acc.append(logs.get('val_accuracy'))\n",
    "        self.i += 1\n",
    "        \n",
    "        fig, (ax1, ax2) = plt.subplots(1, 2, sharex=True, figsize=(10,5))\n",
    "        clear_output(wait=True)\n",
    "        \n",
    "        # fig全体の設定\n",
    "        if self.name:\n",
    "            fig.suptitle('{0}の学習'.format(self.name))\n",
    "            \n",
    "        \n",
    "        # fig内のax1(サブグラフ)の設定\n",
    "        if self.log_scale:\n",
    "            ax1.set_yscale('log')\n",
    "            \n",
    "        ax1.plot(self.x, self.losses, label=\"loss\")\n",
    "        ax1.plot(self.x, self.val_losses, label=\"val_loss\")\n",
    "        ax1.legend()\n",
    "        \n",
    "        # fig内のax2(サブグラフ)の設定\n",
    "        if self.absolute:\n",
    "            ax2.set_ylim(0.6, 0.98)\n",
    "\n",
    "        ax2.plot(self.x, self.acc, label=\"accuracy\")\n",
    "        ax2.plot(self.x, self.val_acc, label=\"val_accuracy\")\n",
    "        ax2.legend()\n",
    "        plt.show();\n",
    "        \n",
    "    def on_train_end(self, logs={}):\n",
    "        fig, (ax1, ax2) = plt.subplots(1, 2, sharex=True, figsize=(10,5))\n",
    "        clear_output(wait=True)\n",
    "        \n",
    "        # fig全体の設定\n",
    "        if self.name:\n",
    "            fig.suptitle('{0}の学習'.format(self.name))\n",
    "            \n",
    "        \n",
    "        # fig内のax1(サブグラフ)の設定\n",
    "        if self.log_scale:\n",
    "            ax1.set_yscale('log')\n",
    "    \n",
    "        ax1.plot(self.x, self.losses, label=\"loss\")\n",
    "        ax1.plot(self.x, self.val_losses, label=\"val_loss\")\n",
    "        ax1.legend()\n",
    "        \n",
    "        # fig内のax2(サブグラフ)の設定\n",
    "        if self.absolute:\n",
    "            ax2.set_ylim(0.6, 0.98)\n",
    "\n",
    "        ax2.plot(self.x, self.acc, label=\"accuracy\")\n",
    "        ax2.plot(self.x, self.val_acc, label=\"val_accuracy\")\n",
    "        ax2.legend()\n",
    "        \n",
    "        if self.save:\n",
    "            output_fig_name = os.path.join(self.path, self.name + '.png')\n",
    "            plt.savefig(output_fig_name)\n",
    "        plt.show();"
   ]
  },
  {
   "cell_type": "code",
   "execution_count": 50,
   "metadata": {},
   "outputs": [],
   "source": [
    "real_time_plot = RealTimePlot(name='75番')"
   ]
  },
  {
   "cell_type": "code",
   "execution_count": 51,
   "metadata": {},
   "outputs": [],
   "source": [
    "model_75 = predict_nn()"
   ]
  },
  {
   "cell_type": "code",
   "execution_count": 52,
   "metadata": {},
   "outputs": [
    {
     "data": {
      "image/png": "[encoded data removed]",
      "text/plain": [
       "<Figure size 720x360 with 2 Axes>"
      ]
     },
     "metadata": {
      "needs_background": "light"
     },
     "output_type": "display_data"
    },
    {
     "name": "stdout",
     "output_type": "stream",
     "text": [
      "CPU times: user 1min 6s, sys: 7.33 s, total: 1min 13s\n",
      "Wall time: 57.7 s\n"
     ]
    }
   ],
   "source": [
    "%%time\n",
    "opt = SGD(learning_rate=0.01)\n",
    "model_75.compile(optimizer=opt, loss='categorical_crossentropy',metrics=['accuracy'])\n",
    "history = model_75.fit(X_train, Y_train, epochs=100,\n",
    "                    validation_data=(X_valid, Y_valid),\n",
    "                    callbacks=[real_time_plot])"
   ]
  },
  {
   "cell_type": "markdown",
   "metadata": {},
   "source": [
    "lossもvalidation lossも同じように下がっているのが分かります。しかし奇妙な動きをしてますね。。。"
   ]
  },
  {
   "cell_type": "markdown",
   "metadata": {},
   "source": [
    "## 76.チェックポイント"
   ]
  },
  {
   "cell_type": "markdown",
   "metadata": {},
   "source": [
    "こちらも75と同様に、`Callbacks`を用います。"
   ]
  },
  {
   "cell_type": "code",
   "execution_count": 53,
   "metadata": {},
   "outputs": [],
   "source": [
    "import os\n",
    "from tensorflow.keras.callbacks import ModelCheckpoint"
   ]
  },
  {
   "cell_type": "code",
   "execution_count": 54,
   "metadata": {},
   "outputs": [],
   "source": [
    "# configs\n",
    "MODEL_DIR = './ch8_folder/models'"
   ]
  },
  {
   "cell_type": "code",
   "execution_count": 55,
   "metadata": {},
   "outputs": [],
   "source": [
    "if not os.path.exists(MODEL_DIR):  # ディレクトリが存在しない場合、作成する。\n",
    "    os.makedirs(MODEL_DIR)\n",
    "checkpoint = ModelCheckpoint(filepath=os.path.join(MODEL_DIR, \"model-{epoch:02d}.h5\"), verbose=0,save_weights_only=True, save_freq=1)"
   ]
  },
  {
   "cell_type": "code",
   "execution_count": 56,
   "metadata": {},
   "outputs": [],
   "source": [
    "model_76 = predict_nn()"
   ]
  },
  {
   "cell_type": "markdown",
   "metadata": {},
   "source": [
    "先ほどまでエポックは100で行っていましたが、パラメータをたくさん出力したくないため、エポックを10で行います。"
   ]
  },
  {
   "cell_type": "code",
   "execution_count": 57,
   "metadata": {},
   "outputs": [
    {
     "name": "stdout",
     "output_type": "stream",
     "text": [
      "Train on 10672 samples, validate on 1334 samples\n",
      "Epoch 1/10\n",
      "10672/10672 [==============================] - 2s 158us/sample - loss: 1.1928 - accuracy: 0.6242 - val_loss: 1.0845 - val_accuracy: 0.7264\n",
      "Epoch 2/10\n",
      "10672/10672 [==============================] - 1s 128us/sample - loss: 1.0219 - accuracy: 0.7616 - val_loss: 0.9863 - val_accuracy: 0.7556\n",
      "Epoch 3/10\n",
      "10672/10672 [==============================] - 1s 128us/sample - loss: 0.9438 - accuracy: 0.7711 - val_loss: 0.9234 - val_accuracy: 0.7556\n",
      "Epoch 4/10\n",
      "10672/10672 [==============================] - 1s 125us/sample - loss: 0.8893 - accuracy: 0.7744 - val_loss: 0.8754 - val_accuracy: 0.7586\n",
      "Epoch 5/10\n",
      "10672/10672 [==============================] - 1s 128us/sample - loss: 0.8470 - accuracy: 0.7763 - val_loss: 0.8369 - val_accuracy: 0.7624\n",
      "Epoch 6/10\n",
      "10672/10672 [==============================] - 1s 128us/sample - loss: 0.8125 - accuracy: 0.7770 - val_loss: 0.8051 - val_accuracy: 0.7616\n",
      "Epoch 7/10\n",
      "10672/10672 [==============================] - 1s 128us/sample - loss: 0.7837 - accuracy: 0.7779 - val_loss: 0.7782 - val_accuracy: 0.7646\n",
      "Epoch 8/10\n",
      "10672/10672 [==============================] - 1s 129us/sample - loss: 0.7590 - accuracy: 0.7792 - val_loss: 0.7551 - val_accuracy: 0.7654\n",
      "Epoch 9/10\n",
      "10672/10672 [==============================] - 1s 129us/sample - loss: 0.7376 - accuracy: 0.7795 - val_loss: 0.7347 - val_accuracy: 0.7661\n",
      "Epoch 10/10\n",
      "10672/10672 [==============================] - 1s 128us/sample - loss: 0.7187 - accuracy: 0.7799 - val_loss: 0.7165 - val_accuracy: 0.7676\n"
     ]
    }
   ],
   "source": [
    "opt = SGD(learning_rate=0.01)\n",
    "model_76.compile(optimizer=opt, loss='categorical_crossentropy',metrics=['accuracy'])\n",
    "history = model_76.fit(X_train, Y_train, epochs=10,\n",
    "                    validation_data=(X_valid, Y_valid),\n",
    "                    callbacks=[checkpoint])"
   ]
  },
  {
   "cell_type": "markdown",
   "metadata": {},
   "source": [
    "これで`MODEL_DIR`内にモデルが生成されていると思います。"
   ]
  },
  {
   "cell_type": "markdown",
   "metadata": {},
   "source": [
    "## 77.ミニバッチ化"
   ]
  },
  {
   "cell_type": "markdown",
   "metadata": {},
   "source": [
    "kerasをもちいたミニバッチ化は簡単です。`model.fit`のオプション変数である、`batch_size`で変更が可能です。\n",
    "問題ではBの値を1,2,4,8,...と書いてあるのですが、1,8,16あたりでやってみます。"
   ]
  },
  {
   "cell_type": "code",
   "execution_count": 58,
   "metadata": {},
   "outputs": [],
   "source": [
    "model_77_1 = predict_nn()"
   ]
  },
  {
   "cell_type": "code",
   "execution_count": 59,
   "metadata": {},
   "outputs": [],
   "source": [
    "real_time_plot = RealTimePlot()"
   ]
  },
  {
   "cell_type": "code",
   "execution_count": 60,
   "metadata": {},
   "outputs": [
    {
     "data": {
      "image/png": "[encoded data removed]",
      "text/plain": [
       "<Figure size 720x360 with 2 Axes>"
      ]
     },
     "metadata": {
      "needs_background": "light"
     },
     "output_type": "display_data"
    },
    {
     "name": "stdout",
     "output_type": "stream",
     "text": [
      "CPU times: user 18min 4s, sys: 2min 34s, total: 20min 39s\n",
      "Wall time: 13min 50s\n"
     ]
    }
   ],
   "source": [
    "%%time\n",
    "opt = SGD(learning_rate=0.01)\n",
    "model_77_1.compile(optimizer=opt, loss='categorical_crossentropy',metrics=['accuracy'])\n",
    "history = model_77_1.fit(X_train, Y_train, epochs=100, batch_size=1,\n",
    "                    validation_data=(X_valid, Y_valid),\n",
    "                    callbacks=[real_time_plot])"
   ]
  },
  {
   "cell_type": "code",
   "execution_count": 61,
   "metadata": {},
   "outputs": [],
   "source": [
    "score1 = model_77_1.evaluate(X_test, Y_test, verbose=0)"
   ]
  },
  {
   "cell_type": "code",
   "execution_count": 62,
   "metadata": {},
   "outputs": [
    {
     "name": "stdout",
     "output_type": "stream",
     "text": [
      "Test loss:0.2679155910837239\n",
      "Test accuracy:0.9100449681282043\n"
     ]
    }
   ],
   "source": [
    "print('Test loss:{0}'.format(score1[0]))\n",
    "print('Test accuracy:{0}'.format(score1[1]))"
   ]
  },
  {
   "cell_type": "code",
   "execution_count": 63,
   "metadata": {},
   "outputs": [],
   "source": [
    "model_77_8 = predict_nn()"
   ]
  },
  {
   "cell_type": "code",
   "execution_count": 64,
   "metadata": {},
   "outputs": [
    {
     "data": {
      "image/png": "[encoded data removed]",
      "text/plain": [
       "<Figure size 720x360 with 2 Axes>"
      ]
     },
     "metadata": {
      "needs_background": "light"
     },
     "output_type": "display_data"
    },
    {
     "name": "stdout",
     "output_type": "stream",
     "text": [
      "CPU times: user 2min 41s, sys: 18.8 s, total: 3min\n",
      "Wall time: 2min 14s\n"
     ]
    }
   ],
   "source": [
    "%%time\n",
    "opt = SGD(learning_rate=0.01)\n",
    "model_77_8.compile(optimizer=opt, loss='categorical_crossentropy',metrics=['accuracy'])\n",
    "history = model_77_8.fit(X_train, Y_train, epochs=100, batch_size=8,\n",
    "                    validation_data=(X_valid, Y_valid),\n",
    "                    callbacks=[real_time_plot])"
   ]
  },
  {
   "cell_type": "code",
   "execution_count": 65,
   "metadata": {},
   "outputs": [],
   "source": [
    "score2 = model_77_8.evaluate(X_test, Y_test, verbose=0)"
   ]
  },
  {
   "cell_type": "code",
   "execution_count": 66,
   "metadata": {},
   "outputs": [
    {
     "name": "stdout",
     "output_type": "stream",
     "text": [
      "Test loss:0.3237680911213562\n",
      "Test accuracy:0.8905547261238098\n"
     ]
    }
   ],
   "source": [
    "print('Test loss:{0}'.format(score2[0]))\n",
    "print('Test accuracy:{0}'.format(score2[1]))"
   ]
  },
  {
   "cell_type": "code",
   "execution_count": 67,
   "metadata": {},
   "outputs": [],
   "source": [
    "model_77_16 = predict_nn()"
   ]
  },
  {
   "cell_type": "code",
   "execution_count": 68,
   "metadata": {},
   "outputs": [
    {
     "data": {
      "image/png": "[encoded data removed]",
      "text/plain": [
       "<Figure size 720x360 with 2 Axes>"
      ]
     },
     "metadata": {
      "needs_background": "light"
     },
     "output_type": "display_data"
    },
    {
     "name": "stdout",
     "output_type": "stream",
     "text": [
      "CPU times: user 1min 33s, sys: 10.4 s, total: 1min 43s\n",
      "Wall time: 1min 18s\n"
     ]
    }
   ],
   "source": [
    "%%time\n",
    "opt = SGD(learning_rate=0.01)\n",
    "model_77_16.compile(optimizer=opt, loss='categorical_crossentropy',metrics=['accuracy'])\n",
    "history = model_77_16.fit(X_train, Y_train, epochs=100, batch_size=16,\n",
    "                    validation_data=(X_valid, Y_valid),\n",
    "                    callbacks=[real_time_plot])"
   ]
  },
  {
   "cell_type": "code",
   "execution_count": 69,
   "metadata": {},
   "outputs": [],
   "source": [
    "score3 = model_77_16.evaluate(X_test, Y_test, verbose=0)"
   ]
  },
  {
   "cell_type": "code",
   "execution_count": 70,
   "metadata": {},
   "outputs": [
    {
     "name": "stdout",
     "output_type": "stream",
     "text": [
      "Test loss:0.36161092437546827\n",
      "Test accuracy:0.877811074256897\n"
     ]
    }
   ],
   "source": [
    "print('Test loss:{0}'.format(score3[0]))\n",
    "print('Test accuracy:{0}'.format(score3[1]))"
   ]
  },
  {
   "cell_type": "markdown",
   "metadata": {},
   "source": [
    "## 78.GPU上での学習"
   ]
  },
  {
   "cell_type": "markdown",
   "metadata": {},
   "source": [
    "こちらは手元の環境ではできないので行いません。"
   ]
  },
  {
   "cell_type": "markdown",
   "metadata": {},
   "source": [
    "## 79.多層ニューラルネットワーク"
   ]
  },
  {
   "cell_type": "markdown",
   "metadata": {},
   "source": [
    "先ほどまでは一層のニューラルネットワークをさわってたわけですが、今度は多層のニューラルネットとかを作ってみましょう。\n",
    "今までの結果から、\n",
    "\n",
    "- epochが100のままだと過適合しそう\n",
    "- バッチサイズは小さいとよくなさそうなので、16ぐらいで\n",
    "\n",
    "みたいが見えるので、そこら辺を意識しながらパラメータを編集します。"
   ]
  },
  {
   "cell_type": "code",
   "execution_count": 71,
   "metadata": {},
   "outputs": [],
   "source": [
    "from tensorflow.keras.layers import Dropout"
   ]
  },
  {
   "cell_type": "code",
   "execution_count": 72,
   "metadata": {},
   "outputs": [],
   "source": [
    "def many_nn():\n",
    "    inputs = Input(shape=(300,))\n",
    "    x = Dense(200, activation='relu')(inputs)\n",
    "    x = Dropout(0.5)(x)\n",
    "    outputs = Dense(4, activation='softmax') (x)\n",
    "    model = Model(inputs=inputs, outputs=outputs)\n",
    "    return model"
   ]
  },
  {
   "cell_type": "code",
   "execution_count": 73,
   "metadata": {},
   "outputs": [],
   "source": [
    "model_79 = many_nn()"
   ]
  },
  {
   "cell_type": "code",
   "execution_count": 74,
   "metadata": {},
   "outputs": [
    {
     "data": {
      "image/png": "[encoded data removed]",
      "text/plain": [
       "<Figure size 720x360 with 2 Axes>"
      ]
     },
     "metadata": {
      "needs_background": "light"
     },
     "output_type": "display_data"
    },
    {
     "name": "stdout",
     "output_type": "stream",
     "text": [
      "CPU times: user 52.8 s, sys: 5.97 s, total: 58.8 s\n",
      "Wall time: 41.2 s\n"
     ]
    }
   ],
   "source": [
    "%%time\n",
    "opt = SGD(learning_rate=0.01)\n",
    "model_79.compile(optimizer=opt, loss='categorical_crossentropy',metrics=['accuracy'])\n",
    "history = model_79.fit(X_train, Y_train, epochs=45, batch_size=16,\n",
    "                    validation_data=(X_valid, Y_valid),\n",
    "                    callbacks=[real_time_plot])"
   ]
  },
  {
   "cell_type": "code",
   "execution_count": 75,
   "metadata": {},
   "outputs": [
    {
     "name": "stdout",
     "output_type": "stream",
     "text": [
      "Test loss:0.28446810870156297\n",
      "Test accuracy:0.9032983779907227\n"
     ]
    }
   ],
   "source": [
    "score4 = model_79.evaluate(X_test, Y_test, verbose=0)\n",
    "print('Test loss:{0}'.format(score4[0]))\n",
    "print('Test accuracy:{0}'.format(score4[1]))"
   ]
  },
  {
   "cell_type": "markdown",
   "metadata": {},
   "source": [
    "Accuracyそこまで上がらなかったですね。。。\n",
    "本来もう少しパラメータをいじったり特徴量をかえたりしますが、今回は以上にします。"
   ]
  },
  {
   "cell_type": "code",
   "execution_count": null,
   "metadata": {},
   "outputs": [],
   "source": []
  }
 ],
 "metadata": {
  "kernelspec": {
   "display_name": "Python 3",
   "language": "python",
   "name": "python3"
  },
  "language_info": {
   "codemirror_mode": {
    "name": "ipython",
    "version": 3
   },
   "file_extension": ".py",
   "mimetype": "text/x-python",
   "name": "python",
   "nbconvert_exporter": "python",
   "pygments_lexer": "ipython3",
   "version": "3.7.3"
  }
 },
 "nbformat": 4,
 "nbformat_minor": 4
}
