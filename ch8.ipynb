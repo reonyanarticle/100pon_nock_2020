{
 "cells": [
  {
   "cell_type": "markdown",
   "metadata": {},
   "source": [
    "# 第8章: ニューラルネット"
   ]
  },
  {
   "cell_type": "markdown",
   "metadata": {},
   "source": [
    "## 70.単語ベクトルの和による特徴量"
   ]
  },
  {
   "cell_type": "code",
   "execution_count": 1,
   "metadata": {},
   "outputs": [],
   "source": [
    "import gensim\n",
    "import numpy as np\n",
    "import pandas as pd\n",
    "import re\n",
    "\n",
    "# その他\n",
    "import warnings"
   ]
  },
  {
   "cell_type": "code",
   "execution_count": 2,
   "metadata": {},
   "outputs": [],
   "source": [
    "#configs\n",
    "TRAIN_DATA_PATH ='./ch6_folder/save_data/train.csv'\n",
    "VALID_DATA_PATH = './ch6_folder/save_data/valid.csv'\n",
    "TEST_DATA_PATH = './ch6_folder/save_data/test.csv'\n",
    "GOOGLE_MODEL_PATH = './ch7_folder/model/GoogleNews-vectors-negative300.bin'"
   ]
  },
  {
   "cell_type": "markdown",
   "metadata": {},
   "source": [
    "Warningを消すために以下のコードを追加します。"
   ]
  },
  {
   "cell_type": "code",
   "execution_count": 3,
   "metadata": {},
   "outputs": [],
   "source": [
    "warnings.simplefilter('ignore')"
   ]
  },
  {
   "cell_type": "code",
   "execution_count": 4,
   "metadata": {},
   "outputs": [],
   "source": [
    "model = gensim.models.KeyedVectors.load_word2vec_format(GOOGLE_MODEL_PATH, binary=True)"
   ]
  },
  {
   "cell_type": "code",
   "execution_count": 5,
   "metadata": {},
   "outputs": [],
   "source": [
    "model_vocab_list = list(model.wv.vocab.keys())"
   ]
  },
  {
   "cell_type": "markdown",
   "metadata": {},
   "source": [
    "記事の見出しの単語列 $(w_{i,1}, \\ldots, w_{i,T_i})$ に対して、embeddingをおこない、以下のような特徴ベクトルを生成すると書いてあります。\n",
    "\n",
    "$$\n",
    "    {x}_i = \\frac{1}{T_i}\\sum_{1 \\leq t \\leq T_i} {emb}(w_{i,t}) \n",
    "$$\n",
    "\n",
    "これは、各単語数に関する平均を特徴量にするということですね。"
   ]
  },
  {
   "cell_type": "code",
   "execution_count": 6,
   "metadata": {},
   "outputs": [],
   "source": [
    "CATEGORY_TAG = {'b': 0, 't': 1, 'e': 2, 'm': 3}"
   ]
  },
  {
   "cell_type": "code",
   "execution_count": 7,
   "metadata": {},
   "outputs": [],
   "source": [
    "df_train = pd.read_csv(TRAIN_DATA_PATH)\n",
    "df_valid = pd.read_csv(VALID_DATA_PATH)\n",
    "df_test = pd.read_csv(TEST_DATA_PATH)"
   ]
  },
  {
   "cell_type": "code",
   "execution_count": 8,
   "metadata": {},
   "outputs": [],
   "source": [
    "train_titles_list = [title.split() for title in df_train['TITLE'].values.tolist()]\n",
    "valid_titles_list = [title.split() for title in df_valid['TITLE'].values.tolist()]\n",
    "test_titles_list = [title.split() for title in df_test['TITLE'].values.tolist()]"
   ]
  },
  {
   "cell_type": "code",
   "execution_count": 9,
   "metadata": {},
   "outputs": [
    {
     "name": "stdout",
     "output_type": "stream",
     "text": [
      "10672 1334 1334\n"
     ]
    }
   ],
   "source": [
    "train_length = len(train_titles_list)\n",
    "valid_length = len(valid_titles_list)\n",
    "test_length = len(test_titles_list)\n",
    "print(train_length, valid_length, test_length)"
   ]
  },
  {
   "cell_type": "code",
   "execution_count": 10,
   "metadata": {},
   "outputs": [],
   "source": [
    "def tokenize(word: str) -> str:\n",
    "    \"\"\"\n",
    "    \"\"\"\n",
    "    word = word.replace('-', '')\n",
    "    word = word.replace('.', '')\n",
    "    word = word.replace('\\'', '')\n",
    "    word = word.replace(':', '')\n",
    "    return word"
   ]
  },
  {
   "cell_type": "code",
   "execution_count": 11,
   "metadata": {},
   "outputs": [],
   "source": [
    "def get_embedding_matrix(titles_list):\n",
    "    feature_vecs_list = []\n",
    "    \n",
    "    for title in titles_list:\n",
    "        tmp_vecs_list =[]\n",
    "        for word in title:\n",
    "            word = tokenize(word)\n",
    "            try:\n",
    "                vec = model[word]\n",
    "                tmp_vecs_list.append(vec)\n",
    "            except KeyError as e:\n",
    "                pass\n",
    "        \n",
    "        if len(tmp_vecs_list) == 1:\n",
    "            feature_vec = tmp_vecs_list[0]\n",
    "        else:\n",
    "            np_vecs = np.array(tmp_vecs_list)\n",
    "            feature_vec = np.mean(np_vecs, axis=0)\n",
    "        feature_vecs_list.append(feature_vec)\n",
    "    return np.array(feature_vecs_list)"
   ]
  },
  {
   "cell_type": "code",
   "execution_count": 12,
   "metadata": {},
   "outputs": [],
   "source": [
    "X_train = get_embedding_matrix(train_titles_list)\n",
    "X_valid = get_embedding_matrix(valid_titles_list)\n",
    "X_test = get_embedding_matrix(test_titles_list)"
   ]
  },
  {
   "cell_type": "code",
   "execution_count": 13,
   "metadata": {},
   "outputs": [
    {
     "data": {
      "text/plain": [
       "(10672, 300)"
      ]
     },
     "execution_count": 13,
     "metadata": {},
     "output_type": "execute_result"
    }
   ],
   "source": [
    "X_train.shape"
   ]
  },
  {
   "cell_type": "code",
   "execution_count": 14,
   "metadata": {},
   "outputs": [
    {
     "data": {
      "text/plain": [
       "(1334, 300)"
      ]
     },
     "execution_count": 14,
     "metadata": {},
     "output_type": "execute_result"
    }
   ],
   "source": [
    "X_valid.shape"
   ]
  },
  {
   "cell_type": "code",
   "execution_count": 15,
   "metadata": {},
   "outputs": [
    {
     "data": {
      "text/plain": [
       "(1334, 300)"
      ]
     },
     "execution_count": 15,
     "metadata": {},
     "output_type": "execute_result"
    }
   ],
   "source": [
    "X_test.shape"
   ]
  },
  {
   "cell_type": "code",
   "execution_count": 16,
   "metadata": {},
   "outputs": [],
   "source": [
    "y_train= pd.read_csv(TRAIN_DATA_PATH)['CATEGORY'].map(CATEGORY_TAG).values\n",
    "y_valid = pd.read_csv(VALID_DATA_PATH)['CATEGORY'].map(CATEGORY_TAG).values\n",
    "y_test = pd.read_csv(TEST_DATA_PATH)['CATEGORY'].map(CATEGORY_TAG).values"
   ]
  },
  {
   "cell_type": "code",
   "execution_count": 17,
   "metadata": {},
   "outputs": [],
   "source": [
    "Y_train = np.eye(4)[y_train]\n",
    "Y_valid = np.eye(4)[y_valid]\n",
    "Y_test = np.eye(4)[y_test]"
   ]
  },
  {
   "cell_type": "code",
   "execution_count": 18,
   "metadata": {},
   "outputs": [
    {
     "data": {
      "text/plain": [
       "0"
      ]
     },
     "execution_count": 18,
     "metadata": {},
     "output_type": "execute_result"
    }
   ],
   "source": [
    "y_train[1]"
   ]
  },
  {
   "cell_type": "code",
   "execution_count": 19,
   "metadata": {},
   "outputs": [
    {
     "data": {
      "text/plain": [
       "(10672,)"
      ]
     },
     "execution_count": 19,
     "metadata": {},
     "output_type": "execute_result"
    }
   ],
   "source": [
    "y_train.shape"
   ]
  },
  {
   "cell_type": "code",
   "execution_count": 20,
   "metadata": {},
   "outputs": [
    {
     "data": {
      "text/plain": [
       "(10672, 4)"
      ]
     },
     "execution_count": 20,
     "metadata": {},
     "output_type": "execute_result"
    }
   ],
   "source": [
    "Y_train.shape"
   ]
  },
  {
   "cell_type": "code",
   "execution_count": 21,
   "metadata": {},
   "outputs": [
    {
     "data": {
      "text/plain": [
       "(1334,)"
      ]
     },
     "execution_count": 21,
     "metadata": {},
     "output_type": "execute_result"
    }
   ],
   "source": [
    "y_valid.shape"
   ]
  },
  {
   "cell_type": "code",
   "execution_count": 22,
   "metadata": {},
   "outputs": [
    {
     "data": {
      "text/plain": [
       "(1334, 4)"
      ]
     },
     "execution_count": 22,
     "metadata": {},
     "output_type": "execute_result"
    }
   ],
   "source": [
    "Y_valid.shape"
   ]
  },
  {
   "cell_type": "code",
   "execution_count": 23,
   "metadata": {},
   "outputs": [
    {
     "data": {
      "text/plain": [
       "(1334,)"
      ]
     },
     "execution_count": 23,
     "metadata": {},
     "output_type": "execute_result"
    }
   ],
   "source": [
    "y_test.shape"
   ]
  },
  {
   "cell_type": "code",
   "execution_count": 24,
   "metadata": {},
   "outputs": [
    {
     "data": {
      "text/plain": [
       "(1334, 4)"
      ]
     },
     "execution_count": 24,
     "metadata": {},
     "output_type": "execute_result"
    }
   ],
   "source": [
    "Y_test.shape"
   ]
  },
  {
   "cell_type": "markdown",
   "metadata": {},
   "source": [
    "## 71. 単層NNによる予測"
   ]
  },
  {
   "cell_type": "markdown",
   "metadata": {},
   "source": [
    "個人的にこういう時にKerasを使うのが好きなのでKerasを使っていきます。\n",
    "重みの初期化のところ、毎回同じ値を取りたいのでrandom seedみたいなことをしたいのですが、どうすればいいですかね。"
   ]
  },
  {
   "cell_type": "code",
   "execution_count": 25,
   "metadata": {},
   "outputs": [],
   "source": [
    "from tensorflow.keras.layers import Dense, Input\n",
    "from tensorflow.keras.models import Model\n",
    "import tensorflow as tf"
   ]
  },
  {
   "cell_type": "code",
   "execution_count": 26,
   "metadata": {},
   "outputs": [],
   "source": [
    "def predict_nn():\n",
    "    inputs = Input(shape=(300,))\n",
    "    outputs = Dense(4, activation='softmax') (inputs)\n",
    "    model = Model(inputs=inputs, outputs=outputs)\n",
    "    return model"
   ]
  },
  {
   "cell_type": "code",
   "execution_count": 27,
   "metadata": {},
   "outputs": [],
   "source": [
    "x_1 = X_train[:1]\n",
    "X_1_4 = X_train[:4]"
   ]
  },
  {
   "cell_type": "code",
   "execution_count": 28,
   "metadata": {},
   "outputs": [],
   "source": [
    "model_71 = predict_nn()"
   ]
  },
  {
   "cell_type": "code",
   "execution_count": 29,
   "metadata": {},
   "outputs": [
    {
     "name": "stdout",
     "output_type": "stream",
     "text": [
      "Model: \"model\"\n",
      "_________________________________________________________________\n",
      "Layer (type)                 Output Shape              Param #   \n",
      "=================================================================\n",
      "input_1 (InputLayer)         [(None, 300)]             0         \n",
      "_________________________________________________________________\n",
      "dense (Dense)                (None, 4)                 1204      \n",
      "=================================================================\n",
      "Total params: 1,204\n",
      "Trainable params: 1,204\n",
      "Non-trainable params: 0\n",
      "_________________________________________________________________\n"
     ]
    }
   ],
   "source": [
    "model_71.summary()"
   ]
  },
  {
   "cell_type": "code",
   "execution_count": 30,
   "metadata": {},
   "outputs": [],
   "source": [
    "y_1 = model_71.predict(x_1)\n",
    "Y_1_4 = model_71.predict(X_1_4)"
   ]
  },
  {
   "cell_type": "code",
   "execution_count": 31,
   "metadata": {},
   "outputs": [
    {
     "data": {
      "text/plain": [
       "array([[0.239564  , 0.281665  , 0.22245732, 0.25631362]], dtype=float32)"
      ]
     },
     "execution_count": 31,
     "metadata": {},
     "output_type": "execute_result"
    }
   ],
   "source": [
    "y_1"
   ]
  },
  {
   "cell_type": "code",
   "execution_count": 32,
   "metadata": {},
   "outputs": [
    {
     "data": {
      "text/plain": [
       "array([[0.23956403, 0.28166503, 0.22245732, 0.25631365],\n",
       "       [0.2567518 , 0.28086486, 0.20096698, 0.26141632],\n",
       "       [0.26838878, 0.27673537, 0.24071665, 0.2141592 ],\n",
       "       [0.24942772, 0.29014164, 0.2160344 , 0.24439625]], dtype=float32)"
      ]
     },
     "execution_count": 32,
     "metadata": {},
     "output_type": "execute_result"
    }
   ],
   "source": [
    "Y_1_4"
   ]
  },
  {
   "cell_type": "markdown",
   "metadata": {},
   "source": [
    "## 72. 損失と勾配の計算"
   ]
  },
  {
   "cell_type": "markdown",
   "metadata": {},
   "source": [
    "文面からは、実際自分でクロスエントロピー損失関数や、勾配を`numpy`や`math`を用いて作成して、作成した関数を用いて求めてほしいのか、71とかで使ったモジュールを用いてやって欲しいのかイマイチわからないのですが、自作はせずにkerasを使ってやります。"
   ]
  },
  {
   "cell_type": "code",
   "execution_count": 33,
   "metadata": {},
   "outputs": [],
   "source": [
    "from tensorflow.keras.losses import CategoricalCrossentropy\n",
    "from tensorflow.keras.backend import gradients"
   ]
  },
  {
   "cell_type": "code",
   "execution_count": 34,
   "metadata": {},
   "outputs": [],
   "source": [
    "y_train_1 = Y_train[:1]\n",
    "Y_train_1_4 = Y_train[:4]"
   ]
  },
  {
   "cell_type": "code",
   "execution_count": 35,
   "metadata": {},
   "outputs": [
    {
     "data": {
      "text/plain": [
       "\u001b[0;31mInit signature:\u001b[0m\n",
       "\u001b[0mCategoricalCrossentropy\u001b[0m\u001b[0;34m(\u001b[0m\u001b[0;34m\u001b[0m\n",
       "\u001b[0;34m\u001b[0m    \u001b[0mfrom_logits\u001b[0m\u001b[0;34m=\u001b[0m\u001b[0;32mFalse\u001b[0m\u001b[0;34m,\u001b[0m\u001b[0;34m\u001b[0m\n",
       "\u001b[0;34m\u001b[0m    \u001b[0mlabel_smoothing\u001b[0m\u001b[0;34m=\u001b[0m\u001b[0;36m0\u001b[0m\u001b[0;34m,\u001b[0m\u001b[0;34m\u001b[0m\n",
       "\u001b[0;34m\u001b[0m    \u001b[0mreduction\u001b[0m\u001b[0;34m=\u001b[0m\u001b[0;34m'auto'\u001b[0m\u001b[0;34m,\u001b[0m\u001b[0;34m\u001b[0m\n",
       "\u001b[0;34m\u001b[0m    \u001b[0mname\u001b[0m\u001b[0;34m=\u001b[0m\u001b[0;34m'categorical_crossentropy'\u001b[0m\u001b[0;34m,\u001b[0m\u001b[0;34m\u001b[0m\n",
       "\u001b[0;34m\u001b[0m\u001b[0;34m)\u001b[0m\u001b[0;34m\u001b[0m\u001b[0;34m\u001b[0m\u001b[0m\n",
       "\u001b[0;31mDocstring:\u001b[0m     \n",
       "Computes the crossentropy loss between the labels and predictions.\n",
       "\n",
       "Use this crossentropy loss function when there are two or more label classes.\n",
       "We expect labels to be provided in a `one_hot` representation. If you want to\n",
       "provide labels as integers, please use `SparseCategoricalCrossentropy` loss.\n",
       "There should be `# classes` floating point values per feature.\n",
       "\n",
       "In the snippet below, there is `# classes` floating pointing values per\n",
       "example. The shape of both `y_pred` and `y_true` are\n",
       "`[batch_size, num_classes]`.\n",
       "\n",
       "Usage:\n",
       "\n",
       "```python\n",
       "cce = tf.keras.losses.CategoricalCrossentropy()\n",
       "loss = cce(\n",
       "  [[1., 0., 0.], [0., 1., 0.], [0., 0., 1.]],\n",
       "  [[.9, .05, .05], [.05, .89, .06], [.05, .01, .94]])\n",
       "print('Loss: ', loss.numpy())  # Loss: 0.0945\n",
       "```\n",
       "\n",
       "Usage with the `compile` API:\n",
       "\n",
       "```python\n",
       "model = tf.keras.Model(inputs, outputs)\n",
       "model.compile('sgd', loss=tf.keras.losses.CategoricalCrossentropy())\n",
       "```\n",
       "\n",
       "Args:\n",
       "  from_logits: Whether `y_pred` is expected to be a logits tensor. By default,\n",
       "    we assume that `y_pred` encodes a probability distribution.\n",
       "    Note: Using from_logits=True may be more numerically stable.\n",
       "  label_smoothing: Float in [0, 1]. When > 0, label values are smoothed,\n",
       "    meaning the confidence on label values are relaxed. e.g.\n",
       "    `label_smoothing=0.2` means that we will use a value of `0.1` for label\n",
       "    `0` and `0.9` for label `1`\"\n",
       "  reduction: (Optional) Type of `tf.keras.losses.Reduction` to apply to loss.\n",
       "    Default value is `AUTO`. `AUTO` indicates that the reduction option will\n",
       "    be determined by the usage context. For almost all cases this defaults to\n",
       "    `SUM_OVER_BATCH_SIZE`.\n",
       "    When used with `tf.distribute.Strategy`, outside of built-in training\n",
       "    loops such as `tf.keras` `compile` and `fit`, using `AUTO` or\n",
       "    `SUM_OVER_BATCH_SIZE` will raise an error. Please see\n",
       "    https://www.tensorflow.org/tutorials/distribute/custom_training\n",
       "    for more details on this.\n",
       "  name: Optional name for the op.\n",
       "\u001b[0;31mFile:\u001b[0m           ~/anaconda3/lib/python3.7/site-packages/tensorflow_core/python/keras/losses.py\n",
       "\u001b[0;31mType:\u001b[0m           type\n",
       "\u001b[0;31mSubclasses:\u001b[0m     \n"
      ]
     },
     "metadata": {},
     "output_type": "display_data"
    }
   ],
   "source": [
    "CategoricalCrossentropy?"
   ]
  },
  {
   "cell_type": "code",
   "execution_count": 36,
   "metadata": {},
   "outputs": [],
   "source": [
    "cce = CategoricalCrossentropy()"
   ]
  },
  {
   "cell_type": "markdown",
   "metadata": {},
   "source": [
    "$\\hat{y}_1$のクロスエントロピー損失は、"
   ]
  },
  {
   "cell_type": "code",
   "execution_count": 37,
   "metadata": {},
   "outputs": [
    {
     "data": {
      "text/plain": [
       "1.4289346"
      ]
     },
     "execution_count": 37,
     "metadata": {},
     "output_type": "execute_result"
    }
   ],
   "source": [
    "cce(y_train_1,y_1).numpy()"
   ]
  },
  {
   "cell_type": "markdown",
   "metadata": {},
   "source": [
    "$\\hat{Y}$のクロスエントロピー損失は、"
   ]
  },
  {
   "cell_type": "code",
   "execution_count": 38,
   "metadata": {},
   "outputs": [
    {
     "data": {
      "text/plain": [
       "1.4295504"
      ]
     },
     "execution_count": 38,
     "metadata": {},
     "output_type": "execute_result"
    }
   ],
   "source": [
    "cce(Y_train_1_4,Y_1_4).numpy()"
   ]
  },
  {
   "cell_type": "markdown",
   "metadata": {},
   "source": [
    "損失を求められたので、次は勾配を求めます。実は、`keras`の関数である`keras.backend.gradient`を用いると`RuntimeError`がでます。\n",
    "そのため、今回は`tf.GradientTape()`を用いて求めます。\n",
    "ちなみに、先ほど定義したモデルから、weightの行列を取得し、そのweight行列と`numpy`の`gradient`を用いて計算して、gradientを求めようと思ったのですが、`numpy.gradient`の仕様がよくわからなくてやめました。誰か書ける人がいたら教えてください。"
   ]
  },
  {
   "cell_type": "code",
   "execution_count": 39,
   "metadata": {},
   "outputs": [],
   "source": [
    "def calculate_grad(x,y):\n",
    "    \n",
    "    def _loss_fn(y_predict, y):\n",
    "        return cce(y_predict, y)\n",
    "\n",
    "    inputs = tf.convert_to_tensor(x)\n",
    "    targets = tf.convert_to_tensor(y)\n",
    "    with tf.GradientTape() as tape:\n",
    "        y_predict = model_71(inputs)\n",
    "        loss = _loss_fn(y_predict, targets)\n",
    "    grads = tape.gradient(loss, model_71.variables)\n",
    "    \n",
    "    return grads"
   ]
  },
  {
   "cell_type": "code",
   "execution_count": 40,
   "metadata": {},
   "outputs": [
    {
     "data": {
      "text/plain": [
       "[<tf.Tensor: shape=(300, 4), dtype=float32, numpy=\n",
       " array([[ 0.0500014 , -0.01852049, -0.01462737, -0.01685355],\n",
       "        [-0.01679515,  0.00622091,  0.00491324,  0.005661  ],\n",
       "        [ 0.01351804, -0.00500708, -0.00395456, -0.00455641],\n",
       "        ...,\n",
       "        [-0.19757338,  0.07318108,  0.05779798,  0.06659439],\n",
       "        [-0.15279485,  0.05659514,  0.0446985 ,  0.05150127],\n",
       "        [ 0.2987795 , -0.11066777, -0.08740474, -0.10070708]],\n",
       "       dtype=float32)>,\n",
       " <tf.Tensor: shape=(4,), dtype=float32, numpy=array([-2.9362829 ,  1.0875977 ,  0.85897815,  0.98970807], dtype=float32)>]"
      ]
     },
     "execution_count": 40,
     "metadata": {},
     "output_type": "execute_result"
    }
   ],
   "source": [
    "calculate_grad(x_1, y_train_1)"
   ]
  },
  {
   "cell_type": "code",
   "execution_count": 41,
   "metadata": {},
   "outputs": [
    {
     "data": {
      "text/plain": [
       "TensorShape([300, 4])"
      ]
     },
     "execution_count": 41,
     "metadata": {},
     "output_type": "execute_result"
    }
   ],
   "source": [
    "calculate_grad(x_1, y_train_1)[0].shape"
   ]
  },
  {
   "cell_type": "code",
   "execution_count": 42,
   "metadata": {},
   "outputs": [
    {
     "data": {
      "text/plain": [
       "[<tf.Tensor: shape=(300, 4), dtype=float32, numpy=\n",
       " array([[-0.112044  ,  0.05510155,  0.04094441,  0.01599805],\n",
       "        [-0.11293994,  0.05594374,  0.04183282,  0.01516342],\n",
       "        [ 0.02072998, -0.00277632, -0.00112422, -0.01682947],\n",
       "        ...,\n",
       "        [-0.07940362,  0.01085887,  0.00749503,  0.06104969],\n",
       "        [-0.16243216,  0.0715156 ,  0.05421773,  0.03669881],\n",
       "        [ 0.09662345, -0.01037101, -0.00720807, -0.0790443 ]],\n",
       "       dtype=float32)>,\n",
       " <tf.Tensor: shape=(4,), dtype=float32, numpy=array([-2.025799  ,  1.0929042 ,  0.8475219 ,  0.08537273], dtype=float32)>]"
      ]
     },
     "execution_count": 42,
     "metadata": {},
     "output_type": "execute_result"
    }
   ],
   "source": [
    "calculate_grad(X_1_4, Y_train_1_4)"
   ]
  },
  {
   "cell_type": "code",
   "execution_count": 43,
   "metadata": {},
   "outputs": [
    {
     "data": {
      "text/plain": [
       "TensorShape([300, 4])"
      ]
     },
     "execution_count": 43,
     "metadata": {},
     "output_type": "execute_result"
    }
   ],
   "source": [
    "calculate_grad(X_1_4, Y_train_1_4)[0].shape"
   ]
  },
  {
   "cell_type": "markdown",
   "metadata": {},
   "source": [
    "## 73. 確率的勾配降下法による学習"
   ]
  },
  {
   "cell_type": "markdown",
   "metadata": {},
   "source": [
    ">確率的勾配降下法（SGD: Stochastic Gradient Descent）を用いて，行列Wを学習せよ.\n",
    "\n",
    "とのことなので、さっきのモデルを用いて、行いたいと思います。"
   ]
  },
  {
   "cell_type": "code",
   "execution_count": 44,
   "metadata": {},
   "outputs": [],
   "source": [
    "from tensorflow.keras.optimizers import SGD"
   ]
  },
  {
   "cell_type": "code",
   "execution_count": 45,
   "metadata": {},
   "outputs": [],
   "source": [
    "model_73 = predict_nn()"
   ]
  },
  {
   "cell_type": "code",
   "execution_count": 46,
   "metadata": {},
   "outputs": [
    {
     "name": "stdout",
     "output_type": "stream",
     "text": [
      "Train on 10672 samples, validate on 1334 samples\n",
      "Epoch 1/100\n",
      "10672/10672 [==============================] - 0s 46us/sample - loss: 1.1910 - accuracy: 0.6330 - val_loss: 1.0789 - val_accuracy: 0.7534\n",
      "Epoch 2/100\n",
      "10672/10672 [==============================] - 0s 26us/sample - loss: 1.0184 - accuracy: 0.7687 - val_loss: 0.9790 - val_accuracy: 0.7631\n",
      "Epoch 3/100\n",
      "10672/10672 [==============================] - 0s 25us/sample - loss: 0.9390 - accuracy: 0.7792 - val_loss: 0.9151 - val_accuracy: 0.7706\n",
      "Epoch 4/100\n",
      "10672/10672 [==============================] - 0s 26us/sample - loss: 0.8838 - accuracy: 0.7797 - val_loss: 0.8668 - val_accuracy: 0.7691\n",
      "Epoch 5/100\n",
      "10672/10672 [==============================] - 0s 26us/sample - loss: 0.8411 - accuracy: 0.7795 - val_loss: 0.8282 - val_accuracy: 0.7691\n",
      "Epoch 6/100\n",
      "10672/10672 [==============================] - 0s 26us/sample - loss: 0.8065 - accuracy: 0.7803 - val_loss: 0.7964 - val_accuracy: 0.7661\n",
      "Epoch 7/100\n",
      "10672/10672 [==============================] - 0s 26us/sample - loss: 0.7776 - accuracy: 0.7794 - val_loss: 0.7697 - val_accuracy: 0.7661\n",
      "Epoch 8/100\n",
      "10672/10672 [==============================] - 0s 27us/sample - loss: 0.7530 - accuracy: 0.7801 - val_loss: 0.7466 - val_accuracy: 0.7684\n",
      "Epoch 9/100\n",
      "10672/10672 [==============================] - 0s 25us/sample - loss: 0.7317 - accuracy: 0.7813 - val_loss: 0.7265 - val_accuracy: 0.7661\n",
      "Epoch 10/100\n",
      "10672/10672 [==============================] - 0s 25us/sample - loss: 0.7130 - accuracy: 0.7811 - val_loss: 0.7088 - val_accuracy: 0.7684\n",
      "Epoch 11/100\n",
      "10672/10672 [==============================] - 0s 26us/sample - loss: 0.6963 - accuracy: 0.7810 - val_loss: 0.6930 - val_accuracy: 0.7691\n",
      "Epoch 12/100\n",
      "10672/10672 [==============================] - 0s 27us/sample - loss: 0.6813 - accuracy: 0.7823 - val_loss: 0.6785 - val_accuracy: 0.7714\n",
      "Epoch 13/100\n",
      "10672/10672 [==============================] - 0s 27us/sample - loss: 0.6677 - accuracy: 0.7825 - val_loss: 0.6656 - val_accuracy: 0.7714\n",
      "Epoch 14/100\n",
      "10672/10672 [==============================] - 0s 25us/sample - loss: 0.6552 - accuracy: 0.7824 - val_loss: 0.6534 - val_accuracy: 0.7736\n",
      "Epoch 15/100\n",
      "10672/10672 [==============================] - 0s 25us/sample - loss: 0.6438 - accuracy: 0.7835 - val_loss: 0.6423 - val_accuracy: 0.7759\n",
      "Epoch 16/100\n",
      "10672/10672 [==============================] - 0s 27us/sample - loss: 0.6332 - accuracy: 0.7837 - val_loss: 0.6319 - val_accuracy: 0.7759\n",
      "Epoch 17/100\n",
      "10672/10672 [==============================] - 0s 26us/sample - loss: 0.6234 - accuracy: 0.7854 - val_loss: 0.6224 - val_accuracy: 0.7774\n",
      "Epoch 18/100\n",
      "10672/10672 [==============================] - 0s 29us/sample - loss: 0.6142 - accuracy: 0.7865 - val_loss: 0.6132 - val_accuracy: 0.7796\n",
      "Epoch 19/100\n",
      "10672/10672 [==============================] - 0s 25us/sample - loss: 0.6057 - accuracy: 0.7877 - val_loss: 0.6047 - val_accuracy: 0.7819\n",
      "Epoch 20/100\n",
      "10672/10672 [==============================] - 0s 25us/sample - loss: 0.5976 - accuracy: 0.7898 - val_loss: 0.5967 - val_accuracy: 0.7864\n",
      "Epoch 21/100\n",
      "10672/10672 [==============================] - 0s 29us/sample - loss: 0.5900 - accuracy: 0.7921 - val_loss: 0.5892 - val_accuracy: 0.7871\n",
      "Epoch 22/100\n",
      "10672/10672 [==============================] - 0s 25us/sample - loss: 0.5828 - accuracy: 0.7939 - val_loss: 0.5821 - val_accuracy: 0.7901\n",
      "Epoch 23/100\n",
      "10672/10672 [==============================] - 0s 25us/sample - loss: 0.5760 - accuracy: 0.7948 - val_loss: 0.5752 - val_accuracy: 0.7931\n",
      "Epoch 24/100\n",
      "10672/10672 [==============================] - 0s 27us/sample - loss: 0.5695 - accuracy: 0.7966 - val_loss: 0.5687 - val_accuracy: 0.7954\n",
      "Epoch 25/100\n",
      "10672/10672 [==============================] - 0s 26us/sample - loss: 0.5634 - accuracy: 0.7992 - val_loss: 0.5626 - val_accuracy: 0.7991\n",
      "Epoch 26/100\n",
      "10672/10672 [==============================] - 0s 25us/sample - loss: 0.5575 - accuracy: 0.8031 - val_loss: 0.5568 - val_accuracy: 0.8021\n",
      "Epoch 27/100\n",
      "10672/10672 [==============================] - 0s 26us/sample - loss: 0.5519 - accuracy: 0.8057 - val_loss: 0.5511 - val_accuracy: 0.8066\n",
      "Epoch 28/100\n",
      "10672/10672 [==============================] - 0s 26us/sample - loss: 0.5466 - accuracy: 0.8078 - val_loss: 0.5458 - val_accuracy: 0.8103\n",
      "Epoch 29/100\n",
      "10672/10672 [==============================] - 0s 27us/sample - loss: 0.5415 - accuracy: 0.8115 - val_loss: 0.5406 - val_accuracy: 0.8103\n",
      "Epoch 30/100\n",
      "10672/10672 [==============================] - 0s 25us/sample - loss: 0.5366 - accuracy: 0.8137 - val_loss: 0.5357 - val_accuracy: 0.8126\n",
      "Epoch 31/100\n",
      "10672/10672 [==============================] - 0s 26us/sample - loss: 0.5318 - accuracy: 0.8155 - val_loss: 0.5310 - val_accuracy: 0.8156\n",
      "Epoch 32/100\n",
      "10672/10672 [==============================] - 0s 27us/sample - loss: 0.5273 - accuracy: 0.8165 - val_loss: 0.5263 - val_accuracy: 0.8178\n",
      "Epoch 33/100\n",
      "10672/10672 [==============================] - 0s 25us/sample - loss: 0.5230 - accuracy: 0.8175 - val_loss: 0.5220 - val_accuracy: 0.8208\n",
      "Epoch 34/100\n",
      "10672/10672 [==============================] - 0s 26us/sample - loss: 0.5188 - accuracy: 0.8196 - val_loss: 0.5177 - val_accuracy: 0.8223\n",
      "Epoch 35/100\n",
      "10672/10672 [==============================] - 0s 25us/sample - loss: 0.5147 - accuracy: 0.8216 - val_loss: 0.5137 - val_accuracy: 0.8238\n",
      "Epoch 36/100\n",
      "10672/10672 [==============================] - 0s 26us/sample - loss: 0.5108 - accuracy: 0.8222 - val_loss: 0.5097 - val_accuracy: 0.8238\n",
      "Epoch 37/100\n",
      "10672/10672 [==============================] - 0s 28us/sample - loss: 0.5071 - accuracy: 0.8249 - val_loss: 0.5059 - val_accuracy: 0.8298\n",
      "Epoch 38/100\n",
      "10672/10672 [==============================] - 0s 25us/sample - loss: 0.5034 - accuracy: 0.8259 - val_loss: 0.5023 - val_accuracy: 0.8313\n",
      "Epoch 39/100\n",
      "10672/10672 [==============================] - 0s 30us/sample - loss: 0.4999 - accuracy: 0.8276 - val_loss: 0.4987 - val_accuracy: 0.8351\n",
      "Epoch 40/100\n",
      "10672/10672 [==============================] - 0s 33us/sample - loss: 0.4965 - accuracy: 0.8296 - val_loss: 0.4953 - val_accuracy: 0.8358\n",
      "Epoch 41/100\n",
      "10672/10672 [==============================] - 0s 25us/sample - loss: 0.4932 - accuracy: 0.8311 - val_loss: 0.4920 - val_accuracy: 0.8366\n",
      "Epoch 42/100\n",
      "10672/10672 [==============================] - 0s 27us/sample - loss: 0.4901 - accuracy: 0.8314 - val_loss: 0.4888 - val_accuracy: 0.8366\n",
      "Epoch 43/100\n",
      "10672/10672 [==============================] - 0s 26us/sample - loss: 0.4870 - accuracy: 0.8325 - val_loss: 0.4857 - val_accuracy: 0.8366\n",
      "Epoch 44/100\n",
      "10672/10672 [==============================] - 0s 28us/sample - loss: 0.4840 - accuracy: 0.8336 - val_loss: 0.4826 - val_accuracy: 0.8388\n",
      "Epoch 45/100\n",
      "10672/10672 [==============================] - 0s 28us/sample - loss: 0.4811 - accuracy: 0.8345 - val_loss: 0.4796 - val_accuracy: 0.8396\n",
      "Epoch 46/100\n",
      "10672/10672 [==============================] - 0s 27us/sample - loss: 0.4783 - accuracy: 0.8361 - val_loss: 0.4767 - val_accuracy: 0.8418\n",
      "Epoch 47/100\n",
      "10672/10672 [==============================] - 0s 28us/sample - loss: 0.4755 - accuracy: 0.8370 - val_loss: 0.4738 - val_accuracy: 0.8426\n",
      "Epoch 48/100\n",
      "10672/10672 [==============================] - 0s 29us/sample - loss: 0.4729 - accuracy: 0.8398 - val_loss: 0.4713 - val_accuracy: 0.8433\n",
      "Epoch 49/100\n",
      "10672/10672 [==============================] - 0s 28us/sample - loss: 0.4703 - accuracy: 0.8401 - val_loss: 0.4687 - val_accuracy: 0.8433\n",
      "Epoch 50/100\n",
      "10672/10672 [==============================] - 0s 27us/sample - loss: 0.4678 - accuracy: 0.8410 - val_loss: 0.4661 - val_accuracy: 0.8448\n",
      "Epoch 51/100\n",
      "10672/10672 [==============================] - 0s 26us/sample - loss: 0.4654 - accuracy: 0.8423 - val_loss: 0.4637 - val_accuracy: 0.8463\n",
      "Epoch 52/100\n",
      "10672/10672 [==============================] - 0s 27us/sample - loss: 0.4630 - accuracy: 0.8429 - val_loss: 0.4612 - val_accuracy: 0.8471\n",
      "Epoch 53/100\n",
      "10672/10672 [==============================] - 0s 29us/sample - loss: 0.4607 - accuracy: 0.8436 - val_loss: 0.4589 - val_accuracy: 0.8501\n",
      "Epoch 54/100\n",
      "10672/10672 [==============================] - 0s 28us/sample - loss: 0.4584 - accuracy: 0.8443 - val_loss: 0.4567 - val_accuracy: 0.8516\n",
      "Epoch 55/100\n",
      "10672/10672 [==============================] - 0s 27us/sample - loss: 0.4562 - accuracy: 0.8452 - val_loss: 0.4544 - val_accuracy: 0.8523\n",
      "Epoch 56/100\n",
      "10672/10672 [==============================] - 0s 28us/sample - loss: 0.4541 - accuracy: 0.8465 - val_loss: 0.4523 - val_accuracy: 0.8523\n",
      "Epoch 57/100\n",
      "10672/10672 [==============================] - 0s 28us/sample - loss: 0.4520 - accuracy: 0.8475 - val_loss: 0.4502 - val_accuracy: 0.8531\n",
      "Epoch 58/100\n",
      "10672/10672 [==============================] - 0s 25us/sample - loss: 0.4499 - accuracy: 0.8481 - val_loss: 0.4481 - val_accuracy: 0.8546\n",
      "Epoch 59/100\n",
      "10672/10672 [==============================] - 0s 29us/sample - loss: 0.4479 - accuracy: 0.8490 - val_loss: 0.4461 - val_accuracy: 0.8561\n",
      "Epoch 60/100\n",
      "10672/10672 [==============================] - 0s 27us/sample - loss: 0.4460 - accuracy: 0.8501 - val_loss: 0.4441 - val_accuracy: 0.8568\n",
      "Epoch 61/100\n",
      "10672/10672 [==============================] - 0s 32us/sample - loss: 0.4441 - accuracy: 0.8504 - val_loss: 0.4421 - val_accuracy: 0.8598\n",
      "Epoch 62/100\n",
      "10672/10672 [==============================] - 0s 27us/sample - loss: 0.4423 - accuracy: 0.8505 - val_loss: 0.4403 - val_accuracy: 0.8591\n",
      "Epoch 63/100\n",
      "10672/10672 [==============================] - 0s 29us/sample - loss: 0.4405 - accuracy: 0.8515 - val_loss: 0.4384 - val_accuracy: 0.8591\n",
      "Epoch 64/100\n",
      "10672/10672 [==============================] - 0s 27us/sample - loss: 0.4387 - accuracy: 0.8521 - val_loss: 0.4368 - val_accuracy: 0.8598\n",
      "Epoch 65/100\n",
      "10672/10672 [==============================] - 0s 30us/sample - loss: 0.4370 - accuracy: 0.8524 - val_loss: 0.4350 - val_accuracy: 0.8628\n",
      "Epoch 66/100\n",
      "10672/10672 [==============================] - 0s 25us/sample - loss: 0.4353 - accuracy: 0.8538 - val_loss: 0.4334 - val_accuracy: 0.8636\n",
      "Epoch 67/100\n",
      "10672/10672 [==============================] - 0s 26us/sample - loss: 0.4336 - accuracy: 0.8534 - val_loss: 0.4316 - val_accuracy: 0.8651\n",
      "Epoch 68/100\n",
      "10672/10672 [==============================] - 0s 25us/sample - loss: 0.4320 - accuracy: 0.8551 - val_loss: 0.4300 - val_accuracy: 0.8651\n",
      "Epoch 69/100\n",
      "10672/10672 [==============================] - 0s 26us/sample - loss: 0.4304 - accuracy: 0.8554 - val_loss: 0.4285 - val_accuracy: 0.8651\n",
      "Epoch 70/100\n",
      "10672/10672 [==============================] - 0s 26us/sample - loss: 0.4289 - accuracy: 0.8560 - val_loss: 0.4269 - val_accuracy: 0.8658\n",
      "Epoch 71/100\n",
      "10672/10672 [==============================] - 0s 29us/sample - loss: 0.4274 - accuracy: 0.8566 - val_loss: 0.4253 - val_accuracy: 0.8651\n",
      "Epoch 72/100\n",
      "10672/10672 [==============================] - 0s 27us/sample - loss: 0.4259 - accuracy: 0.8577 - val_loss: 0.4239 - val_accuracy: 0.8651\n",
      "Epoch 73/100\n",
      "10672/10672 [==============================] - 0s 28us/sample - loss: 0.4244 - accuracy: 0.8580 - val_loss: 0.4225 - val_accuracy: 0.8658\n",
      "Epoch 74/100\n",
      "10672/10672 [==============================] - 0s 27us/sample - loss: 0.4230 - accuracy: 0.8586 - val_loss: 0.4210 - val_accuracy: 0.8673\n",
      "Epoch 75/100\n",
      "10672/10672 [==============================] - 0s 25us/sample - loss: 0.4216 - accuracy: 0.8594 - val_loss: 0.4196 - val_accuracy: 0.8681\n",
      "Epoch 76/100\n",
      "10672/10672 [==============================] - 0s 27us/sample - loss: 0.4202 - accuracy: 0.8603 - val_loss: 0.4182 - val_accuracy: 0.8681\n",
      "Epoch 77/100\n",
      "10672/10672 [==============================] - 0s 27us/sample - loss: 0.4189 - accuracy: 0.8601 - val_loss: 0.4168 - val_accuracy: 0.8696\n",
      "Epoch 78/100\n",
      "10672/10672 [==============================] - 0s 26us/sample - loss: 0.4175 - accuracy: 0.8612 - val_loss: 0.4155 - val_accuracy: 0.8703\n",
      "Epoch 79/100\n",
      "10672/10672 [==============================] - 0s 26us/sample - loss: 0.4163 - accuracy: 0.8619 - val_loss: 0.4143 - val_accuracy: 0.8703\n",
      "Epoch 80/100\n",
      "10672/10672 [==============================] - 0s 26us/sample - loss: 0.4150 - accuracy: 0.8624 - val_loss: 0.4130 - val_accuracy: 0.8711\n",
      "Epoch 81/100\n",
      "10672/10672 [==============================] - 0s 26us/sample - loss: 0.4137 - accuracy: 0.8628 - val_loss: 0.4118 - val_accuracy: 0.8718\n",
      "Epoch 82/100\n",
      "10672/10672 [==============================] - 0s 30us/sample - loss: 0.4125 - accuracy: 0.8626 - val_loss: 0.4106 - val_accuracy: 0.8718\n",
      "Epoch 83/100\n",
      "10672/10672 [==============================] - 0s 26us/sample - loss: 0.4113 - accuracy: 0.8634 - val_loss: 0.4094 - val_accuracy: 0.8718\n",
      "Epoch 84/100\n",
      "10672/10672 [==============================] - 0s 28us/sample - loss: 0.4101 - accuracy: 0.8636 - val_loss: 0.4082 - val_accuracy: 0.8718\n",
      "Epoch 85/100\n",
      "10672/10672 [==============================] - 0s 26us/sample - loss: 0.4090 - accuracy: 0.8637 - val_loss: 0.4071 - val_accuracy: 0.8718\n",
      "Epoch 86/100\n",
      "10672/10672 [==============================] - 0s 30us/sample - loss: 0.4078 - accuracy: 0.8651 - val_loss: 0.4060 - val_accuracy: 0.8726\n",
      "Epoch 87/100\n",
      "10672/10672 [==============================] - 0s 28us/sample - loss: 0.4067 - accuracy: 0.8652 - val_loss: 0.4049 - val_accuracy: 0.8726\n",
      "Epoch 88/100\n",
      "10672/10672 [==============================] - 0s 26us/sample - loss: 0.4056 - accuracy: 0.8651 - val_loss: 0.4038 - val_accuracy: 0.8733\n",
      "Epoch 89/100\n",
      "10672/10672 [==============================] - 0s 26us/sample - loss: 0.4046 - accuracy: 0.8657 - val_loss: 0.4027 - val_accuracy: 0.8741\n",
      "Epoch 90/100\n",
      "10672/10672 [==============================] - 0s 29us/sample - loss: 0.4035 - accuracy: 0.8664 - val_loss: 0.4017 - val_accuracy: 0.8741\n",
      "Epoch 91/100\n",
      "10672/10672 [==============================] - 0s 26us/sample - loss: 0.4024 - accuracy: 0.8666 - val_loss: 0.4007 - val_accuracy: 0.8733\n",
      "Epoch 92/100\n",
      "10672/10672 [==============================] - 0s 26us/sample - loss: 0.4014 - accuracy: 0.8678 - val_loss: 0.3997 - val_accuracy: 0.8733\n",
      "Epoch 93/100\n",
      "10672/10672 [==============================] - 0s 27us/sample - loss: 0.4004 - accuracy: 0.8676 - val_loss: 0.3987 - val_accuracy: 0.8733\n",
      "Epoch 94/100\n",
      "10672/10672 [==============================] - 0s 28us/sample - loss: 0.3994 - accuracy: 0.8674 - val_loss: 0.3977 - val_accuracy: 0.8756\n",
      "Epoch 95/100\n",
      "10672/10672 [==============================] - 0s 29us/sample - loss: 0.3984 - accuracy: 0.8684 - val_loss: 0.3967 - val_accuracy: 0.8756\n",
      "Epoch 96/100\n",
      "10672/10672 [==============================] - 0s 29us/sample - loss: 0.3975 - accuracy: 0.8684 - val_loss: 0.3958 - val_accuracy: 0.8756\n",
      "Epoch 97/100\n",
      "10672/10672 [==============================] - 0s 27us/sample - loss: 0.3965 - accuracy: 0.8681 - val_loss: 0.3949 - val_accuracy: 0.8756\n",
      "Epoch 98/100\n",
      "10672/10672 [==============================] - 0s 26us/sample - loss: 0.3956 - accuracy: 0.8696 - val_loss: 0.3939 - val_accuracy: 0.8756\n",
      "Epoch 99/100\n",
      "10672/10672 [==============================] - 0s 27us/sample - loss: 0.3947 - accuracy: 0.8703 - val_loss: 0.3931 - val_accuracy: 0.8763\n",
      "Epoch 100/100\n",
      "10672/10672 [==============================] - 0s 29us/sample - loss: 0.3938 - accuracy: 0.8692 - val_loss: 0.3922 - val_accuracy: 0.8771\n",
      "CPU times: user 39.2 s, sys: 5.68 s, total: 44.8 s\n",
      "Wall time: 29.1 s\n"
     ]
    }
   ],
   "source": [
    "%%time\n",
    "opt = SGD(learning_rate=0.01)\n",
    "model_73.compile(optimizer=opt, loss='categorical_crossentropy',metrics=['accuracy'])\n",
    "history = model_73.fit(X_train, Y_train, epochs=100, validation_data=(X_valid, Y_valid))"
   ]
  },
  {
   "cell_type": "markdown",
   "metadata": {},
   "source": [
    "## 74.正解率の計測"
   ]
  },
  {
   "cell_type": "code",
   "execution_count": 47,
   "metadata": {},
   "outputs": [],
   "source": [
    "score = model_73.evaluate(X_test, Y_test, verbose=0)"
   ]
  },
  {
   "cell_type": "code",
   "execution_count": 48,
   "metadata": {},
   "outputs": [
    {
     "name": "stdout",
     "output_type": "stream",
     "text": [
      "Test loss:0.41655058169114717\n",
      "Test accuracy:0.8605697154998779\n"
     ]
    }
   ],
   "source": [
    "print('Test loss:{0}'.format(score[0]))\n",
    "print('Test accuracy:{0}'.format(score[1]))"
   ]
  },
  {
   "cell_type": "markdown",
   "metadata": {},
   "source": [
    "## 75. 損失と正解率のプロット"
   ]
  },
  {
   "cell_type": "markdown",
   "metadata": {},
   "source": [
    "Kerasでは、`Callback`というクラスがあり、それを使うことによって、訓練中に関数を適用させることができます。"
   ]
  },
  {
   "cell_type": "code",
   "execution_count": 49,
   "metadata": {},
   "outputs": [],
   "source": [
    "import os\n",
    "import matplotlib.pyplot as plt\n",
    "import japanize_matplotlib\n",
    "from IPython.display import clear_output\n",
    "from tensorflow.keras.callbacks import Callback"
   ]
  },
  {
   "cell_type": "code",
   "execution_count": 50,
   "metadata": {},
   "outputs": [],
   "source": [
    "class RealTimePlot(Callback):\n",
    "    def __init__(self, name=False, absolute=False, log_scale=False, path=os.getcwd() ,save=False):\n",
    "        super().__init__()\n",
    "        self.name = name\n",
    "        self.absolute = absolute\n",
    "        self.log_scale = log_scale\n",
    "        self.path = path\n",
    "        self.save = save\n",
    "\n",
    "    def on_train_begin(self, logs={}):\n",
    "        self.i = 0\n",
    "        self.x = []\n",
    "        self.losses = []\n",
    "        self.val_losses = []\n",
    "        self.acc = []\n",
    "        self.val_acc = []\n",
    "        self.fig = plt.figure()\n",
    "        \n",
    "        self.logs = []\n",
    "\n",
    "    def on_epoch_end(self, epoch, logs={}):\n",
    "        \n",
    "        self.logs.append(logs)\n",
    "        self.x.append(self.i)\n",
    "        self.losses.append(logs.get('loss'))\n",
    "        self.val_losses.append(logs.get('val_loss'))\n",
    "        self.acc.append(logs.get('accuracy'))\n",
    "        self.val_acc.append(logs.get('val_accuracy'))\n",
    "        self.i += 1\n",
    "        \n",
    "        fig, (ax1, ax2) = plt.subplots(1, 2, sharex=True, figsize=(10,5))\n",
    "        clear_output(wait=True)\n",
    "        \n",
    "        # fig全体の設定\n",
    "        if self.name:\n",
    "            fig.suptitle('{0}の学習'.format(self.name))\n",
    "            \n",
    "        \n",
    "        # fig内のax1(サブグラフ)の設定\n",
    "        if self.log_scale:\n",
    "            ax1.set_yscale('log')\n",
    "            \n",
    "        ax1.plot(self.x, self.losses, label=\"loss\")\n",
    "        ax1.plot(self.x, self.val_losses, label=\"val_loss\")\n",
    "        ax1.legend()\n",
    "        \n",
    "        # fig内のax2(サブグラフ)の設定\n",
    "        if self.absolute:\n",
    "            ax2.set_ylim(0.6, 0.98)\n",
    "\n",
    "        ax2.plot(self.x, self.acc, label=\"accuracy\")\n",
    "        ax2.plot(self.x, self.val_acc, label=\"val_accuracy\")\n",
    "        ax2.legend()\n",
    "        plt.show();\n",
    "        \n",
    "    def on_train_end(self, logs={}):\n",
    "        fig, (ax1, ax2) = plt.subplots(1, 2, sharex=True, figsize=(10,5))\n",
    "        clear_output(wait=True)\n",
    "        \n",
    "        # fig全体の設定\n",
    "        if self.name:\n",
    "            fig.suptitle('{0}の学習'.format(self.name))\n",
    "            \n",
    "        \n",
    "        # fig内のax1(サブグラフ)の設定\n",
    "        if self.log_scale:\n",
    "            ax1.set_yscale('log')\n",
    "    \n",
    "        ax1.plot(self.x, self.losses, label=\"loss\")\n",
    "        ax1.plot(self.x, self.val_losses, label=\"val_loss\")\n",
    "        ax1.legend()\n",
    "        \n",
    "        # fig内のax2(サブグラフ)の設定\n",
    "        if self.absolute:\n",
    "            ax2.set_ylim(0.6, 0.98)\n",
    "\n",
    "        ax2.plot(self.x, self.acc, label=\"accuracy\")\n",
    "        ax2.plot(self.x, self.val_acc, label=\"val_accuracy\")\n",
    "        ax2.legend()\n",
    "        \n",
    "        if self.save:\n",
    "            output_fig_name = os.path.join(self.path, self.name + '.png')\n",
    "            plt.savefig(output_fig_name)\n",
    "        plt.show();"
   ]
  },
  {
   "cell_type": "code",
   "execution_count": 51,
   "metadata": {},
   "outputs": [],
   "source": [
    "real_time_plot = RealTimePlot(name='75番')"
   ]
  },
  {
   "cell_type": "code",
   "execution_count": 52,
   "metadata": {},
   "outputs": [],
   "source": [
    "model_75 = predict_nn()"
   ]
  },
  {
   "cell_type": "code",
   "execution_count": 53,
   "metadata": {},
   "outputs": [
    {
     "data": {
      "image/png": "[encoded data removed]",
      "text/plain": [
       "<Figure size 720x360 with 2 Axes>"
      ]
     },
     "metadata": {
      "needs_background": "light"
     },
     "output_type": "display_data"
    },
    {
     "name": "stdout",
     "output_type": "stream",
     "text": [
      "CPU times: user 1min 10s, sys: 7.9 s, total: 1min 18s\n",
      "Wall time: 1min 3s\n"
     ]
    }
   ],
   "source": [
    "%%time\n",
    "opt = SGD(learning_rate=0.01)\n",
    "model_75.compile(optimizer=opt, loss='categorical_crossentropy',metrics=['accuracy'])\n",
    "history = model_75.fit(X_train, Y_train, epochs=100,\n",
    "                    validation_data=(X_valid, Y_valid),\n",
    "                    callbacks=[real_time_plot])"
   ]
  },
  {
   "cell_type": "markdown",
   "metadata": {},
   "source": [
    "lossもvalidation lossも同じように下がっているのが分かります。しかし奇妙な動きをしてますね。。。"
   ]
  },
  {
   "cell_type": "markdown",
   "metadata": {},
   "source": [
    "## 76.チェックポイント"
   ]
  },
  {
   "cell_type": "markdown",
   "metadata": {},
   "source": [
    "こちらも75と同様に、`Callbacks`を用います。"
   ]
  },
  {
   "cell_type": "code",
   "execution_count": 54,
   "metadata": {},
   "outputs": [],
   "source": [
    "import os\n",
    "from tensorflow.keras.callbacks import ModelCheckpoint"
   ]
  },
  {
   "cell_type": "code",
   "execution_count": 55,
   "metadata": {},
   "outputs": [],
   "source": [
    "# configs\n",
    "MODEL_DIR = './ch8_folder/models'"
   ]
  },
  {
   "cell_type": "code",
   "execution_count": 56,
   "metadata": {},
   "outputs": [],
   "source": [
    "if not os.path.exists(MODEL_DIR):  # ディレクトリが存在しない場合、作成する。\n",
    "    os.makedirs(MODEL_DIR)\n",
    "checkpoint = ModelCheckpoint(filepath=os.path.join(MODEL_DIR, \"model-{epoch:02d}.h5\"), verbose=0,save_weights_only=True, save_freq=1)"
   ]
  },
  {
   "cell_type": "code",
   "execution_count": 57,
   "metadata": {},
   "outputs": [],
   "source": [
    "model_76 = predict_nn()"
   ]
  },
  {
   "cell_type": "markdown",
   "metadata": {},
   "source": [
    "先ほどまでエポックは100で行っていましたが、パラメータをたくさん出力したくないため、エポックを10で行います。"
   ]
  },
  {
   "cell_type": "code",
   "execution_count": 58,
   "metadata": {},
   "outputs": [
    {
     "name": "stdout",
     "output_type": "stream",
     "text": [
      "Train on 10672 samples, validate on 1334 samples\n",
      "Epoch 1/10\n",
      "10672/10672 [==============================] - 2s 181us/sample - loss: 1.2007 - accuracy: 0.6371 - val_loss: 1.0789 - val_accuracy: 0.7444\n",
      "Epoch 2/10\n",
      "10672/10672 [==============================] - 2s 150us/sample - loss: 1.0174 - accuracy: 0.7623 - val_loss: 0.9774 - val_accuracy: 0.7609\n",
      "Epoch 3/10\n",
      "10672/10672 [==============================] - 2s 149us/sample - loss: 0.9374 - accuracy: 0.7718 - val_loss: 0.9133 - val_accuracy: 0.7624\n",
      "Epoch 4/10\n",
      "10672/10672 [==============================] - 2s 151us/sample - loss: 0.8824 - accuracy: 0.7756 - val_loss: 0.8652 - val_accuracy: 0.7624\n",
      "Epoch 5/10\n",
      "10672/10672 [==============================] - 2s 149us/sample - loss: 0.8398 - accuracy: 0.7765 - val_loss: 0.8267 - val_accuracy: 0.7654\n",
      "Epoch 6/10\n",
      "10672/10672 [==============================] - 2s 148us/sample - loss: 0.8053 - accuracy: 0.7772 - val_loss: 0.7950 - val_accuracy: 0.7661\n",
      "Epoch 7/10\n",
      "10672/10672 [==============================] - 2s 152us/sample - loss: 0.7766 - accuracy: 0.7782 - val_loss: 0.7684 - val_accuracy: 0.7654\n",
      "Epoch 8/10\n",
      "10672/10672 [==============================] - 2s 150us/sample - loss: 0.7520 - accuracy: 0.7784 - val_loss: 0.7454 - val_accuracy: 0.7661\n",
      "Epoch 9/10\n",
      "10672/10672 [==============================] - 2s 149us/sample - loss: 0.7307 - accuracy: 0.7801 - val_loss: 0.7254 - val_accuracy: 0.7676\n",
      "Epoch 10/10\n",
      "10672/10672 [==============================] - 2s 150us/sample - loss: 0.7120 - accuracy: 0.7805 - val_loss: 0.7074 - val_accuracy: 0.7676\n"
     ]
    }
   ],
   "source": [
    "opt = SGD(learning_rate=0.01)\n",
    "model_76.compile(optimizer=opt, loss='categorical_crossentropy',metrics=['accuracy'])\n",
    "history = model_76.fit(X_train, Y_train, epochs=10,\n",
    "                    validation_data=(X_valid, Y_valid),\n",
    "                    callbacks=[checkpoint])"
   ]
  },
  {
   "cell_type": "markdown",
   "metadata": {},
   "source": [
    "これで`MODEL_DIR`内にモデルが生成されていると思います。"
   ]
  },
  {
   "cell_type": "markdown",
   "metadata": {},
   "source": [
    "## 77.ミニバッチ化"
   ]
  },
  {
   "cell_type": "markdown",
   "metadata": {},
   "source": [
    "kerasをもちいたミニバッチ化は簡単です。`model.fit`のオプション変数である、`batch_size`で変更が可能です。\n",
    "問題ではBの値を1,2,4,8,...と書いてあるのですが、1,8,16あたりでやってみます。"
   ]
  },
  {
   "cell_type": "code",
   "execution_count": 59,
   "metadata": {},
   "outputs": [],
   "source": [
    "model_77_1 = predict_nn()"
   ]
  },
  {
   "cell_type": "code",
   "execution_count": 60,
   "metadata": {},
   "outputs": [],
   "source": [
    "real_time_plot = RealTimePlot()"
   ]
  },
  {
   "cell_type": "code",
   "execution_count": 61,
   "metadata": {},
   "outputs": [
    {
     "data": {
      "image/png": "[encoded data removed]",
      "text/plain": [
       "<Figure size 720x360 with 2 Axes>"
      ]
     },
     "metadata": {
      "needs_background": "light"
     },
     "output_type": "display_data"
    },
    {
     "name": "stdout",
     "output_type": "stream",
     "text": [
      "CPU times: user 18min 58s, sys: 2min 47s, total: 21min 45s\n",
      "Wall time: 14min 59s\n"
     ]
    }
   ],
   "source": [
    "%%time\n",
    "opt = SGD(learning_rate=0.01)\n",
    "model_77_1.compile(optimizer=opt, loss='categorical_crossentropy',metrics=['accuracy'])\n",
    "history = model_77_1.fit(X_train, Y_train, epochs=100, batch_size=1,\n",
    "                    validation_data=(X_valid, Y_valid),\n",
    "                    callbacks=[real_time_plot])"
   ]
  },
  {
   "cell_type": "code",
   "execution_count": 62,
   "metadata": {},
   "outputs": [],
   "source": [
    "score1 = model_77_1.evaluate(X_test, Y_test, verbose=0)"
   ]
  },
  {
   "cell_type": "code",
   "execution_count": 63,
   "metadata": {},
   "outputs": [
    {
     "name": "stdout",
     "output_type": "stream",
     "text": [
      "Test loss:0.26672721110183795\n",
      "Test accuracy:0.9077960848808289\n"
     ]
    }
   ],
   "source": [
    "print('Test loss:{0}'.format(score1[0]))\n",
    "print('Test accuracy:{0}'.format(score1[1]))"
   ]
  },
  {
   "cell_type": "code",
   "execution_count": 64,
   "metadata": {},
   "outputs": [],
   "source": [
    "model_77_8 = predict_nn()"
   ]
  },
  {
   "cell_type": "code",
   "execution_count": 65,
   "metadata": {},
   "outputs": [
    {
     "data": {
      "image/png": "[encoded data removed]",
      "text/plain": [
       "<Figure size 720x360 with 2 Axes>"
      ]
     },
     "metadata": {
      "needs_background": "light"
     },
     "output_type": "display_data"
    },
    {
     "name": "stdout",
     "output_type": "stream",
     "text": [
      "CPU times: user 3min, sys: 24.8 s, total: 3min 24s\n",
      "Wall time: 2min 26s\n"
     ]
    }
   ],
   "source": [
    "%%time\n",
    "opt = SGD(learning_rate=0.01)\n",
    "model_77_8.compile(optimizer=opt, loss='categorical_crossentropy',metrics=['accuracy'])\n",
    "history = model_77_8.fit(X_train, Y_train, epochs=100, batch_size=8,\n",
    "                    validation_data=(X_valid, Y_valid),\n",
    "                    callbacks=[real_time_plot])"
   ]
  },
  {
   "cell_type": "code",
   "execution_count": 66,
   "metadata": {},
   "outputs": [],
   "source": [
    "score2 = model_77_8.evaluate(X_test, Y_test, verbose=0)"
   ]
  },
  {
   "cell_type": "code",
   "execution_count": 67,
   "metadata": {},
   "outputs": [
    {
     "name": "stdout",
     "output_type": "stream",
     "text": [
      "Test loss:0.32390749342795433\n",
      "Test accuracy:0.8890554904937744\n"
     ]
    }
   ],
   "source": [
    "print('Test loss:{0}'.format(score2[0]))\n",
    "print('Test accuracy:{0}'.format(score2[1]))"
   ]
  },
  {
   "cell_type": "code",
   "execution_count": 68,
   "metadata": {},
   "outputs": [],
   "source": [
    "model_77_16 = predict_nn()"
   ]
  },
  {
   "cell_type": "code",
   "execution_count": 69,
   "metadata": {},
   "outputs": [
    {
     "data": {
      "image/png": "[encoded data removed]",
      "text/plain": [
       "<Figure size 720x360 with 2 Axes>"
      ]
     },
     "metadata": {
      "needs_background": "light"
     },
     "output_type": "display_data"
    },
    {
     "name": "stdout",
     "output_type": "stream",
     "text": [
      "CPU times: user 1min 45s, sys: 13.7 s, total: 1min 59s\n",
      "Wall time: 1min 28s\n"
     ]
    }
   ],
   "source": [
    "%%time\n",
    "opt = SGD(learning_rate=0.01)\n",
    "model_77_16.compile(optimizer=opt, loss='categorical_crossentropy',metrics=['accuracy'])\n",
    "history = model_77_16.fit(X_train, Y_train, epochs=100, batch_size=16,\n",
    "                    validation_data=(X_valid, Y_valid),\n",
    "                    callbacks=[real_time_plot])"
   ]
  },
  {
   "cell_type": "code",
   "execution_count": 70,
   "metadata": {},
   "outputs": [],
   "source": [
    "score3 = model_77_16.evaluate(X_test, Y_test, verbose=0)"
   ]
  },
  {
   "cell_type": "code",
   "execution_count": 71,
   "metadata": {},
   "outputs": [
    {
     "name": "stdout",
     "output_type": "stream",
     "text": [
      "Test loss:0.36266527352840644\n",
      "Test accuracy:0.8785607218742371\n"
     ]
    }
   ],
   "source": [
    "print('Test loss:{0}'.format(score3[0]))\n",
    "print('Test accuracy:{0}'.format(score3[1]))"
   ]
  },
  {
   "cell_type": "markdown",
   "metadata": {},
   "source": [
    "## 78.GPU上での学習"
   ]
  },
  {
   "cell_type": "markdown",
   "metadata": {},
   "source": [
    "こちらは手元の環境ではできないので行いません。"
   ]
  },
  {
   "cell_type": "markdown",
   "metadata": {},
   "source": [
    "## 79.多層ニューラルネットワーク"
   ]
  },
  {
   "cell_type": "markdown",
   "metadata": {},
   "source": [
    "先ほどまでは一層のニューラルネットワークをさわってたわけですが、今度は多層のニューラルネットとかを作ってみましょう。\n",
    "今までの結果から、\n",
    "\n",
    "- epochが100のままだと過適合しそう\n",
    "- バッチサイズは小さいとよくなさそうなので、16ぐらいで\n",
    "\n",
    "みたいが見えるので、そこら辺を意識しながらパラメータを編集します。"
   ]
  },
  {
   "cell_type": "code",
   "execution_count": 72,
   "metadata": {},
   "outputs": [],
   "source": [
    "from tensorflow.keras.layers import Dropout"
   ]
  },
  {
   "cell_type": "code",
   "execution_count": 73,
   "metadata": {},
   "outputs": [],
   "source": [
    "def many_nn():\n",
    "    inputs = Input(shape=(300,))\n",
    "    x = Dense(200, activation='relu')(inputs)\n",
    "    x = Dropout(0.5)(x)\n",
    "    outputs = Dense(4, activation='softmax') (x)\n",
    "    model = Model(inputs=inputs, outputs=outputs)\n",
    "    return model"
   ]
  },
  {
   "cell_type": "code",
   "execution_count": 74,
   "metadata": {},
   "outputs": [],
   "source": [
    "model_79 = many_nn()"
   ]
  },
  {
   "cell_type": "code",
   "execution_count": 75,
   "metadata": {},
   "outputs": [
    {
     "data": {
      "image/png": "[encoded data removed]",
      "text/plain": [
       "<Figure size 720x360 with 2 Axes>"
      ]
     },
     "metadata": {
      "needs_background": "light"
     },
     "output_type": "display_data"
    },
    {
     "name": "stdout",
     "output_type": "stream",
     "text": [
      "CPU times: user 59.2 s, sys: 7.21 s, total: 1min 6s\n",
      "Wall time: 46.8 s\n"
     ]
    }
   ],
   "source": [
    "%%time\n",
    "opt = SGD(learning_rate=0.01)\n",
    "model_79.compile(optimizer=opt, loss='categorical_crossentropy',metrics=['accuracy'])\n",
    "history = model_79.fit(X_train, Y_train, epochs=45, batch_size=16,\n",
    "                    validation_data=(X_valid, Y_valid),\n",
    "                    callbacks=[real_time_plot])"
   ]
  },
  {
   "cell_type": "code",
   "execution_count": 76,
   "metadata": {},
   "outputs": [
    {
     "name": "stdout",
     "output_type": "stream",
     "text": [
      "Test loss:0.2823952407851212\n",
      "Test accuracy:0.9002998471260071\n"
     ]
    }
   ],
   "source": [
    "score4 = model_79.evaluate(X_test, Y_test, verbose=0)\n",
    "print('Test loss:{0}'.format(score4[0]))\n",
    "print('Test accuracy:{0}'.format(score4[1]))"
   ]
  },
  {
   "cell_type": "markdown",
   "metadata": {},
   "source": [
    "Accuracyそこまで上がらなかったですね。。。\n",
    "本来もう少しパラメータをいじったり特徴量をかえたりしますが、今回は以上にします。"
   ]
  }
 ],
 "metadata": {
  "kernelspec": {
   "display_name": "Python 3",
   "language": "python",
   "name": "python3"
  },
  "language_info": {
   "codemirror_mode": {
    "name": "ipython",
    "version": 3
   },
   "file_extension": ".py",
   "mimetype": "text/x-python",
   "name": "python",
   "nbconvert_exporter": "python",
   "pygments_lexer": "ipython3",
   "version": "3.7.3"
  }
 },
 "nbformat": 4,
 "nbformat_minor": 4
}
