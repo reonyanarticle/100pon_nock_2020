{
 "cells": [
  {
   "cell_type": "markdown",
   "metadata": {},
   "source": [
    "## 50.データの入手・整形"
   ]
  },
  {
   "cell_type": "code",
   "execution_count": 1,
   "metadata": {},
   "outputs": [],
   "source": [
    "import pandas as pd\n",
    "from sklearn.model_selection import train_test_split\n",
    "import numpy as np\n",
    "import csv\n",
    "import os\n",
    "from common_utils import make_csv\n",
    "\n",
    "# その他\n",
    "import warnings"
   ]
  },
  {
   "cell_type": "code",
   "execution_count": 2,
   "metadata": {},
   "outputs": [],
   "source": [
    "# configs\n",
    "CSV_PATH = './ch6_folder/NewsAggregatorDataset/newsCorpora.csv'\n",
    "NAMES = ('TITLE', 'URL','PUBLISHER', 'CATEGORY','STORY', 'HOSTNAME', 'TIMESTAMP')\n",
    "PUBLISHERS = ['Reuters', 'Huffington Post','Businessweek', 'Contactmusic.com', 'Daily Mail']\n",
    "DATA_PATH = './ch6_folder/save_data/'\n",
    "HEADERS = ['CATEGORY', 'TITLE']"
   ]
  },
  {
   "cell_type": "markdown",
   "metadata": {},
   "source": [
    "Warningを消すために以下のコードを追加します。"
   ]
  },
  {
   "cell_type": "code",
   "execution_count": 3,
   "metadata": {},
   "outputs": [],
   "source": [
    "warnings.simplefilter('ignore')"
   ]
  },
  {
   "cell_type": "code",
   "execution_count": 4,
   "metadata": {},
   "outputs": [],
   "source": [
    "df = pd.read_table(CSV_PATH, names=NAMES)"
   ]
  },
  {
   "cell_type": "code",
   "execution_count": 5,
   "metadata": {},
   "outputs": [],
   "source": [
    "data_df = df[df['PUBLISHER'].isin(PUBLISHERS)]"
   ]
  },
  {
   "cell_type": "code",
   "execution_count": 6,
   "metadata": {},
   "outputs": [],
   "source": [
    "data_list = np.array(data_df[HEADERS]).tolist()"
   ]
  },
  {
   "cell_type": "code",
   "execution_count": 7,
   "metadata": {},
   "outputs": [],
   "source": [
    "train_data , test_and_valid_data = train_test_split(data_list, test_size=0.2, random_state=123)"
   ]
  },
  {
   "cell_type": "code",
   "execution_count": 8,
   "metadata": {},
   "outputs": [],
   "source": [
    "valid_data = test_and_valid_data[:(len(test_and_valid_data)//2)]\n",
    "test_data = test_and_valid_data[(len(test_and_valid_data)//2):]"
   ]
  },
  {
   "cell_type": "code",
   "execution_count": 9,
   "metadata": {},
   "outputs": [],
   "source": [
    "if not os.path.exists(DATA_PATH):\n",
    "    os.makedirs(DATA_PATH)"
   ]
  },
  {
   "cell_type": "code",
   "execution_count": 10,
   "metadata": {},
   "outputs": [
    {
     "name": "stdout",
     "output_type": "stream",
     "text": [
      "./ch6_folder/save_data/train.csvはもう存在しています\n",
      "./ch6_folder/save_data/valid.csvはもう存在しています\n",
      "./ch6_folder/save_data/test.csvはもう存在しています\n"
     ]
    }
   ],
   "source": [
    "make_csv(DATA_PATH + 'train.csv', train_data,HEADERS)\n",
    "make_csv(DATA_PATH + 'valid.csv', valid_data,HEADERS)\n",
    "make_csv(DATA_PATH + 'test.csv', test_data,HEADERS)"
   ]
  },
  {
   "cell_type": "markdown",
   "metadata": {},
   "source": [
    "## 特徴量抽出 & 学習"
   ]
  },
  {
   "cell_type": "code",
   "execution_count": 11,
   "metadata": {},
   "outputs": [],
   "source": [
    "from sklearn.feature_extraction.text import CountVectorizer\n",
    "from sklearn.linear_model import LogisticRegression"
   ]
  },
  {
   "cell_type": "code",
   "execution_count": 12,
   "metadata": {},
   "outputs": [],
   "source": [
    "# configs\n",
    "TRAIN_CSV_PATH = './ch6_folder/save_data/train.csv'\n",
    "VALID_CSV_PATH = './ch6_folder/save_data/valid.csv'\n",
    "TEST_CSV_PATH = './ch6_folder/save_data/test.csv'"
   ]
  },
  {
   "cell_type": "code",
   "execution_count": 13,
   "metadata": {},
   "outputs": [],
   "source": [
    "CATEGORY_TAG = {'b': 0, 't': 1, 'e': 2, 'm': 3}"
   ]
  },
  {
   "cell_type": "code",
   "execution_count": 14,
   "metadata": {},
   "outputs": [],
   "source": [
    "train_titles = pd.read_csv(TRAIN_CSV_PATH)['TITLE'].tolist()\n",
    "valid_titles = pd.read_csv(VALID_CSV_PATH)['TITLE'].tolist()\n",
    "test_titles = pd.read_csv(TEST_CSV_PATH)['TITLE'].tolist()"
   ]
  },
  {
   "cell_type": "code",
   "execution_count": 15,
   "metadata": {},
   "outputs": [],
   "source": [
    "all_titles = train_titles + valid_titles + test_titles"
   ]
  },
  {
   "cell_type": "code",
   "execution_count": 16,
   "metadata": {},
   "outputs": [],
   "source": [
    "vectrizer = CountVectorizer()\n",
    "X = vectrizer.fit_transform(all_titles)"
   ]
  },
  {
   "cell_type": "code",
   "execution_count": 17,
   "metadata": {},
   "outputs": [
    {
     "data": {
      "text/plain": [
       "(13340, 13577)"
      ]
     },
     "execution_count": 17,
     "metadata": {},
     "output_type": "execute_result"
    }
   ],
   "source": [
    "X.shape"
   ]
  },
  {
   "cell_type": "code",
   "execution_count": 18,
   "metadata": {},
   "outputs": [
    {
     "data": {
      "text/plain": [
       "scipy.sparse.csr.csr_matrix"
      ]
     },
     "execution_count": 18,
     "metadata": {},
     "output_type": "execute_result"
    }
   ],
   "source": [
    "type(X)"
   ]
  },
  {
   "cell_type": "code",
   "execution_count": 19,
   "metadata": {},
   "outputs": [],
   "source": [
    "X = np.array(X.todense())"
   ]
  },
  {
   "cell_type": "code",
   "execution_count": 20,
   "metadata": {},
   "outputs": [],
   "source": [
    "y_train= pd.read_csv(TRAIN_CSV_PATH)['CATEGORY'].map(CATEGORY_TAG).tolist()\n",
    "y_valid = pd.read_csv(VALID_CSV_PATH)['CATEGORY'].map(CATEGORY_TAG).tolist()\n",
    "y_test = pd.read_csv(TEST_CSV_PATH)['CATEGORY'].map(CATEGORY_TAG).tolist()"
   ]
  },
  {
   "cell_type": "code",
   "execution_count": 21,
   "metadata": {},
   "outputs": [],
   "source": [
    "X_train = X[:len(y_train)]\n",
    "X_valid = X[len(y_train):(len(y_train)+len(y_valid))]\n",
    "X_test = X[(len(y_train)+len(y_valid)):]"
   ]
  },
  {
   "cell_type": "code",
   "execution_count": 22,
   "metadata": {},
   "outputs": [
    {
     "data": {
      "text/plain": [
       "LogisticRegression(C=1.0, class_weight=None, dual=False, fit_intercept=True,\n",
       "                   intercept_scaling=1, l1_ratio=None, max_iter=100,\n",
       "                   multi_class='auto', n_jobs=None, penalty='l1',\n",
       "                   random_state=None, solver='liblinear', tol=0.0001, verbose=0,\n",
       "                   warm_start=False)"
      ]
     },
     "execution_count": 22,
     "metadata": {},
     "output_type": "execute_result"
    }
   ],
   "source": [
    "lr = LogisticRegression(penalty='l1', solver='liblinear', multi_class='auto')\n",
    "lr.fit(X_train, y_train)"
   ]
  },
  {
   "cell_type": "markdown",
   "metadata": {},
   "source": [
    "## 予測と正解率の計測、混同行列の作成"
   ]
  },
  {
   "cell_type": "code",
   "execution_count": 23,
   "metadata": {},
   "outputs": [],
   "source": [
    "from sklearn.metrics import f1_score, confusion_matrix, recall_score, precision_score, accuracy_score\n",
    "import seaborn as sns\n",
    "import matplotlib.pyplot as plt"
   ]
  },
  {
   "cell_type": "code",
   "execution_count": 24,
   "metadata": {},
   "outputs": [],
   "source": [
    "y_predict = lr.predict(X_test)"
   ]
  },
  {
   "cell_type": "code",
   "execution_count": 25,
   "metadata": {},
   "outputs": [],
   "source": [
    "cm = confusion_matrix(y_predict, y_test)"
   ]
  },
  {
   "cell_type": "code",
   "execution_count": 26,
   "metadata": {},
   "outputs": [
    {
     "data": {
      "text/plain": [
       "array([[531,  10,   3,   8],\n",
       "       [ 14, 127,   1,   1],\n",
       "       [ 12,  10, 508,   6],\n",
       "       [  2,   0,   1, 100]])"
      ]
     },
     "execution_count": 26,
     "metadata": {},
     "output_type": "execute_result"
    }
   ],
   "source": [
    "cm"
   ]
  },
  {
   "cell_type": "code",
   "execution_count": 27,
   "metadata": {},
   "outputs": [
    {
     "data": {
      "text/plain": [
       "<matplotlib.axes._subplots.AxesSubplot at 0x7fdfea1611d0>"
      ]
     },
     "execution_count": 27,
     "metadata": {},
     "output_type": "execute_result"
    },
    {
     "data": {
      "image/png": "[encoded data removed]",
      "text/plain": [
       "<Figure size 432x288 with 2 Axes>"
      ]
     },
     "metadata": {
      "needs_background": "light"
     },
     "output_type": "display_data"
    }
   ],
   "source": [
    "sns.heatmap(cm)"
   ]
  },
  {
   "cell_type": "markdown",
   "metadata": {},
   "source": [
    "## 適合率、再現率、F1スコアの計測"
   ]
  },
  {
   "cell_type": "markdown",
   "metadata": {},
   "source": [
    "ロジスティック回帰モデルの適合率、再現率、F1スコアはいかのようになっている。"
   ]
  },
  {
   "cell_type": "code",
   "execution_count": 28,
   "metadata": {},
   "outputs": [
    {
     "name": "stdout",
     "output_type": "stream",
     "text": [
      "0.9490254872563718 0.9184186903725892 0.9421758475721591 0.9421758475721591 0.9294325798124617\n"
     ]
    }
   ],
   "source": [
    "all_acc_score = accuracy_score(y_predict, y_test)\n",
    "all_precision_score = precision_score(y_predict, y_test, average='macro')\n",
    "all_recall_score = recall_score(y_predict, y_test, average='macro')\n",
    "all_f1_score = f1_score(y_predict, y_test, average='macro')\n",
    "print(all_acc_score, all_precision_score, all_recall_score, all_recall_score, all_f1_score)"
   ]
  },
  {
   "cell_type": "code",
   "execution_count": 29,
   "metadata": {},
   "outputs": [],
   "source": [
    "business_predict = [y_predict[i] for i in range(len(y_test)) if y_test[i] == 0]\n",
    "technology_predict = [y_predict[i] for i in range(len(y_test)) if y_test[i] == 1]\n",
    "entertainment_predict = [y_predict[i] for i in range(len(y_test)) if y_test[i] == 2]\n",
    "health_predict = [y_predict[i] for i in range(len(y_test)) if y_test[i] == 3]"
   ]
  },
  {
   "cell_type": "markdown",
   "metadata": {},
   "source": [
    "bisinessにかんする適合率、再現率、F1スコアは以下のようになっている。"
   ]
  },
  {
   "cell_type": "code",
   "execution_count": 30,
   "metadata": {},
   "outputs": [
    {
     "name": "stdout",
     "output_type": "stream",
     "text": [
      "0.9499105545617174 0.23747763864042934 0.25 0.24357798165137615\n"
     ]
    }
   ],
   "source": [
    "business_acc_score = accuracy_score(business_predict, [0]*len(business_predict))\n",
    "business_precision_score = precision_score(business_predict, [0]*len(business_predict), average='macro')\n",
    "business_recall_score = recall_score(business_predict, [0]*len(business_predict), average='macro')\n",
    "business_f1_score = f1_score(business_predict, [0]*len(business_predict), average='macro')\n",
    "print(business_acc_score, business_precision_score, business_recall_score, business_f1_score)"
   ]
  },
  {
   "cell_type": "markdown",
   "metadata": {},
   "source": [
    "technologyに関する適合率、再現率、F1スコアは以下のようになっている。"
   ]
  },
  {
   "cell_type": "code",
   "execution_count": 31,
   "metadata": {},
   "outputs": [
    {
     "name": "stdout",
     "output_type": "stream",
     "text": [
      "0.8639455782312925 0.2879818594104308 0.3333333333333333 0.30900243309002434\n"
     ]
    }
   ],
   "source": [
    "technology_acc_score = accuracy_score(technology_predict, [1]*len(technology_predict))\n",
    "technology_precision_score = precision_score(technology_predict, [1]*len(technology_predict), average='macro')\n",
    "technology_recall_score = recall_score(technology_predict, [1]*len(technology_predict), average='macro')\n",
    "technology_f1_score = f1_score(technology_predict, [1]*len(technology_predict), average='macro')\n",
    "print(technology_acc_score, technology_precision_score, technology_recall_score, technology_f1_score)"
   ]
  },
  {
   "cell_type": "markdown",
   "metadata": {},
   "source": [
    "entertainmentに関する適合率、再現率、F1スコアは以下のようになっている。"
   ]
  },
  {
   "cell_type": "code",
   "execution_count": 32,
   "metadata": {},
   "outputs": [
    {
     "name": "stdout",
     "output_type": "stream",
     "text": [
      "0.9902534113060428 0.2475633528265107 0.25 0.24877571008814886\n"
     ]
    }
   ],
   "source": [
    "entertainment_acc_score = accuracy_score(entertainment_predict, [2]*len(entertainment_predict))\n",
    "entertainment_precision_score = precision_score(entertainment_predict, [2]*len(entertainment_predict), average='macro')\n",
    "entertainment_recall_score = recall_score(entertainment_predict, [2]*len(entertainment_predict), average='macro')\n",
    "entertainment_f1_score = f1_score(entertainment_predict, [2]*len(entertainment_predict), average='macro')\n",
    "print(entertainment_acc_score, entertainment_precision_score, entertainment_recall_score, entertainment_f1_score)"
   ]
  },
  {
   "cell_type": "markdown",
   "metadata": {},
   "source": [
    "healthに関する適合率、再現率、F1スコアは以下のようになっている。"
   ]
  },
  {
   "cell_type": "code",
   "execution_count": 33,
   "metadata": {},
   "outputs": [
    {
     "name": "stdout",
     "output_type": "stream",
     "text": [
      "0.8695652173913043 0.21739130434782608 0.25 0.23255813953488372\n"
     ]
    }
   ],
   "source": [
    "health_acc_score = accuracy_score(health_predict, [3]*len(health_predict))\n",
    "health_precision_score = precision_score(health_predict, [3]*len(health_predict), average='macro')\n",
    "health_recall_score = recall_score(health_predict, [3]*len(health_predict), average='macro')\n",
    "health_f1_score = f1_score(health_predict, [3]*len(health_predict), average='macro')\n",
    "print(health_acc_score, health_precision_score, health_recall_score, health_f1_score)"
   ]
  },
  {
   "cell_type": "markdown",
   "metadata": {},
   "source": [
    "## 特徴量の重みの確認"
   ]
  },
  {
   "cell_type": "code",
   "execution_count": 34,
   "metadata": {},
   "outputs": [],
   "source": [
    "id2names = vectrizer.vocabulary_\n",
    "sorted_by_value_id2names = {}\n",
    "for k, v in sorted(id2names.items(), key=lambda x: x[1]):\n",
    "    sorted_by_value_id2names[k] = v"
   ]
  },
  {
   "cell_type": "code",
   "execution_count": 35,
   "metadata": {},
   "outputs": [],
   "source": [
    "columns = list(sorted_by_value_id2names.keys())"
   ]
  },
  {
   "cell_type": "code",
   "execution_count": 36,
   "metadata": {},
   "outputs": [],
   "source": [
    "weight_df = pd.DataFrame(lr.coef_)\n",
    "weight_df.index = ['b', 't', 'e', 'm']\n",
    "weight_df.columns = columns"
   ]
  },
  {
   "cell_type": "code",
   "execution_count": 37,
   "metadata": {},
   "outputs": [],
   "source": [
    "top10_toku = weight_df.T.sort_values(by=['b', 't', 'e', 'm'], ascending=False)[:10].index"
   ]
  },
  {
   "cell_type": "code",
   "execution_count": 38,
   "metadata": {},
   "outputs": [],
   "source": [
    "dobe10_toku = weight_df.T.sort_values(by=['b', 't', 'e', 'm'], ascending=True)[:10].index"
   ]
  },
  {
   "cell_type": "code",
   "execution_count": 39,
   "metadata": {},
   "outputs": [
    {
     "data": {
      "text/plain": [
       "Index(['activision', 'ebola', 'aereo', 'nintendo', 'twitch', 'kardashian',\n",
       "       'paul', 'cap', 'subscription', 'star'],\n",
       "      dtype='object')"
      ]
     },
     "execution_count": 39,
     "metadata": {},
     "output_type": "execute_result"
    }
   ],
   "source": [
    "dobe10_toku"
   ]
  },
  {
   "cell_type": "code",
   "execution_count": 40,
   "metadata": {},
   "outputs": [
    {
     "data": {
      "text/plain": [
       "Index(['ecb', 'bank', 'fitch', 'yellen', 'lobster', 'argentina', 'piketty',\n",
       "       'fracking', 'hillary', 'fed'],\n",
       "      dtype='object')"
      ]
     },
     "execution_count": 40,
     "metadata": {},
     "output_type": "execute_result"
    }
   ],
   "source": [
    "top10_toku"
   ]
  },
  {
   "cell_type": "markdown",
   "metadata": {},
   "source": [
    "## 正則化パラメータの変更"
   ]
  },
  {
   "cell_type": "code",
   "execution_count": 41,
   "metadata": {},
   "outputs": [],
   "source": [
    "C_list = [0.2, 0.4, 0.6, 0.8, 1.0]"
   ]
  },
  {
   "cell_type": "code",
   "execution_count": 42,
   "metadata": {},
   "outputs": [],
   "source": [
    "acc_list=[]\n",
    "for c in C_list:\n",
    "    lr1 = LogisticRegression(C=c, penalty='l1', solver='liblinear')\n",
    "    lr1.fit(X_train, y_train)\n",
    "    y1_predict = lr1.predict(X_test)\n",
    "    acc_score = accuracy_score(y1_predict,y_test)\n",
    "    acc_list.append(acc_score)"
   ]
  },
  {
   "cell_type": "code",
   "execution_count": 43,
   "metadata": {},
   "outputs": [
    {
     "data": {
      "text/plain": [
       "[0.8380809595202399,\n",
       " 0.8898050974512743,\n",
       " 0.9152923538230885,\n",
       " 0.9347826086956522,\n",
       " 0.9490254872563718]"
      ]
     },
     "execution_count": 43,
     "metadata": {},
     "output_type": "execute_result"
    }
   ],
   "source": [
    "acc_list"
   ]
  },
  {
   "cell_type": "markdown",
   "metadata": {},
   "source": [
    "## ハイパーパラメータの探索"
   ]
  },
  {
   "cell_type": "code",
   "execution_count": 44,
   "metadata": {},
   "outputs": [],
   "source": [
    "from sklearn.model_selection import GridSearchCV, PredefinedSplit"
   ]
  },
  {
   "cell_type": "code",
   "execution_count": 45,
   "metadata": {},
   "outputs": [
    {
     "data": {
      "text/plain": [
       "numpy.ndarray"
      ]
     },
     "execution_count": 45,
     "metadata": {},
     "output_type": "execute_result"
    }
   ],
   "source": [
    "type(X_train)"
   ]
  },
  {
   "cell_type": "code",
   "execution_count": 46,
   "metadata": {},
   "outputs": [],
   "source": [
    "X_train_and_valid = np.vstack((X_train, X_valid))"
   ]
  },
  {
   "cell_type": "code",
   "execution_count": 47,
   "metadata": {},
   "outputs": [],
   "source": [
    "y_train_and_valid = y_train + y_valid"
   ]
  },
  {
   "cell_type": "code",
   "execution_count": 48,
   "metadata": {},
   "outputs": [],
   "source": [
    "test_fold = [-1 for i in range(len(X_train))]+ [1 for i in range(len(X_train),len(X_train_and_valid))]"
   ]
  },
  {
   "cell_type": "code",
   "execution_count": 49,
   "metadata": {},
   "outputs": [],
   "source": [
    "ps = PredefinedSplit(test_fold)"
   ]
  },
  {
   "cell_type": "code",
   "execution_count": 50,
   "metadata": {},
   "outputs": [],
   "source": [
    "params = {'penalty':['l1','l2'],\n",
    "          'C':[0.5,1.0,2.0,10.0],\n",
    "          'solver':['liblinear']\n",
    "         }"
   ]
  },
  {
   "cell_type": "code",
   "execution_count": 51,
   "metadata": {},
   "outputs": [],
   "source": [
    "lr = LogisticRegression(multi_class='auto')\n",
    "clf = GridSearchCV(lr, param_grid=params, cv = ps)"
   ]
  },
  {
   "cell_type": "code",
   "execution_count": 52,
   "metadata": {},
   "outputs": [
    {
     "data": {
      "text/plain": [
       "GridSearchCV(cv=PredefinedSplit(test_fold=array([-1, -1, ...,  1,  1])),\n",
       "             error_score='raise-deprecating',\n",
       "             estimator=LogisticRegression(C=1.0, class_weight=None, dual=False,\n",
       "                                          fit_intercept=True,\n",
       "                                          intercept_scaling=1, l1_ratio=None,\n",
       "                                          max_iter=100, multi_class='auto',\n",
       "                                          n_jobs=None, penalty='l2',\n",
       "                                          random_state=None, solver='warn',\n",
       "                                          tol=0.0001, verbose=0,\n",
       "                                          warm_start=False),\n",
       "             iid='warn', n_jobs=None,\n",
       "             param_grid={'C': [0.5, 1.0, 2.0, 10.0], 'penalty': ['l1', 'l2'],\n",
       "                         'solver': ['liblinear']},\n",
       "             pre_dispatch='2*n_jobs', refit=True, return_train_score=False,\n",
       "             scoring=None, verbose=0)"
      ]
     },
     "execution_count": 52,
     "metadata": {},
     "output_type": "execute_result"
    }
   ],
   "source": [
    "clf.fit(X_train_and_valid,y_train_and_valid)"
   ]
  },
  {
   "cell_type": "code",
   "execution_count": 53,
   "metadata": {},
   "outputs": [
    {
     "data": {
      "text/plain": [
       "['mean_fit_time',\n",
       " 'mean_score_time',\n",
       " 'mean_test_score',\n",
       " 'param_C',\n",
       " 'param_penalty',\n",
       " 'param_solver',\n",
       " 'params',\n",
       " 'rank_test_score',\n",
       " 'split0_test_score',\n",
       " 'std_fit_time',\n",
       " 'std_score_time',\n",
       " 'std_test_score']"
      ]
     },
     "execution_count": 53,
     "metadata": {},
     "output_type": "execute_result"
    }
   ],
   "source": [
    "sorted(clf.cv_results_.keys())"
   ]
  },
  {
   "cell_type": "code",
   "execution_count": 54,
   "metadata": {},
   "outputs": [
    {
     "data": {
      "text/plain": [
       "{'mean_fit_time': array([1.94592094, 1.91009903, 1.87635875, 1.98597407, 1.89020276,\n",
       "        1.93501592, 1.96082211, 1.98213601]),\n",
       " 'std_fit_time': array([0., 0., 0., 0., 0., 0., 0., 0.]),\n",
       " 'mean_score_time': array([0.09735703, 0.04570985, 0.05060029, 0.04760289, 0.04763007,\n",
       "        0.04622197, 0.04494905, 0.04705477]),\n",
       " 'std_score_time': array([0., 0., 0., 0., 0., 0., 0., 0.]),\n",
       " 'param_C': masked_array(data=[0.5, 0.5, 1.0, 1.0, 2.0, 2.0, 10.0, 10.0],\n",
       "              mask=[False, False, False, False, False, False, False, False],\n",
       "        fill_value='?',\n",
       "             dtype=object),\n",
       " 'param_penalty': masked_array(data=['l1', 'l2', 'l1', 'l2', 'l1', 'l2', 'l1', 'l2'],\n",
       "              mask=[False, False, False, False, False, False, False, False],\n",
       "        fill_value='?',\n",
       "             dtype=object),\n",
       " 'param_solver': masked_array(data=['liblinear', 'liblinear', 'liblinear', 'liblinear',\n",
       "                    'liblinear', 'liblinear', 'liblinear', 'liblinear'],\n",
       "              mask=[False, False, False, False, False, False, False, False],\n",
       "        fill_value='?',\n",
       "             dtype=object),\n",
       " 'params': [{'C': 0.5, 'penalty': 'l1', 'solver': 'liblinear'},\n",
       "  {'C': 0.5, 'penalty': 'l2', 'solver': 'liblinear'},\n",
       "  {'C': 1.0, 'penalty': 'l1', 'solver': 'liblinear'},\n",
       "  {'C': 1.0, 'penalty': 'l2', 'solver': 'liblinear'},\n",
       "  {'C': 2.0, 'penalty': 'l1', 'solver': 'liblinear'},\n",
       "  {'C': 2.0, 'penalty': 'l2', 'solver': 'liblinear'},\n",
       "  {'C': 10.0, 'penalty': 'l1', 'solver': 'liblinear'},\n",
       "  {'C': 10.0, 'penalty': 'l2', 'solver': 'liblinear'}],\n",
       " 'split0_test_score': array([0.86731634, 0.8988006 , 0.89130435, 0.90854573, 0.90704648,\n",
       "        0.9107946 , 0.90929535, 0.91229385]),\n",
       " 'mean_test_score': array([0.86731634, 0.8988006 , 0.89130435, 0.90854573, 0.90704648,\n",
       "        0.9107946 , 0.90929535, 0.91229385]),\n",
       " 'std_test_score': array([0., 0., 0., 0., 0., 0., 0., 0.]),\n",
       " 'rank_test_score': array([8, 6, 7, 4, 5, 2, 3, 1], dtype=int32)}"
      ]
     },
     "execution_count": 54,
     "metadata": {},
     "output_type": "execute_result"
    }
   ],
   "source": [
    "clf.cv_results_"
   ]
  },
  {
   "cell_type": "code",
   "execution_count": 55,
   "metadata": {},
   "outputs": [],
   "source": [
    "best_lr = LogisticRegression(**clf.best_params_, multi_class='auto')"
   ]
  },
  {
   "cell_type": "code",
   "execution_count": 56,
   "metadata": {},
   "outputs": [
    {
     "data": {
      "text/plain": [
       "LogisticRegression(C=10.0, class_weight=None, dual=False, fit_intercept=True,\n",
       "                   intercept_scaling=1, l1_ratio=None, max_iter=100,\n",
       "                   multi_class='auto', n_jobs=None, penalty='l2',\n",
       "                   random_state=None, solver='liblinear', tol=0.0001, verbose=0,\n",
       "                   warm_start=False)"
      ]
     },
     "execution_count": 56,
     "metadata": {},
     "output_type": "execute_result"
    }
   ],
   "source": [
    "best_lr.fit(X_train, y_train)"
   ]
  },
  {
   "cell_type": "code",
   "execution_count": 57,
   "metadata": {},
   "outputs": [],
   "source": [
    "y_bestpredict = best_lr.predict(X_test)"
   ]
  },
  {
   "cell_type": "code",
   "execution_count": 58,
   "metadata": {},
   "outputs": [
    {
     "data": {
      "text/plain": [
       "0.9812593703148426"
      ]
     },
     "execution_count": 58,
     "metadata": {},
     "output_type": "execute_result"
    }
   ],
   "source": [
    "accuracy_score(y_bestpredict, y_test)"
   ]
  }
 ],
 "metadata": {
  "kernelspec": {
   "display_name": "Python 3",
   "language": "python",
   "name": "python3"
  },
  "language_info": {
   "codemirror_mode": {
    "name": "ipython",
    "version": 3
   },
   "file_extension": ".py",
   "mimetype": "text/x-python",
   "name": "python",
   "nbconvert_exporter": "python",
   "pygments_lexer": "ipython3",
   "version": "3.7.3"
  }
 },
 "nbformat": 4,
 "nbformat_minor": 4
}
